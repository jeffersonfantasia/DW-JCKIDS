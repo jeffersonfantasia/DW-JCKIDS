{
    "metadata": {
        "kernelspec": {
            "name": "SQL",
            "display_name": "SQL",
            "language": "sql"
        },
        "language_info": {
            "name": "sql",
            "version": ""
        }
    },
    "nbformat_minor": 2,
    "nbformat": 4,
    "cells": [
        {
            "cell_type": "markdown",
            "source": [
                "# **TABELA MARCA**"
            ],
            "metadata": {
                "azdata_cell_guid": "b052493a-6aac-434f-b59d-4c34a11d3890"
            },
            "attachments": {}
        },
        {
            "cell_type": "markdown",
            "source": [
                "Carregando as informações para a tabela Marca"
            ],
            "metadata": {
                "azdata_cell_guid": "0636e7a3-63e7-4953-836d-8dcecef320a8",
                "language": ""
            },
            "attachments": {}
        },
        {
            "cell_type": "code",
            "source": [
                "CREATE OR ALTER PROCEDURE SP_CARREGA_MARCA\n",
                "    @CODMARCA SMALLINT,\n",
                "    @MARCA   NVARCHAR (40),\n",
                "    @ATIVO    CHAR (1)\n",
                "AS\n",
                "BEGIN    \n",
                "    ----faz o merge das informações\n",
                "        IF EXISTS (SELECT 1 FROM MARCA WHERE CODMARCA = @CODMARCA)\n",
                "\t\t\tBEGIN\n",
                "\t\t\tUPDATE MARCA SET MARCA = @MARCA, ATIVO = @ATIVO WHERE CODMARCA = @CODMARCA\n",
                "\t\tEND\n",
                "    \tELSE\n",
                "\t\t\tBEGIN\n",
                "\t\t\tINSERT INTO MARCA (CODMARCA, MARCA, ATIVO)\n",
                "\t\t\tVALUES (@CODMARCA, @MARCA, @ATIVO)\n",
                "\tEND\n",
                "END"
            ],
            "metadata": {
                "azdata_cell_guid": "a9352589-466c-4d01-87eb-9077098a9082",
                "language": "sql",
                "tags": []
            },
            "outputs": [
                {
                    "output_type": "display_data",
                    "data": {
                        "text/html": "Commands completed successfully."
                    },
                    "metadata": {}
                },
                {
                    "output_type": "display_data",
                    "data": {
                        "text/html": "Total execution time: 00:00:00.016"
                    },
                    "metadata": {}
                }
            ],
            "execution_count": 1
        },
        {
            "cell_type": "code",
            "source": [
                "SELECT * FROM MARCA"
            ],
            "metadata": {
                "language": "sql",
                "azdata_cell_guid": "03f2d6b9-1950-45e9-9973-678af7bc5e6e"
            },
            "outputs": [
{
    "output_type": "display_data",
    "data": {
        "text/html": "(219 rows affected)"
    },
    "metadata": {}
}, {
    "output_type": "display_data",
    "data": {
        "text/html": "Total execution time: 00:00:00.018"
    },
    "metadata": {}
}, {
    "output_type": "execute_result",
    "metadata": {},
    "execution_count": 4,
    "data": {
        "application/vnd.dataresource+json": {
            "schema": {
                "fields": [
                    {
                        "name": "CodMarca"
                    },
                    {
                        "name": "Marca"
                    },
                    {
                        "name": "Ativo"
                    }
                ]
            },
            "data": [
                {
                    "CodMarca": "86",
                    "Marca": "* INATIVO BBRA",
                    "Ativo": "N"
                },
                {
                    "CodMarca": "116",
                    "Marca": "ABRAKIDABRA",
                    "Ativo": "S"
                },
                {
                    "CodMarca": "183",
                    "Marca": "ACRILEX",
                    "Ativo": "S"
                },
                {
                    "CodMarca": "195",
                    "Marca": "ADIJOMAR",
                    "Ativo": "S"
                },
                {
                    "CodMarca": "83",
                    "Marca": "ALGAZARRA",
                    "Ativo": "S"
                },
                {
                    "CodMarca": "46",
                    "Marca": "ALPHA",
                    "Ativo": "S"
                },
                {
                    "CodMarca": "220",
                    "Marca": "ANGEL",
                    "Ativo": "S"
                },
                {
                    "CodMarca": "163",
                    "Marca": "ANICO",
                    "Ativo": "S"
                },
                {
                    "CodMarca": "2",
                    "Marca": "ANJOS BABY",
                    "Ativo": "S"
                },
                {
                    "CodMarca": "84",
                    "Marca": "ANNA JULIA BRINQUEDOS",
                    "Ativo": "S"
                },
                {
                    "CodMarca": "194",
                    "Marca": "ARGOX",
                    "Ativo": "S"
                },
                {
                    "CodMarca": "131",
                    "Marca": "ART BRINK",
                    "Ativo": "S"
                },
                {
                    "CodMarca": "156",
                    "Marca": "ARTVINCO",
                    "Ativo": "S"
                },
                {
                    "CodMarca": "178",
                    "Marca": "ASCA TOYS",
                    "Ativo": "S"
                },
                {
                    "CodMarca": "161",
                    "Marca": "AVENT",
                    "Ativo": "S"
                },
                {
                    "CodMarca": "47",
                    "Marca": "BABY BRINK",
                    "Ativo": "S"
                },
                {
                    "CodMarca": "57",
                    "Marca": "BANBAO",
                    "Ativo": "S"
                },
                {
                    "CodMarca": "19",
                    "Marca": "BANDEIRANTE",
                    "Ativo": "S"
                },
                {
                    "CodMarca": "111",
                    "Marca": "BANGTOYS",
                    "Ativo": "S"
                },
                {
                    "CodMarca": "176",
                    "Marca": "BBR TOYS",
                    "Ativo": "S"
                },
                {
                    "CodMarca": "217",
                    "Marca": "BEBELIÊ",
                    "Ativo": "S"
                },
                {
                    "CodMarca": "91",
                    "Marca": "BEE TOYS",
                    "Ativo": "S"
                },
                {
                    "CodMarca": "187",
                    "Marca": "BEEKID",
                    "Ativo": "S"
                },
                {
                    "CodMarca": "151",
                    "Marca": "BELFIX",
                    "Ativo": "S"
                },
                {
                    "CodMarca": "158",
                    "Marca": "BELLA ARTY",
                    "Ativo": "S"
                },
                {
                    "CodMarca": "4",
                    "Marca": "BIG STAR",
                    "Ativo": "S"
                },
                {
                    "CodMarca": "61",
                    "Marca": "BM3 ",
                    "Ativo": "S"
                },
                {
                    "CodMarca": "212",
                    "Marca": "BM36",
                    "Ativo": "S"
                },
                {
                    "CodMarca": "103",
                    "Marca": "BOLAS CANARINHA",
                    "Ativo": "S"
                },
                {
                    "CodMarca": "76",
                    "Marca": "BRASKIT",
                    "Ativo": "S"
                },
                {
                    "CodMarca": "21",
                    "Marca": "BRINCADEIRA DE CRIANCA",
                    "Ativo": "S"
                },
                {
                    "CodMarca": "184",
                    "Marca": "BRINK MODEL",
                    "Ativo": "S"
                },
                {
                    "CodMarca": "85",
                    "Marca": "BRINKSHOP",
                    "Ativo": "S"
                },
                {
                    "CodMarca": "89",
                    "Marca": "BRINQUEDOS ANJO",
                    "Ativo": "S"
                },
                {
                    "CodMarca": "22",
                    "Marca": "BUBA",
                    "Ativo": "S"
                },
                {
                    "CodMarca": "23",
                    "Marca": "BUNGEE",
                    "Ativo": "S"
                },
                {
                    "CodMarca": "164",
                    "Marca": "BURIGOTTO",
                    "Ativo": "S"
                },
                {
                    "CodMarca": "88",
                    "Marca": "C MART TOYS",
                    "Ativo": "S"
                },
                {
                    "CodMarca": "24",
                    "Marca": "CALESITA",
                    "Ativo": "S"
                },
                {
                    "CodMarca": "198",
                    "Marca": "CALOI",
                    "Ativo": "S"
                },
                {
                    "CodMarca": "123",
                    "Marca": "CANDIDE",
                    "Ativo": "S"
                },
                {
                    "CodMarca": "54",
                    "Marca": "CAPITAL TRADE",
                    "Ativo": "S"
                },
                {
                    "CodMarca": "59",
                    "Marca": "CARDOSO",
                    "Ativo": "S"
                },
                {
                    "CodMarca": "200",
                    "Marca": "CATAPULTA",
                    "Ativo": "S"
                },
                {
                    "CodMarca": "97",
                    "Marca": "CBI",
                    "Ativo": "S"
                },
                {
                    "CodMarca": "14",
                    "Marca": "CHENSON",
                    "Ativo": "S"
                },
                {
                    "CodMarca": "162",
                    "Marca": "CHICCO",
                    "Ativo": "S"
                },
                {
                    "CodMarca": "193",
                    "Marca": "CIA DO MOVEL",
                    "Ativo": "S"
                },
                {
                    "CodMarca": "98",
                    "Marca": "CKS",
                    "Ativo": "S"
                },
                {
                    "CodMarca": "138",
                    "Marca": "CLIO STYLE",
                    "Ativo": "S"
                },
                {
                    "CodMarca": "142",
                    "Marca": "COLLI",
                    "Ativo": "S"
                },
                {
                    "CodMarca": "219",
                    "Marca": "COLUNA",
                    "Ativo": "S"
                },
                {
                    "CodMarca": "25",
                    "Marca": "CONTHEY",
                    "Ativo": "S"
                },
                {
                    "CodMarca": "26",
                    "Marca": "COPAG",
                    "Ativo": "S"
                },
                {
                    "CodMarca": "62",
                    "Marca": "CORTEX",
                    "Ativo": "S"
                },
                {
                    "CodMarca": "117",
                    "Marca": "COTIPLAS",
                    "Ativo": "S"
                },
                {
                    "CodMarca": "115",
                    "Marca": "CRAYOLA",
                    "Ativo": "S"
                },
                {
                    "CodMarca": "215",
                    "Marca": "CUBER",
                    "Ativo": "S"
                },
                {
                    "CodMarca": "191",
                    "Marca": "CYBEX",
                    "Ativo": "S"
                },
                {
                    "CodMarca": "63",
                    "Marca": "DCL",
                    "Ativo": "S"
                },
                {
                    "CodMarca": "128",
                    "Marca": "DELL",
                    "Ativo": "S"
                },
                {
                    "CodMarca": "146",
                    "Marca": "DERMIWIL",
                    "Ativo": "N"
                },
                {
                    "CodMarca": "28",
                    "Marca": "DERMIWIL",
                    "Ativo": "S"
                },
                {
                    "CodMarca": "6",
                    "Marca": "DIAMONDS",
                    "Ativo": "S"
                },
                {
                    "CodMarca": "106",
                    "Marca": "DICAN",
                    "Ativo": "S"
                },
                {
                    "CodMarca": "214",
                    "Marca": "DICAN",
                    "Ativo": "S"
                },
                {
                    "CodMarca": "186",
                    "Marca": "DIMEP",
                    "Ativo": "S"
                },
                {
                    "CodMarca": "139",
                    "Marca": "DISMAT",
                    "Ativo": "S"
                },
                {
                    "CodMarca": "70",
                    "Marca": "DISNEY DVD",
                    "Ativo": "S"
                },
                {
                    "CodMarca": "80",
                    "Marca": "DIVERTIX",
                    "Ativo": "S"
                },
                {
                    "CodMarca": "197",
                    "Marca": "DIVERTOYS",
                    "Ativo": "S"
                },
                {
                    "CodMarca": "177",
                    "Marca": "DOCE BRINQUEDO",
                    "Ativo": "S"
                },
                {
                    "CodMarca": "202",
                    "Marca": "DOLCE HOME",
                    "Ativo": "S"
                },
                {
                    "CodMarca": "7",
                    "Marca": "DTC",
                    "Ativo": "S"
                },
                {
                    "CodMarca": "29",
                    "Marca": "DURACELL",
                    "Ativo": "S"
                },
                {
                    "CodMarca": "173",
                    "Marca": "EDITORA ESTRELA CULTURAL",
                    "Ativo": "S"
                },
                {
                    "CodMarca": "3",
                    "Marca": "ELGIN",
                    "Ativo": "S"
                },
                {
                    "CodMarca": "8",
                    "Marca": "ELKA",
                    "Ativo": "S"
                },
                {
                    "CodMarca": "101",
                    "Marca": "EPOCH MAGIA",
                    "Ativo": "S"
                },
                {
                    "CodMarca": "1",
                    "Marca": "ESTRELA",
                    "Ativo": "S"
                },
                {
                    "CodMarca": "133",
                    "Marca": "EVAMAX",
                    "Ativo": "S"
                },
                {
                    "CodMarca": "94",
                    "Marca": "FEMACELL",
                    "Ativo": "S"
                },
                {
                    "CodMarca": "30",
                    "Marca": "FENIX",
                    "Ativo": "S"
                },
                {
                    "CodMarca": "168",
                    "Marca": "FENIX CONFECCAO",
                    "Ativo": "S"
                },
                {
                    "CodMarca": "9",
                    "Marca": "FENZZA",
                    "Ativo": "S"
                },
                {
                    "CodMarca": "175",
                    "Marca": "FLATEX",
                    "Ativo": "S"
                },
                {
                    "CodMarca": "53",
                    "Marca": "FRESCOR",
                    "Ativo": "S"
                },
                {
                    "CodMarca": "134",
                    "Marca": "FRESO",
                    "Ativo": "S"
                },
                {
                    "CodMarca": "20",
                    "Marca": "FUN TOYS",
                    "Ativo": "S"
                },
                {
                    "CodMarca": "141",
                    "Marca": "GALAPAGOS",
                    "Ativo": "S"
                },
                {
                    "CodMarca": "171",
                    "Marca": "GALZERANO",
                    "Ativo": "S"
                },
                {
                    "CodMarca": "192",
                    "Marca": "GB",
                    "Ativo": "S"
                },
                {
                    "CodMarca": "120",
                    "Marca": "GESSELE",
                    "Ativo": "S"
                },
                {
                    "CodMarca": "93",
                    "Marca": "GRAFONS",
                    "Ativo": "S"
                },
                {
                    "CodMarca": "109",
                    "Marca": "GRAN EXPRESSO",
                    "Ativo": "S"
                },
                {
                    "CodMarca": "31",
                    "Marca": "GROW",
                    "Ativo": "S"
                },
                {
                    "CodMarca": "32",
                    "Marca": "GULLIVER",
                    "Ativo": "S"
                },
                {
                    "CodMarca": "153",
                    "Marca": "H7",
                    "Ativo": "S"
                },
                {
                    "CodMarca": "10",
                    "Marca": "HASBRO",
                    "Ativo": "S"
                },
                {
                    "CodMarca": "11",
                    "Marca": "HOMEPLAY",
                    "Ativo": "S"
                },
                {
                    "CodMarca": "127",
                    "Marca": "IMPORTADO",
                    "Ativo": "S"
                },
                {
                    "CodMarca": "77",
                    "Marca": "IN BRASIL",
                    "Ativo": "S"
                },
                {
                    "CodMarca": "165",
                    "Marca": "INFANTI",
                    "Ativo": "S"
                },
                {
                    "CodMarca": "107",
                    "Marca": "INTEK",
                    "Ativo": "S"
                },
                {
                    "CodMarca": "207",
                    "Marca": "INTEX",
                    "Ativo": "S"
                },
                {
                    "CodMarca": "160",
                    "Marca": "ISANOG",
                    "Ativo": "S"
                },
                {
                    "CodMarca": "12",
                    "Marca": "JACKI DESIGN",
                    "Ativo": "S"
                },
                {
                    "CodMarca": "118",
                    "Marca": "JAPS",
                    "Ativo": "S"
                },
                {
                    "CodMarca": "170",
                    "Marca": "KANXA",
                    "Ativo": "S"
                },
                {
                    "CodMarca": "199",
                    "Marca": "KIDDO",
                    "Ativo": "S"
                },
                {
                    "CodMarca": "135",
                    "Marca": "KIMASTER",
                    "Ativo": "S"
                },
                {
                    "CodMarca": "55",
                    "Marca": "KI-TOK",
                    "Ativo": "S"
                },
                {
                    "CodMarca": "90",
                    "Marca": "KROMO",
                    "Ativo": "S"
                },
                {
                    "CodMarca": "155",
                    "Marca": "KUKA",
                    "Ativo": "S"
                },
                {
                    "CodMarca": "78",
                    "Marca": "LACO DE FITA",
                    "Ativo": "S"
                },
                {
                    "CodMarca": "33",
                    "Marca": "LEGO",
                    "Ativo": "S"
                },
                {
                    "CodMarca": "34",
                    "Marca": "LIDER",
                    "Ativo": "S"
                },
                {
                    "CodMarca": "148",
                    "Marca": "LIKE",
                    "Ativo": "S"
                },
                {
                    "CodMarca": "119",
                    "Marca": "LITTLE TIKES",
                    "Ativo": "S"
                },
                {
                    "CodMarca": "35",
                    "Marca": "LONG JUMP",
                    "Ativo": "S"
                },
                {
                    "CodMarca": "108",
                    "Marca": "LOTUS",
                    "Ativo": "S"
                },
                {
                    "CodMarca": "201",
                    "Marca": "LOVELY TOYS",
                    "Ativo": "S"
                },
                {
                    "CodMarca": "208",
                    "Marca": "LUDI CLUB",
                    "Ativo": "S"
                },
                {
                    "CodMarca": "180",
                    "Marca": "LUXCEL",
                    "Ativo": "S"
                },
                {
                    "CodMarca": "79",
                    "Marca": "M&P",
                    "Ativo": "S"
                },
                {
                    "CodMarca": "74",
                    "Marca": "MAGIC TOYS",
                    "Ativo": "S"
                },
                {
                    "CodMarca": "69",
                    "Marca": "MAISTO",
                    "Ativo": "S"
                },
                {
                    "CodMarca": "169",
                    "Marca": "MAM",
                    "Ativo": "S"
                },
                {
                    "CodMarca": "210",
                    "Marca": "MANTICA",
                    "Ativo": "S"
                },
                {
                    "CodMarca": "36",
                    "Marca": "MAPTOY",
                    "Ativo": "S"
                },
                {
                    "CodMarca": "213",
                    "Marca": "MARAL",
                    "Ativo": "S"
                },
                {
                    "CodMarca": "37",
                    "Marca": "MATTEL",
                    "Ativo": "S"
                },
                {
                    "CodMarca": "166",
                    "Marca": "MAXI-COSI",
                    "Ativo": "S"
                },
                {
                    "CodMarca": "181",
                    "Marca": "MAXTOY",
                    "Ativo": "S"
                },
                {
                    "CodMarca": "73",
                    "Marca": "MIELLE",
                    "Ativo": "S"
                },
                {
                    "CodMarca": "13",
                    "Marca": "MILK",
                    "Ativo": "S"
                },
                {
                    "CodMarca": "38",
                    "Marca": "MIMO",
                    "Ativo": "S"
                },
                {
                    "CodMarca": "39",
                    "Marca": "MOR",
                    "Ativo": "S"
                },
                {
                    "CodMarca": "40",
                    "Marca": "MULTIBRINK",
                    "Ativo": "S"
                },
                {
                    "CodMarca": "185",
                    "Marca": "MULTIKIDS BABY",
                    "Ativo": "S"
                },
                {
                    "CodMarca": "71",
                    "Marca": "MULTILASER",
                    "Ativo": "S"
                },
                {
                    "CodMarca": "172",
                    "Marca": "MY MAX",
                    "Ativo": "S"
                },
                {
                    "CodMarca": "140",
                    "Marca": "NATHOR",
                    "Ativo": "S"
                },
                {
                    "CodMarca": "188",
                    "Marca": "NATHYPEL",
                    "Ativo": "S"
                },
                {
                    "CodMarca": "121",
                    "Marca": "NATIONAL GEOGRAPHIC",
                    "Ativo": "S"
                },
                {
                    "CodMarca": "81",
                    "Marca": "NAUTIKA",
                    "Ativo": "S"
                },
                {
                    "CodMarca": "58",
                    "Marca": "NEW TOYS",
                    "Ativo": "S"
                },
                {
                    "CodMarca": "82",
                    "Marca": "NIG BRINQUEDOS",
                    "Ativo": "S"
                },
                {
                    "CodMarca": "218",
                    "Marca": "OMG KIDS",
                    "Ativo": "S"
                },
                {
                    "CodMarca": "136",
                    "Marca": "ONE SPORT",
                    "Ativo": "S"
                },
                {
                    "CodMarca": "152",
                    "Marca": "OPCAO EMB",
                    "Ativo": "S"
                },
                {
                    "CodMarca": "68",
                    "Marca": "ORANGE",
                    "Ativo": "S"
                },
                {
                    "CodMarca": "149",
                    "Marca": "ORBEA",
                    "Ativo": "S"
                },
                {
                    "CodMarca": "48",
                    "Marca": "OREGON",
                    "Ativo": "S"
                },
                {
                    "CodMarca": "95",
                    "Marca": "PACIFIC",
                    "Ativo": "S"
                },
                {
                    "CodMarca": "15",
                    "Marca": "PAIS E FILHOS",
                    "Ativo": "S"
                },
                {
                    "CodMarca": "145",
                    "Marca": "PANASONIC",
                    "Ativo": "S"
                },
                {
                    "CodMarca": "96",
                    "Marca": "PAULIENNE",
                    "Ativo": "S"
                },
                {
                    "CodMarca": "182",
                    "Marca": "PEG PEREGO",
                    "Ativo": "S"
                },
                {
                    "CodMarca": "204",
                    "Marca": "PHILIPS",
                    "Ativo": "S"
                },
                {
                    "CodMarca": "92",
                    "Marca": "PHORWORK",
                    "Ativo": "S"
                },
                {
                    "CodMarca": "174",
                    "Marca": "PLANETA",
                    "Ativo": "S"
                },
                {
                    "CodMarca": "203",
                    "Marca": "PLASHOME",
                    "Ativo": "S"
                },
                {
                    "CodMarca": "87",
                    "Marca": "PLASTILINDO",
                    "Ativo": "S"
                },
                {
                    "CodMarca": "137",
                    "Marca": "PROVIDER",
                    "Ativo": "S"
                },
                {
                    "CodMarca": "190",
                    "Marca": "PUBLIFORMAS",
                    "Ativo": "S"
                },
                {
                    "CodMarca": "196",
                    "Marca": "PUPEE",
                    "Ativo": "S"
                },
                {
                    "CodMarca": "125",
                    "Marca": "PURA DIVERSÃO",
                    "Ativo": "S"
                },
                {
                    "CodMarca": "129",
                    "Marca": "RCA",
                    "Ativo": "S"
                },
                {
                    "CodMarca": "157",
                    "Marca": "REALTEX",
                    "Ativo": "S"
                },
                {
                    "CodMarca": "102",
                    "Marca": "ROSITA",
                    "Ativo": "S"
                },
                {
                    "CodMarca": "41",
                    "Marca": "ROTOBRINQ",
                    "Ativo": "S"
                },
                {
                    "CodMarca": "50",
                    "Marca": "RUBIES",
                    "Ativo": "S"
                },
                {
                    "CodMarca": "167",
                    "Marca": "SAFETY 1ST",
                    "Ativo": "S"
                },
                {
                    "CodMarca": "209",
                    "Marca": "SAKES",
                    "Ativo": "S"
                },
                {
                    "CodMarca": "130",
                    "Marca": "SAMBA TOYS",
                    "Ativo": "S"
                },
                {
                    "CodMarca": "110",
                    "Marca": "SAMSUNG",
                    "Ativo": "S"
                },
                {
                    "CodMarca": "147",
                    "Marca": "SANTINO",
                    "Ativo": "S"
                },
                {
                    "CodMarca": "49",
                    "Marca": "SEANITE",
                    "Ativo": "S"
                },
                {
                    "CodMarca": "66",
                    "Marca": "SEMANN",
                    "Ativo": "S"
                },
                {
                    "CodMarca": "17",
                    "Marca": "SESTINI",
                    "Ativo": "S"
                },
                {
                    "CodMarca": "65",
                    "Marca": "SEVEN",
                    "Ativo": "S"
                },
                {
                    "CodMarca": "16",
                    "Marca": "SHIKAS",
                    "Ativo": "S"
                },
                {
                    "CodMarca": "105",
                    "Marca": "SHINY TOYS",
                    "Ativo": "S"
                },
                {
                    "CodMarca": "216",
                    "Marca": "SIGMAFLEX",
                    "Ativo": "S"
                },
                {
                    "CodMarca": "144",
                    "Marca": "SKY",
                    "Ativo": "S"
                },
                {
                    "CodMarca": "27",
                    "Marca": "SOCCER STARZ",
                    "Ativo": "S"
                },
                {
                    "CodMarca": "124",
                    "Marca": "SOFT BABY",
                    "Ativo": "S"
                },
                {
                    "CodMarca": "67",
                    "Marca": "SONATA",
                    "Ativo": "S"
                },
                {
                    "CodMarca": "122",
                    "Marca": "SP OXIGENIO",
                    "Ativo": "S"
                },
                {
                    "CodMarca": "5",
                    "Marca": "SPEEDO",
                    "Ativo": "S"
                },
                {
                    "CodMarca": "150",
                    "Marca": "STYLL BABY",
                    "Ativo": "S"
                },
                {
                    "CodMarca": "179",
                    "Marca": "SULAMERICANA",
                    "Ativo": "S"
                },
                {
                    "CodMarca": "42",
                    "Marca": "SUNDOWN",
                    "Ativo": "S"
                },
                {
                    "CodMarca": "43",
                    "Marca": "SUNNY",
                    "Ativo": "S"
                },
                {
                    "CodMarca": "189",
                    "Marca": "SUPER BOLHAS",
                    "Ativo": "S"
                },
                {
                    "CodMarca": "154",
                    "Marca": "SUPER TOYS",
                    "Ativo": "S"
                },
                {
                    "CodMarca": "75",
                    "Marca": "T.Y.L",
                    "Ativo": "S"
                },
                {
                    "CodMarca": "223",
                    "Marca": "TECNIL",
                    "Ativo": "S"
                },
                {
                    "CodMarca": "112",
                    "Marca": "TOMY",
                    "Ativo": "S"
                },
                {
                    "CodMarca": "205",
                    "Marca": "TOP TAG",
                    "Ativo": "S"
                },
                {
                    "CodMarca": "44",
                    "Marca": "TOYNG",
                    "Ativo": "S"
                },
                {
                    "CodMarca": "72",
                    "Marca": "TOYSTER",
                    "Ativo": "S"
                },
                {
                    "CodMarca": "18",
                    "Marca": "USUAL PLASTIC",
                    "Ativo": "S"
                },
                {
                    "CodMarca": "52",
                    "Marca": "VALE DAS LETRAS",
                    "Ativo": "S"
                },
                {
                    "CodMarca": "126",
                    "Marca": "VERDEN BIKES",
                    "Ativo": "S"
                },
                {
                    "CodMarca": "211",
                    "Marca": "VIEW COSMETICOS",
                    "Ativo": "S"
                },
                {
                    "CodMarca": "114",
                    "Marca": "VTECH",
                    "Ativo": "S"
                },
                {
                    "CodMarca": "113",
                    "Marca": "WINFUN",
                    "Ativo": "S"
                },
                {
                    "CodMarca": "100",
                    "Marca": "XALINGO",
                    "Ativo": "S"
                },
                {
                    "CodMarca": "206",
                    "Marca": "XALINGO PLAY",
                    "Ativo": "S"
                },
                {
                    "CodMarca": "51",
                    "Marca": "XERYUS",
                    "Ativo": "S"
                },
                {
                    "CodMarca": "45",
                    "Marca": "YELLOW",
                    "Ativo": "S"
                },
                {
                    "CodMarca": "99",
                    "Marca": "YES TOYS",
                    "Ativo": "S"
                },
                {
                    "CodMarca": "64",
                    "Marca": "Z.B. ALVES ",
                    "Ativo": "S"
                },
                {
                    "CodMarca": "159",
                    "Marca": "ZEBRA",
                    "Ativo": "S"
                },
                {
                    "CodMarca": "104",
                    "Marca": "ZIPPY TOYS",
                    "Ativo": "S"
                },
                {
                    "CodMarca": "143",
                    "Marca": "ZONA CRIATIVA",
                    "Ativo": "S"
                },
                {
                    "CodMarca": "132",
                    "Marca": "ZR TOYS",
                    "Ativo": "S"
                }
            ]
        },
        "text/html": [
            "<table>",
            "<tr><th>CodMarca</th><th>Marca</th><th>Ativo</th></tr>",
            "<tr><td>86</td><td>* INATIVO BBRA</td><td>N</td></tr>",
            "<tr><td>116</td><td>ABRAKIDABRA</td><td>S</td></tr>",
            "<tr><td>183</td><td>ACRILEX</td><td>S</td></tr>",
            "<tr><td>195</td><td>ADIJOMAR</td><td>S</td></tr>",
            "<tr><td>83</td><td>ALGAZARRA</td><td>S</td></tr>",
            "<tr><td>46</td><td>ALPHA</td><td>S</td></tr>",
            "<tr><td>220</td><td>ANGEL</td><td>S</td></tr>",
            "<tr><td>163</td><td>ANICO</td><td>S</td></tr>",
            "<tr><td>2</td><td>ANJOS BABY</td><td>S</td></tr>",
            "<tr><td>84</td><td>ANNA JULIA BRINQUEDOS</td><td>S</td></tr>",
            "<tr><td>194</td><td>ARGOX</td><td>S</td></tr>",
            "<tr><td>131</td><td>ART BRINK</td><td>S</td></tr>",
            "<tr><td>156</td><td>ARTVINCO</td><td>S</td></tr>",
            "<tr><td>178</td><td>ASCA TOYS</td><td>S</td></tr>",
            "<tr><td>161</td><td>AVENT</td><td>S</td></tr>",
            "<tr><td>47</td><td>BABY BRINK</td><td>S</td></tr>",
            "<tr><td>57</td><td>BANBAO</td><td>S</td></tr>",
            "<tr><td>19</td><td>BANDEIRANTE</td><td>S</td></tr>",
            "<tr><td>111</td><td>BANGTOYS</td><td>S</td></tr>",
            "<tr><td>176</td><td>BBR TOYS</td><td>S</td></tr>",
            "<tr><td>217</td><td>BEBELIÊ</td><td>S</td></tr>",
            "<tr><td>91</td><td>BEE TOYS</td><td>S</td></tr>",
            "<tr><td>187</td><td>BEEKID</td><td>S</td></tr>",
            "<tr><td>151</td><td>BELFIX</td><td>S</td></tr>",
            "<tr><td>158</td><td>BELLA ARTY</td><td>S</td></tr>",
            "<tr><td>4</td><td>BIG STAR</td><td>S</td></tr>",
            "<tr><td>61</td><td>BM3 </td><td>S</td></tr>",
            "<tr><td>212</td><td>BM36</td><td>S</td></tr>",
            "<tr><td>103</td><td>BOLAS CANARINHA</td><td>S</td></tr>",
            "<tr><td>76</td><td>BRASKIT</td><td>S</td></tr>",
            "<tr><td>21</td><td>BRINCADEIRA DE CRIANCA</td><td>S</td></tr>",
            "<tr><td>184</td><td>BRINK MODEL</td><td>S</td></tr>",
            "<tr><td>85</td><td>BRINKSHOP</td><td>S</td></tr>",
            "<tr><td>89</td><td>BRINQUEDOS ANJO</td><td>S</td></tr>",
            "<tr><td>22</td><td>BUBA</td><td>S</td></tr>",
            "<tr><td>23</td><td>BUNGEE</td><td>S</td></tr>",
            "<tr><td>164</td><td>BURIGOTTO</td><td>S</td></tr>",
            "<tr><td>88</td><td>C MART TOYS</td><td>S</td></tr>",
            "<tr><td>24</td><td>CALESITA</td><td>S</td></tr>",
            "<tr><td>198</td><td>CALOI</td><td>S</td></tr>",
            "<tr><td>123</td><td>CANDIDE</td><td>S</td></tr>",
            "<tr><td>54</td><td>CAPITAL TRADE</td><td>S</td></tr>",
            "<tr><td>59</td><td>CARDOSO</td><td>S</td></tr>",
            "<tr><td>200</td><td>CATAPULTA</td><td>S</td></tr>",
            "<tr><td>97</td><td>CBI</td><td>S</td></tr>",
            "<tr><td>14</td><td>CHENSON</td><td>S</td></tr>",
            "<tr><td>162</td><td>CHICCO</td><td>S</td></tr>",
            "<tr><td>193</td><td>CIA DO MOVEL</td><td>S</td></tr>",
            "<tr><td>98</td><td>CKS</td><td>S</td></tr>",
            "<tr><td>138</td><td>CLIO STYLE</td><td>S</td></tr>",
            "<tr><td>142</td><td>COLLI</td><td>S</td></tr>",
            "<tr><td>219</td><td>COLUNA</td><td>S</td></tr>",
            "<tr><td>25</td><td>CONTHEY</td><td>S</td></tr>",
            "<tr><td>26</td><td>COPAG</td><td>S</td></tr>",
            "<tr><td>62</td><td>CORTEX</td><td>S</td></tr>",
            "<tr><td>117</td><td>COTIPLAS</td><td>S</td></tr>",
            "<tr><td>115</td><td>CRAYOLA</td><td>S</td></tr>",
            "<tr><td>215</td><td>CUBER</td><td>S</td></tr>",
            "<tr><td>191</td><td>CYBEX</td><td>S</td></tr>",
            "<tr><td>63</td><td>DCL</td><td>S</td></tr>",
            "<tr><td>128</td><td>DELL</td><td>S</td></tr>",
            "<tr><td>146</td><td>DERMIWIL</td><td>N</td></tr>",
            "<tr><td>28</td><td>DERMIWIL</td><td>S</td></tr>",
            "<tr><td>6</td><td>DIAMONDS</td><td>S</td></tr>",
            "<tr><td>106</td><td>DICAN</td><td>S</td></tr>",
            "<tr><td>214</td><td>DICAN</td><td>S</td></tr>",
            "<tr><td>186</td><td>DIMEP</td><td>S</td></tr>",
            "<tr><td>139</td><td>DISMAT</td><td>S</td></tr>",
            "<tr><td>70</td><td>DISNEY DVD</td><td>S</td></tr>",
            "<tr><td>80</td><td>DIVERTIX</td><td>S</td></tr>",
            "<tr><td>197</td><td>DIVERTOYS</td><td>S</td></tr>",
            "<tr><td>177</td><td>DOCE BRINQUEDO</td><td>S</td></tr>",
            "<tr><td>202</td><td>DOLCE HOME</td><td>S</td></tr>",
            "<tr><td>7</td><td>DTC</td><td>S</td></tr>",
            "<tr><td>29</td><td>DURACELL</td><td>S</td></tr>",
            "<tr><td>173</td><td>EDITORA ESTRELA CULTURAL</td><td>S</td></tr>",
            "<tr><td>3</td><td>ELGIN</td><td>S</td></tr>",
            "<tr><td>8</td><td>ELKA</td><td>S</td></tr>",
            "<tr><td>101</td><td>EPOCH MAGIA</td><td>S</td></tr>",
            "<tr><td>1</td><td>ESTRELA</td><td>S</td></tr>",
            "<tr><td>133</td><td>EVAMAX</td><td>S</td></tr>",
            "<tr><td>94</td><td>FEMACELL</td><td>S</td></tr>",
            "<tr><td>30</td><td>FENIX</td><td>S</td></tr>",
            "<tr><td>168</td><td>FENIX CONFECCAO</td><td>S</td></tr>",
            "<tr><td>9</td><td>FENZZA</td><td>S</td></tr>",
            "<tr><td>175</td><td>FLATEX</td><td>S</td></tr>",
            "<tr><td>53</td><td>FRESCOR</td><td>S</td></tr>",
            "<tr><td>134</td><td>FRESO</td><td>S</td></tr>",
            "<tr><td>20</td><td>FUN TOYS</td><td>S</td></tr>",
            "<tr><td>141</td><td>GALAPAGOS</td><td>S</td></tr>",
            "<tr><td>171</td><td>GALZERANO</td><td>S</td></tr>",
            "<tr><td>192</td><td>GB</td><td>S</td></tr>",
            "<tr><td>120</td><td>GESSELE</td><td>S</td></tr>",
            "<tr><td>93</td><td>GRAFONS</td><td>S</td></tr>",
            "<tr><td>109</td><td>GRAN EXPRESSO</td><td>S</td></tr>",
            "<tr><td>31</td><td>GROW</td><td>S</td></tr>",
            "<tr><td>32</td><td>GULLIVER</td><td>S</td></tr>",
            "<tr><td>153</td><td>H7</td><td>S</td></tr>",
            "<tr><td>10</td><td>HASBRO</td><td>S</td></tr>",
            "<tr><td>11</td><td>HOMEPLAY</td><td>S</td></tr>",
            "<tr><td>127</td><td>IMPORTADO</td><td>S</td></tr>",
            "<tr><td>77</td><td>IN BRASIL</td><td>S</td></tr>",
            "<tr><td>165</td><td>INFANTI</td><td>S</td></tr>",
            "<tr><td>107</td><td>INTEK</td><td>S</td></tr>",
            "<tr><td>207</td><td>INTEX</td><td>S</td></tr>",
            "<tr><td>160</td><td>ISANOG</td><td>S</td></tr>",
            "<tr><td>12</td><td>JACKI DESIGN</td><td>S</td></tr>",
            "<tr><td>118</td><td>JAPS</td><td>S</td></tr>",
            "<tr><td>170</td><td>KANXA</td><td>S</td></tr>",
            "<tr><td>199</td><td>KIDDO</td><td>S</td></tr>",
            "<tr><td>135</td><td>KIMASTER</td><td>S</td></tr>",
            "<tr><td>55</td><td>KI-TOK</td><td>S</td></tr>",
            "<tr><td>90</td><td>KROMO</td><td>S</td></tr>",
            "<tr><td>155</td><td>KUKA</td><td>S</td></tr>",
            "<tr><td>78</td><td>LACO DE FITA</td><td>S</td></tr>",
            "<tr><td>33</td><td>LEGO</td><td>S</td></tr>",
            "<tr><td>34</td><td>LIDER</td><td>S</td></tr>",
            "<tr><td>148</td><td>LIKE</td><td>S</td></tr>",
            "<tr><td>119</td><td>LITTLE TIKES</td><td>S</td></tr>",
            "<tr><td>35</td><td>LONG JUMP</td><td>S</td></tr>",
            "<tr><td>108</td><td>LOTUS</td><td>S</td></tr>",
            "<tr><td>201</td><td>LOVELY TOYS</td><td>S</td></tr>",
            "<tr><td>208</td><td>LUDI CLUB</td><td>S</td></tr>",
            "<tr><td>180</td><td>LUXCEL</td><td>S</td></tr>",
            "<tr><td>79</td><td>M&amp;P</td><td>S</td></tr>",
            "<tr><td>74</td><td>MAGIC TOYS</td><td>S</td></tr>",
            "<tr><td>69</td><td>MAISTO</td><td>S</td></tr>",
            "<tr><td>169</td><td>MAM</td><td>S</td></tr>",
            "<tr><td>210</td><td>MANTICA</td><td>S</td></tr>",
            "<tr><td>36</td><td>MAPTOY</td><td>S</td></tr>",
            "<tr><td>213</td><td>MARAL</td><td>S</td></tr>",
            "<tr><td>37</td><td>MATTEL</td><td>S</td></tr>",
            "<tr><td>166</td><td>MAXI-COSI</td><td>S</td></tr>",
            "<tr><td>181</td><td>MAXTOY</td><td>S</td></tr>",
            "<tr><td>73</td><td>MIELLE</td><td>S</td></tr>",
            "<tr><td>13</td><td>MILK</td><td>S</td></tr>",
            "<tr><td>38</td><td>MIMO</td><td>S</td></tr>",
            "<tr><td>39</td><td>MOR</td><td>S</td></tr>",
            "<tr><td>40</td><td>MULTIBRINK</td><td>S</td></tr>",
            "<tr><td>185</td><td>MULTIKIDS BABY</td><td>S</td></tr>",
            "<tr><td>71</td><td>MULTILASER</td><td>S</td></tr>",
            "<tr><td>172</td><td>MY MAX</td><td>S</td></tr>",
            "<tr><td>140</td><td>NATHOR</td><td>S</td></tr>",
            "<tr><td>188</td><td>NATHYPEL</td><td>S</td></tr>",
            "<tr><td>121</td><td>NATIONAL GEOGRAPHIC</td><td>S</td></tr>",
            "<tr><td>81</td><td>NAUTIKA</td><td>S</td></tr>",
            "<tr><td>58</td><td>NEW TOYS</td><td>S</td></tr>",
            "<tr><td>82</td><td>NIG BRINQUEDOS</td><td>S</td></tr>",
            "<tr><td>218</td><td>OMG KIDS</td><td>S</td></tr>",
            "<tr><td>136</td><td>ONE SPORT</td><td>S</td></tr>",
            "<tr><td>152</td><td>OPCAO EMB</td><td>S</td></tr>",
            "<tr><td>68</td><td>ORANGE</td><td>S</td></tr>",
            "<tr><td>149</td><td>ORBEA</td><td>S</td></tr>",
            "<tr><td>48</td><td>OREGON</td><td>S</td></tr>",
            "<tr><td>95</td><td>PACIFIC</td><td>S</td></tr>",
            "<tr><td>15</td><td>PAIS E FILHOS</td><td>S</td></tr>",
            "<tr><td>145</td><td>PANASONIC</td><td>S</td></tr>",
            "<tr><td>96</td><td>PAULIENNE</td><td>S</td></tr>",
            "<tr><td>182</td><td>PEG PEREGO</td><td>S</td></tr>",
            "<tr><td>204</td><td>PHILIPS</td><td>S</td></tr>",
            "<tr><td>92</td><td>PHORWORK</td><td>S</td></tr>",
            "<tr><td>174</td><td>PLANETA</td><td>S</td></tr>",
            "<tr><td>203</td><td>PLASHOME</td><td>S</td></tr>",
            "<tr><td>87</td><td>PLASTILINDO</td><td>S</td></tr>",
            "<tr><td>137</td><td>PROVIDER</td><td>S</td></tr>",
            "<tr><td>190</td><td>PUBLIFORMAS</td><td>S</td></tr>",
            "<tr><td>196</td><td>PUPEE</td><td>S</td></tr>",
            "<tr><td>125</td><td>PURA DIVERSÃO</td><td>S</td></tr>",
            "<tr><td>129</td><td>RCA</td><td>S</td></tr>",
            "<tr><td>157</td><td>REALTEX</td><td>S</td></tr>",
            "<tr><td>102</td><td>ROSITA</td><td>S</td></tr>",
            "<tr><td>41</td><td>ROTOBRINQ</td><td>S</td></tr>",
            "<tr><td>50</td><td>RUBIES</td><td>S</td></tr>",
            "<tr><td>167</td><td>SAFETY 1ST</td><td>S</td></tr>",
            "<tr><td>209</td><td>SAKES</td><td>S</td></tr>",
            "<tr><td>130</td><td>SAMBA TOYS</td><td>S</td></tr>",
            "<tr><td>110</td><td>SAMSUNG</td><td>S</td></tr>",
            "<tr><td>147</td><td>SANTINO</td><td>S</td></tr>",
            "<tr><td>49</td><td>SEANITE</td><td>S</td></tr>",
            "<tr><td>66</td><td>SEMANN</td><td>S</td></tr>",
            "<tr><td>17</td><td>SESTINI</td><td>S</td></tr>",
            "<tr><td>65</td><td>SEVEN</td><td>S</td></tr>",
            "<tr><td>16</td><td>SHIKAS</td><td>S</td></tr>",
            "<tr><td>105</td><td>SHINY TOYS</td><td>S</td></tr>",
            "<tr><td>216</td><td>SIGMAFLEX</td><td>S</td></tr>",
            "<tr><td>144</td><td>SKY</td><td>S</td></tr>",
            "<tr><td>27</td><td>SOCCER STARZ</td><td>S</td></tr>",
            "<tr><td>124</td><td>SOFT BABY</td><td>S</td></tr>",
            "<tr><td>67</td><td>SONATA</td><td>S</td></tr>",
            "<tr><td>122</td><td>SP OXIGENIO</td><td>S</td></tr>",
            "<tr><td>5</td><td>SPEEDO</td><td>S</td></tr>",
            "<tr><td>150</td><td>STYLL BABY</td><td>S</td></tr>",
            "<tr><td>179</td><td>SULAMERICANA</td><td>S</td></tr>",
            "<tr><td>42</td><td>SUNDOWN</td><td>S</td></tr>",
            "<tr><td>43</td><td>SUNNY</td><td>S</td></tr>",
            "<tr><td>189</td><td>SUPER BOLHAS</td><td>S</td></tr>",
            "<tr><td>154</td><td>SUPER TOYS</td><td>S</td></tr>",
            "<tr><td>75</td><td>T.Y.L</td><td>S</td></tr>",
            "<tr><td>223</td><td>TECNIL</td><td>S</td></tr>",
            "<tr><td>112</td><td>TOMY</td><td>S</td></tr>",
            "<tr><td>205</td><td>TOP TAG</td><td>S</td></tr>",
            "<tr><td>44</td><td>TOYNG</td><td>S</td></tr>",
            "<tr><td>72</td><td>TOYSTER</td><td>S</td></tr>",
            "<tr><td>18</td><td>USUAL PLASTIC</td><td>S</td></tr>",
            "<tr><td>52</td><td>VALE DAS LETRAS</td><td>S</td></tr>",
            "<tr><td>126</td><td>VERDEN BIKES</td><td>S</td></tr>",
            "<tr><td>211</td><td>VIEW COSMETICOS</td><td>S</td></tr>",
            "<tr><td>114</td><td>VTECH</td><td>S</td></tr>",
            "<tr><td>113</td><td>WINFUN</td><td>S</td></tr>",
            "<tr><td>100</td><td>XALINGO</td><td>S</td></tr>",
            "<tr><td>206</td><td>XALINGO PLAY</td><td>S</td></tr>",
            "<tr><td>51</td><td>XERYUS</td><td>S</td></tr>",
            "<tr><td>45</td><td>YELLOW</td><td>S</td></tr>",
            "<tr><td>99</td><td>YES TOYS</td><td>S</td></tr>",
            "<tr><td>64</td><td>Z.B. ALVES </td><td>S</td></tr>",
            "<tr><td>159</td><td>ZEBRA</td><td>S</td></tr>",
            "<tr><td>104</td><td>ZIPPY TOYS</td><td>S</td></tr>",
            "<tr><td>143</td><td>ZONA CRIATIVA</td><td>S</td></tr>",
            "<tr><td>132</td><td>ZR TOYS</td><td>S</td></tr>",
            "</table>"
        ]
    }
}
],
            "execution_count": 4
        }
    ]
}