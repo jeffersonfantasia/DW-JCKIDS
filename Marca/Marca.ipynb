{
    "metadata": {
        "kernelspec": {
            "name": "SQL",
            "display_name": "SQL",
            "language": "sql"
        },
        "language_info": {
            "name": "sql",
            "version": ""
        }
    },
    "nbformat_minor": 2,
    "nbformat": 4,
    "cells": [
        {
            "cell_type": "markdown",
            "source": [
                "# **TABELA MARCA**"
            ],
            "metadata": {
                "azdata_cell_guid": "b052493a-6aac-434f-b59d-4c34a11d3890"
            },
            "attachments": {}
        },
        {
            "cell_type": "markdown",
            "source": [
                "Carregando as informações para a tabela Marca"
            ],
            "metadata": {
                "azdata_cell_guid": "0636e7a3-63e7-4953-836d-8dcecef320a8",
                "language": ""
            },
            "attachments": {}
        },
        {
            "cell_type": "code",
            "source": [
                "CREATE OR ALTER PROCEDURE SP_CARREGA_MARCA\n",
                "    @CODMARCA SMALLINT,\n",
                "    @MARCA   NVARCHAR (40),\n",
                "    @ATIVO    CHAR (1)\n",
                "AS\n",
                "BEGIN    \n",
                "    DECLARE \n",
                "        @DTATUALIZACAO DATETIME = DATEADD(hour, -3, GETUTCDATE())\n",
                "\n",
                "    ----faz o merge das informações\n",
                "        IF EXISTS (SELECT 1 FROM MARCA WHERE CODMARCA = @CODMARCA)\n",
                "\t\t\tBEGIN\n",
                "\t\t\tUPDATE MARCA SET MARCA = @MARCA, ATIVO = @ATIVO, DTATUALIZACAO = @DTATUALIZACAO WHERE CODMARCA = @CODMARCA\n",
                "\t\tEND\n",
                "    \tELSE\n",
                "\t\t\tBEGIN\n",
                "\t\t\tINSERT INTO MARCA (CODMARCA, MARCA, ATIVO, DTATUALIZACAO)\n",
                "\t\t\tVALUES (@CODMARCA, @MARCA, @ATIVO, @DTATUALIZACAO)\n",
                "\tEND\n",
                "END"
            ],
            "metadata": {
                "azdata_cell_guid": "a9352589-466c-4d01-87eb-9077098a9082",
                "language": "sql",
                "tags": []
            },
            "outputs": [
                {
                    "output_type": "display_data",
                    "data": {
                        "text/html": "Commands completed successfully."
                    },
                    "metadata": {}
                },
                {
                    "output_type": "display_data",
                    "data": {
                        "text/html": "Total execution time: 00:00:00.018"
                    },
                    "metadata": {}
                }
            ],
            "execution_count": 6
        },
        {
            "cell_type": "code",
            "source": [
                "SELECT * FROM MARCA"
            ],
            "metadata": {
                "language": "sql",
                "azdata_cell_guid": "03f2d6b9-1950-45e9-9973-678af7bc5e6e"
            },
            "outputs": [
                {
                    "output_type": "display_data",
                    "data": {
                        "text/html": "(0 rows affected)"
                    },
                    "metadata": {}
                },
                {
                    "output_type": "display_data",
                    "data": {
                        "text/html": "Total execution time: 00:00:00.015"
                    },
                    "metadata": {}
                },
                {
                    "output_type": "execute_result",
                    "metadata": {},
                    "execution_count": 14,
                    "data": {
                        "application/vnd.dataresource+json": {
                            "schema": {
                                "fields": [
                                    {
                                        "name": "CodMarca"
                                    },
                                    {
                                        "name": "Marca"
                                    },
                                    {
                                        "name": "Ativo"
                                    },
                                    {
                                        "name": "DtAtualizacao"
                                    }
                                ]
                            },
                            "data": []
                        },
                        "text/html": [
                            "<table>",
                            "<tr><th>CodMarca</th><th>Marca</th><th>Ativo</th><th>DtAtualizacao</th></tr>",
                            "</table>"
                        ]
                    }
                }
            ],
            "execution_count": 14
        },
        {
            "cell_type": "code",
            "source": [
                "SELECT CODMARCA, FORMAT(dtatualizacao, 'yyyy-MM-dd HH:mm:ss') DtAtualizacao FROM MARCA WHERE CODMARCA = 9851"
            ],
            "metadata": {
                "language": "sql",
                "azdata_cell_guid": "2e921223-da80-4bc0-a588-30970b06bcad"
            },
            "outputs": [
                {
                    "output_type": "display_data",
                    "data": {
                        "text/html": "(1 row affected)"
                    },
                    "metadata": {}
                },
                {
                    "output_type": "display_data",
                    "data": {
                        "text/html": "Total execution time: 00:00:00.012"
                    },
                    "metadata": {}
                },
                {
                    "output_type": "execute_result",
                    "metadata": {},
                    "execution_count": 7,
                    "data": {
                        "application/vnd.dataresource+json": {
                            "schema": {
                                "fields": [
                                    {
                                        "name": "CODMARCA"
                                    },
                                    {
                                        "name": "DtAtualizacao"
                                    }
                                ]
                            },
                            "data": [
                                {
                                    "CODMARCA": "9851",
                                    "DtAtualizacao": "2024-03-01 16:32:25"
                                }
                            ]
                        },
                        "text/html": [
                            "<table>",
                            "<tr><th>CODMARCA</th><th>DtAtualizacao</th></tr>",
                            "<tr><td>9851</td><td>2024-03-01 16:32:25</td></tr>",
                            "</table>"
                        ]
                    }
                }
            ],
            "execution_count": 7
        },
        {
            "cell_type": "markdown",
            "source": [
                "Procedure para retornar a informação da data de atualização gravada no registro"
            ],
            "metadata": {
                "azdata_cell_guid": "d728864a-538f-464e-bb2d-358dfe623e6d"
            },
            "attachments": {}
        },
        {
            "cell_type": "code",
            "source": [
                "CREATE OR ALTER PROCEDURE SP_RETORNA_MARCA\r\n",
                "    @CODMARCA SMALLINT\r\n",
                "AS\r\n",
                "BEGIN    \r\n",
                "\r\n",
                "    IF EXISTS (SELECT 1 FROM MARCA WHERE CODMARCA = @CODMARCA)\r\n",
                "\tSELECT FORMAT(dtatualizacao, 'yyyy-MM-dd HH:mm:ss') DTATUALIZACAO FROM MARCA WHERE CODMARCA = @CODMARCA\r\n",
                "END"
            ],
            "metadata": {
                "azdata_cell_guid": "6fcbd401-f68f-4161-b55a-0b5ac3442337",
                "language": "sql",
                "tags": []
            },
            "outputs": [
{
    "output_type": "display_data",
    "data": {
        "text/html": "Commands completed successfully."
    },
    "metadata": {}
}, {
    "output_type": "display_data",
    "data": {
        "text/html": "Total execution time: 00:00:00.019"
    },
    "metadata": {}
}
],
            "execution_count": 18
        },
        {
            "cell_type": "code",
            "source": [
                "EXEC SP_RETORNA_MARCA 124"
            ],
            "metadata": {
                "azdata_cell_guid": "41c3fb3b-02e0-47d4-aa3c-ec2e1d90b0f3",
                "language": "sql"
            },
            "outputs": [
                {
                    "output_type": "display_data",
                    "data": {
                        "text/html": "Commands completed successfully."
                    },
                    "metadata": {}
                },
                {
                    "output_type": "display_data",
                    "data": {
                        "text/html": "Total execution time: 00:00:00.011"
                    },
                    "metadata": {}
                }
            ],
            "execution_count": 17
        }
    ]
}