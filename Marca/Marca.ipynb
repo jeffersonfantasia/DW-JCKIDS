{
    "metadata": {
        "kernelspec": {
            "name": "SQL",
            "display_name": "SQL",
            "language": "sql"
        },
        "language_info": {
            "name": "sql",
            "version": ""
        }
    },
    "nbformat_minor": 2,
    "nbformat": 4,
    "cells": [
        {
            "cell_type": "markdown",
            "source": [
                "# **TABELA MARCA**"
            ],
            "metadata": {
                "azdata_cell_guid": "b052493a-6aac-434f-b59d-4c34a11d3890"
            },
            "attachments": {}
        },
        {
            "cell_type": "markdown",
            "source": [
                "Carregando as informações para a tabela Marca"
            ],
            "metadata": {
                "azdata_cell_guid": "0636e7a3-63e7-4953-836d-8dcecef320a8",
                "language": ""
            },
            "attachments": {}
        },
        {
            "cell_type": "code",
            "source": [
                "CREATE OR ALTER PROCEDURE SP_CARREGA_MARCA\n",
                "    @CODMARCA SMALLINT,\n",
                "    @MARCA   NVARCHAR (40),\n",
                "    @ATIVO    CHAR (1)\n",
                "AS\n",
                "BEGIN    \n",
                "    DECLARE \n",
                "        @DTATUALIZACAO DATETIME = DATEADD(hour, -3, GETUTCDATE())\n",
                "\n",
                "    ----faz o merge das informações\n",
                "        IF EXISTS (SELECT 1 FROM MARCA WHERE CODMARCA = @CODMARCA)\n",
                "\t\t\tBEGIN\n",
                "\t\t\tUPDATE MARCA SET MARCA = @MARCA, ATIVO = @ATIVO, DTATUALIZACAO = @DTATUALIZACAO WHERE CODMARCA = @CODMARCA\n",
                "\t\tEND\n",
                "    \tELSE\n",
                "\t\t\tBEGIN\n",
                "\t\t\tINSERT INTO MARCA (CODMARCA, MARCA, ATIVO, DTATUALIZACAO)\n",
                "\t\t\tVALUES (@CODMARCA, @MARCA, @ATIVO, @DTATUALIZACAO)\n",
                "\tEND\n",
                "END"
            ],
            "metadata": {
                "azdata_cell_guid": "a9352589-466c-4d01-87eb-9077098a9082",
                "language": "sql",
                "tags": []
            },
            "outputs": [
                {
                    "output_type": "display_data",
                    "data": {
                        "text/html": "Commands completed successfully."
                    },
                    "metadata": {}
                },
                {
                    "output_type": "display_data",
                    "data": {
                        "text/html": "Total execution time: 00:00:00.018"
                    },
                    "metadata": {}
                }
            ],
            "execution_count": 6
        },
        {
            "cell_type": "code",
            "source": [
                "SELECT * FROM MARCA"
            ],
            "metadata": {
                "language": "sql",
                "azdata_cell_guid": "03f2d6b9-1950-45e9-9973-678af7bc5e6e"
            },
            "outputs": [
                {
                    "output_type": "display_data",
                    "data": {
                        "text/html": "(2 rows affected)"
                    },
                    "metadata": {}
                },
                {
                    "output_type": "display_data",
                    "data": {
                        "text/html": "Total execution time: 00:00:00.021"
                    },
                    "metadata": {}
                },
                {
                    "output_type": "execute_result",
                    "metadata": {},
                    "execution_count": 8,
                    "data": {
                        "application/vnd.dataresource+json": {
                            "schema": {
                                "fields": [
                                    {
                                        "name": "CodMarca"
                                    },
                                    {
                                        "name": "Marca"
                                    },
                                    {
                                        "name": "Ativo"
                                    },
                                    {
                                        "name": "DtAtualizacao"
                                    }
                                ]
                            },
                            "data": [
                                {
                                    "CodMarca": "1",
                                    "Marca": "ESTRELA",
                                    "Ativo": "S",
                                    "DtAtualizacao": "2024-02-23 18:30:39.580"
                                },
                                {
                                    "CodMarca": "2",
                                    "Marca": "ANJOS BABY",
                                    "Ativo": "S",
                                    "DtAtualizacao": "2024-02-23 18:30:43.487"
                                }
                            ]
                        },
                        "text/html": [
                            "<table>",
                            "<tr><th>CodMarca</th><th>Marca</th><th>Ativo</th><th>DtAtualizacao</th></tr>",
                            "<tr><td>1</td><td>ESTRELA</td><td>S</td><td>2024-02-23 18:30:39.580</td></tr>",
                            "<tr><td>2</td><td>ANJOS BABY</td><td>S</td><td>2024-02-23 18:30:43.487</td></tr>",
                            "</table>"
                        ]
                    }
                }
            ],
            "execution_count": 8
        },
        {
            "cell_type": "code",
            "source": [
                "SELECT * FROM MARCA WHERE CODMARCA = 1"
            ],
            "metadata": {
                "language": "sql",
                "azdata_cell_guid": "2e921223-da80-4bc0-a588-30970b06bcad"
            },
            "outputs": [
{
    "output_type": "display_data",
    "data": {
        "text/html": "(1 row affected)"
    },
    "metadata": {}
}, {
    "output_type": "display_data",
    "data": {
        "text/html": "Total execution time: 00:00:00.014"
    },
    "metadata": {}
}, {
    "output_type": "execute_result",
    "metadata": {},
    "execution_count": 10,
    "data": {
        "application/vnd.dataresource+json": {
            "schema": {
                "fields": [
                    {
                        "name": "CodMarca"
                    },
                    {
                        "name": "Marca"
                    },
                    {
                        "name": "Ativo"
                    },
                    {
                        "name": "DtAtualizacao"
                    }
                ]
            },
            "data": [
                {
                    "CodMarca": "1",
                    "Marca": "ESTRELA",
                    "Ativo": "S",
                    "DtAtualizacao": "2024-02-23 18:30:39.580"
                }
            ]
        },
        "text/html": [
            "<table>",
            "<tr><th>CodMarca</th><th>Marca</th><th>Ativo</th><th>DtAtualizacao</th></tr>",
            "<tr><td>1</td><td>ESTRELA</td><td>S</td><td>2024-02-23 18:30:39.580</td></tr>",
            "</table>"
        ]
    }
}
],
            "execution_count": 10
        }
    ]
}