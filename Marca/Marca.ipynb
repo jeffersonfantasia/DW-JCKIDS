{
    "metadata": {
        "kernelspec": {
            "name": "SQL",
            "display_name": "SQL",
            "language": "sql"
        },
        "language_info": {
            "name": "sql",
            "version": ""
        }
    },
    "nbformat_minor": 2,
    "nbformat": 4,
    "cells": [
        {
            "cell_type": "markdown",
            "source": [
                "# **TABELA MARCA**"
            ],
            "metadata": {
                "azdata_cell_guid": "b052493a-6aac-434f-b59d-4c34a11d3890"
            },
            "attachments": {}
        },
        {
            "cell_type": "markdown",
            "source": [
                "Carregando as informações para a tabela Marca"
            ],
            "metadata": {
                "azdata_cell_guid": "0636e7a3-63e7-4953-836d-8dcecef320a8",
                "language": ""
            },
            "attachments": {}
        },
        {
            "cell_type": "code",
            "source": [
                "CREATE OR ALTER PROCEDURE SP_CARREGA_MARCA\n",
                "    @CODMARCA SMALLINT,\n",
                "    @MARCA   NVARCHAR (40),\n",
                "    @ATIVO    CHAR (1)\n",
                "AS\n",
                "BEGIN    \n",
                "    DECLARE \n",
                "        @DTATUALIZACAO DATETIME = DATEADD(hour, -3, GETUTCDATE())\n",
                "\n",
                "    ----faz o merge das informações\n",
                "        IF EXISTS (SELECT 1 FROM MARCA WHERE CODMARCA = @CODMARCA)\n",
                "\t\t\tBEGIN\n",
                "\t\t\tUPDATE MARCA SET MARCA = @MARCA, ATIVO = @ATIVO, DTATUALIZACAO = @DTATUALIZACAO WHERE CODMARCA = @CODMARCA\n",
                "\t\tEND\n",
                "    \tELSE\n",
                "\t\t\tBEGIN\n",
                "\t\t\tINSERT INTO MARCA (CODMARCA, MARCA, ATIVO, DTATUALIZACAO)\n",
                "\t\t\tVALUES (@CODMARCA, @MARCA, @ATIVO, @DTATUALIZACAO)\n",
                "\tEND\n",
                "END"
            ],
            "metadata": {
                "azdata_cell_guid": "a9352589-466c-4d01-87eb-9077098a9082",
                "language": "sql",
                "tags": []
            },
            "outputs": [
                {
                    "output_type": "display_data",
                    "data": {
                        "text/html": "Commands completed successfully."
                    },
                    "metadata": {}
                },
                {
                    "output_type": "display_data",
                    "data": {
                        "text/html": "Total execution time: 00:00:00.018"
                    },
                    "metadata": {}
                }
            ],
            "execution_count": 6
        },
        {
            "cell_type": "code",
            "source": [
                "SELECT * FROM MARCA"
            ],
            "metadata": {
                "language": "sql",
                "azdata_cell_guid": "03f2d6b9-1950-45e9-9973-678af7bc5e6e"
            },
            "outputs": [
                {
                    "output_type": "display_data",
                    "data": {
                        "text/html": "(288 rows affected)"
                    },
                    "metadata": {}
                },
                {
                    "output_type": "display_data",
                    "data": {
                        "text/html": "Total execution time: 00:00:00.040"
                    },
                    "metadata": {}
                },
                {
                    "output_type": "execute_result",
                    "metadata": {},
                    "execution_count": 2,
                    "data": {
                        "application/vnd.dataresource+json": {
                            "schema": {
                                "fields": [
                                    {
                                        "name": "CodMarca"
                                    },
                                    {
                                        "name": "Marca"
                                    },
                                    {
                                        "name": "Ativo"
                                    },
                                    {
                                        "name": "DtAtualizacao"
                                    }
                                ]
                            },
                            "data": [
                                {
                                    "CodMarca": "1",
                                    "Marca": "ESTRELA",
                                    "Ativo": "S",
                                    "DtAtualizacao": "2024-02-26 15:02:25.567"
                                },
                                {
                                    "CodMarca": "2",
                                    "Marca": "ANJOS BABY",
                                    "Ativo": "S",
                                    "DtAtualizacao": "2024-02-26 15:02:29.520"
                                },
                                {
                                    "CodMarca": "3",
                                    "Marca": "ELGIN",
                                    "Ativo": "S",
                                    "DtAtualizacao": "2024-02-26 15:12:54.580"
                                },
                                {
                                    "CodMarca": "4",
                                    "Marca": "BIG STAR",
                                    "Ativo": "S",
                                    "DtAtualizacao": "2024-02-26 15:12:58.457"
                                },
                                {
                                    "CodMarca": "5",
                                    "Marca": "SPEEDO",
                                    "Ativo": "S",
                                    "DtAtualizacao": "2024-02-26 15:13:02.300"
                                },
                                {
                                    "CodMarca": "6",
                                    "Marca": "DIAMONDS",
                                    "Ativo": "S",
                                    "DtAtualizacao": "2024-02-26 15:13:06.410"
                                },
                                {
                                    "CodMarca": "7",
                                    "Marca": "DTC",
                                    "Ativo": "S",
                                    "DtAtualizacao": "2024-02-26 15:13:10.330"
                                },
                                {
                                    "CodMarca": "8",
                                    "Marca": "ELKA",
                                    "Ativo": "S",
                                    "DtAtualizacao": "2024-02-26 15:13:14.190"
                                },
                                {
                                    "CodMarca": "9",
                                    "Marca": "FENZZA",
                                    "Ativo": "S",
                                    "DtAtualizacao": "2024-02-26 15:13:18.283"
                                },
                                {
                                    "CodMarca": "10",
                                    "Marca": "HASBRO",
                                    "Ativo": "S",
                                    "DtAtualizacao": "2024-02-26 15:13:22.160"
                                },
                                {
                                    "CodMarca": "11",
                                    "Marca": "HOMEPLAY",
                                    "Ativo": "S",
                                    "DtAtualizacao": "2024-02-26 15:13:26.003"
                                },
                                {
                                    "CodMarca": "12",
                                    "Marca": "JACKI DESIGN",
                                    "Ativo": "S",
                                    "DtAtualizacao": "2024-02-26 15:13:30.093"
                                },
                                {
                                    "CodMarca": "13",
                                    "Marca": "MILK",
                                    "Ativo": "S",
                                    "DtAtualizacao": "2024-02-26 15:13:33.923"
                                },
                                {
                                    "CodMarca": "14",
                                    "Marca": "CHENSON",
                                    "Ativo": "S",
                                    "DtAtualizacao": "2024-02-26 15:13:37.737"
                                },
                                {
                                    "CodMarca": "15",
                                    "Marca": "PAIS E FILHOS",
                                    "Ativo": "S",
                                    "DtAtualizacao": "2024-02-26 15:13:41.817"
                                },
                                {
                                    "CodMarca": "16",
                                    "Marca": "SHIKAS",
                                    "Ativo": "S",
                                    "DtAtualizacao": "2024-02-26 15:13:45.690"
                                },
                                {
                                    "CodMarca": "17",
                                    "Marca": "SESTINI",
                                    "Ativo": "S",
                                    "DtAtualizacao": "2024-02-26 15:13:49.653"
                                },
                                {
                                    "CodMarca": "18",
                                    "Marca": "USUAL PLASTIC",
                                    "Ativo": "S",
                                    "DtAtualizacao": "2024-02-26 15:13:53.563"
                                },
                                {
                                    "CodMarca": "19",
                                    "Marca": "BANDEIRANTE",
                                    "Ativo": "S",
                                    "DtAtualizacao": "2024-02-26 15:13:57.380"
                                },
                                {
                                    "CodMarca": "20",
                                    "Marca": "FUN TOYS",
                                    "Ativo": "S",
                                    "DtAtualizacao": "2024-02-26 15:14:01.477"
                                },
                                {
                                    "CodMarca": "21",
                                    "Marca": "BRINCADEIRA DE CRIANCA",
                                    "Ativo": "S",
                                    "DtAtualizacao": "2024-02-26 15:14:05.317"
                                },
                                {
                                    "CodMarca": "22",
                                    "Marca": "BUBA",
                                    "Ativo": "S",
                                    "DtAtualizacao": "2024-02-26 15:14:09.137"
                                },
                                {
                                    "CodMarca": "23",
                                    "Marca": "BUNGEE",
                                    "Ativo": "S",
                                    "DtAtualizacao": "2024-02-26 15:14:13.207"
                                },
                                {
                                    "CodMarca": "24",
                                    "Marca": "CALESITA",
                                    "Ativo": "S",
                                    "DtAtualizacao": "2024-02-26 15:14:17.003"
                                },
                                {
                                    "CodMarca": "25",
                                    "Marca": "CONTHEY",
                                    "Ativo": "S",
                                    "DtAtualizacao": "2024-02-26 15:14:20.830"
                                },
                                {
                                    "CodMarca": "26",
                                    "Marca": "COPAG",
                                    "Ativo": "S",
                                    "DtAtualizacao": "2024-02-26 15:14:24.863"
                                },
                                {
                                    "CodMarca": "27",
                                    "Marca": "SOCCER STARZ",
                                    "Ativo": "S",
                                    "DtAtualizacao": "2024-02-26 15:14:28.673"
                                },
                                {
                                    "CodMarca": "28",
                                    "Marca": "DERMIWIL",
                                    "Ativo": "S",
                                    "DtAtualizacao": "2024-02-26 15:14:32.503"
                                },
                                {
                                    "CodMarca": "29",
                                    "Marca": "DURACELL",
                                    "Ativo": "S",
                                    "DtAtualizacao": "2024-02-26 15:14:36.613"
                                },
                                {
                                    "CodMarca": "30",
                                    "Marca": "FENIX",
                                    "Ativo": "S",
                                    "DtAtualizacao": "2024-02-26 15:14:40.457"
                                },
                                {
                                    "CodMarca": "31",
                                    "Marca": "GROW",
                                    "Ativo": "S",
                                    "DtAtualizacao": "2024-02-26 15:14:44.270"
                                },
                                {
                                    "CodMarca": "32",
                                    "Marca": "GULLIVER",
                                    "Ativo": "S",
                                    "DtAtualizacao": "2024-02-26 15:14:48.630"
                                },
                                {
                                    "CodMarca": "33",
                                    "Marca": "LEGO",
                                    "Ativo": "S",
                                    "DtAtualizacao": "2024-02-26 15:14:52.440"
                                },
                                {
                                    "CodMarca": "34",
                                    "Marca": "LIDER",
                                    "Ativo": "S",
                                    "DtAtualizacao": "2024-02-26 15:14:56.370"
                                },
                                {
                                    "CodMarca": "35",
                                    "Marca": "LONG JUMP",
                                    "Ativo": "S",
                                    "DtAtualizacao": "2024-02-26 15:15:00.350"
                                },
                                {
                                    "CodMarca": "36",
                                    "Marca": "MAPTOY",
                                    "Ativo": "S",
                                    "DtAtualizacao": "2024-02-26 15:15:04.177"
                                },
                                {
                                    "CodMarca": "37",
                                    "Marca": "MATTEL",
                                    "Ativo": "S",
                                    "DtAtualizacao": "2024-02-26 15:15:08.223"
                                },
                                {
                                    "CodMarca": "38",
                                    "Marca": "MIMO",
                                    "Ativo": "S",
                                    "DtAtualizacao": "2024-02-26 15:15:12.020"
                                },
                                {
                                    "CodMarca": "39",
                                    "Marca": "MOR",
                                    "Ativo": "S",
                                    "DtAtualizacao": "2024-02-26 15:15:15.863"
                                },
                                {
                                    "CodMarca": "40",
                                    "Marca": "MULTIBRINK",
                                    "Ativo": "S",
                                    "DtAtualizacao": "2024-02-26 15:15:19.893"
                                },
                                {
                                    "CodMarca": "41",
                                    "Marca": "ROTOBRINQ",
                                    "Ativo": "S",
                                    "DtAtualizacao": "2024-02-26 15:15:23.707"
                                },
                                {
                                    "CodMarca": "42",
                                    "Marca": "SUNDOWN",
                                    "Ativo": "S",
                                    "DtAtualizacao": "2024-02-26 15:15:27.520"
                                },
                                {
                                    "CodMarca": "43",
                                    "Marca": "SUNNY",
                                    "Ativo": "S",
                                    "DtAtualizacao": "2024-02-26 15:15:31.613"
                                },
                                {
                                    "CodMarca": "44",
                                    "Marca": "TOYNG",
                                    "Ativo": "S",
                                    "DtAtualizacao": "2024-02-26 15:15:35.440"
                                },
                                {
                                    "CodMarca": "45",
                                    "Marca": "YELLOW",
                                    "Ativo": "S",
                                    "DtAtualizacao": "2024-02-26 15:15:39.253"
                                },
                                {
                                    "CodMarca": "46",
                                    "Marca": "ALPHA",
                                    "Ativo": "S",
                                    "DtAtualizacao": "2024-02-26 15:15:43.330"
                                },
                                {
                                    "CodMarca": "47",
                                    "Marca": "BABY BRINK",
                                    "Ativo": "S",
                                    "DtAtualizacao": "2024-02-26 15:15:47.207"
                                },
                                {
                                    "CodMarca": "48",
                                    "Marca": "OREGON",
                                    "Ativo": "S",
                                    "DtAtualizacao": "2024-02-26 15:15:51.033"
                                },
                                {
                                    "CodMarca": "49",
                                    "Marca": "SEANITE",
                                    "Ativo": "S",
                                    "DtAtualizacao": "2024-02-26 15:15:55.067"
                                },
                                {
                                    "CodMarca": "50",
                                    "Marca": "RUBIES",
                                    "Ativo": "S",
                                    "DtAtualizacao": "2024-02-26 15:15:58.877"
                                },
                                {
                                    "CodMarca": "51",
                                    "Marca": "XERYUS",
                                    "Ativo": "S",
                                    "DtAtualizacao": "2024-02-26 15:16:02.707"
                                },
                                {
                                    "CodMarca": "52",
                                    "Marca": "VALE DAS LETRAS",
                                    "Ativo": "S",
                                    "DtAtualizacao": "2024-02-26 15:16:06.783"
                                },
                                {
                                    "CodMarca": "53",
                                    "Marca": "FRESCOR",
                                    "Ativo": "S",
                                    "DtAtualizacao": "2024-02-26 15:16:10.627"
                                },
                                {
                                    "CodMarca": "54",
                                    "Marca": "CAPITAL TRADE",
                                    "Ativo": "S",
                                    "DtAtualizacao": "2024-02-26 15:16:14.577"
                                },
                                {
                                    "CodMarca": "55",
                                    "Marca": "KI-TOK",
                                    "Ativo": "S",
                                    "DtAtualizacao": "2024-02-26 15:16:18.540"
                                },
                                {
                                    "CodMarca": "57",
                                    "Marca": "BANBAO",
                                    "Ativo": "S",
                                    "DtAtualizacao": "2024-02-26 15:16:22.397"
                                },
                                {
                                    "CodMarca": "58",
                                    "Marca": "NEW TOYS",
                                    "Ativo": "S",
                                    "DtAtualizacao": "2024-02-26 15:16:26.433"
                                },
                                {
                                    "CodMarca": "59",
                                    "Marca": "CARDOSO",
                                    "Ativo": "S",
                                    "DtAtualizacao": "2024-02-26 15:16:30.253"
                                },
                                {
                                    "CodMarca": "61",
                                    "Marca": "BM3 ",
                                    "Ativo": "S",
                                    "DtAtualizacao": "2024-02-26 15:16:34.050"
                                },
                                {
                                    "CodMarca": "62",
                                    "Marca": "CORTEX",
                                    "Ativo": "S",
                                    "DtAtualizacao": "2024-02-26 15:16:38.097"
                                },
                                {
                                    "CodMarca": "63",
                                    "Marca": "DCL",
                                    "Ativo": "S",
                                    "DtAtualizacao": "2024-02-26 15:16:41.923"
                                },
                                {
                                    "CodMarca": "64",
                                    "Marca": "Z.B. ALVES ",
                                    "Ativo": "S",
                                    "DtAtualizacao": "2024-02-26 15:16:45.787"
                                },
                                {
                                    "CodMarca": "65",
                                    "Marca": "SEVEN",
                                    "Ativo": "S",
                                    "DtAtualizacao": "2024-02-26 15:16:50.857"
                                },
                                {
                                    "CodMarca": "66",
                                    "Marca": "SEMANN",
                                    "Ativo": "S",
                                    "DtAtualizacao": "2024-02-26 15:16:54.677"
                                },
                                {
                                    "CodMarca": "67",
                                    "Marca": "SONATA",
                                    "Ativo": "S",
                                    "DtAtualizacao": "2024-02-26 15:16:58.493"
                                },
                                {
                                    "CodMarca": "68",
                                    "Marca": "ORANGE",
                                    "Ativo": "S",
                                    "DtAtualizacao": "2024-02-26 15:17:02.573"
                                },
                                {
                                    "CodMarca": "69",
                                    "Marca": "MAISTO",
                                    "Ativo": "S",
                                    "DtAtualizacao": "2024-02-26 15:17:06.400"
                                },
                                {
                                    "CodMarca": "70",
                                    "Marca": "DISNEY DVD",
                                    "Ativo": "S",
                                    "DtAtualizacao": "2024-02-26 15:17:10.370"
                                },
                                {
                                    "CodMarca": "71",
                                    "Marca": "MULTILASER",
                                    "Ativo": "S",
                                    "DtAtualizacao": "2024-02-26 15:17:14.310"
                                },
                                {
                                    "CodMarca": "72",
                                    "Marca": "TOYSTER",
                                    "Ativo": "S",
                                    "DtAtualizacao": "2024-02-26 15:17:18.113"
                                },
                                {
                                    "CodMarca": "73",
                                    "Marca": "MIELLE",
                                    "Ativo": "S",
                                    "DtAtualizacao": "2024-02-26 15:17:22.020"
                                },
                                {
                                    "CodMarca": "74",
                                    "Marca": "MAGIC TOYS",
                                    "Ativo": "S",
                                    "DtAtualizacao": "2024-02-26 15:17:25.940"
                                },
                                {
                                    "CodMarca": "75",
                                    "Marca": "T.Y.L",
                                    "Ativo": "S",
                                    "DtAtualizacao": "2024-02-26 15:17:29.753"
                                },
                                {
                                    "CodMarca": "76",
                                    "Marca": "BRASKIT",
                                    "Ativo": "S",
                                    "DtAtualizacao": "2024-02-26 15:17:33.673"
                                },
                                {
                                    "CodMarca": "77",
                                    "Marca": "IN BRASIL",
                                    "Ativo": "S",
                                    "DtAtualizacao": "2024-02-26 15:17:37.627"
                                },
                                {
                                    "CodMarca": "78",
                                    "Marca": "LACO DE FITA",
                                    "Ativo": "S",
                                    "DtAtualizacao": "2024-02-26 15:17:41.410"
                                },
                                {
                                    "CodMarca": "79",
                                    "Marca": "M&P",
                                    "Ativo": "S",
                                    "DtAtualizacao": "2024-02-26 15:17:45.437"
                                },
                                {
                                    "CodMarca": "80",
                                    "Marca": "DIVERTIX",
                                    "Ativo": "S",
                                    "DtAtualizacao": "2024-02-26 15:17:49.420"
                                },
                                {
                                    "CodMarca": "81",
                                    "Marca": "NAUTIKA",
                                    "Ativo": "S",
                                    "DtAtualizacao": "2024-02-26 15:17:53.237"
                                },
                                {
                                    "CodMarca": "82",
                                    "Marca": "NIG BRINQUEDOS",
                                    "Ativo": "S",
                                    "DtAtualizacao": "2024-02-26 15:17:57.710"
                                },
                                {
                                    "CodMarca": "83",
                                    "Marca": "ALGAZARRA",
                                    "Ativo": "S",
                                    "DtAtualizacao": "2024-02-26 15:18:01.517"
                                },
                                {
                                    "CodMarca": "84",
                                    "Marca": "ANNA JULIA BRINQUEDOS",
                                    "Ativo": "S",
                                    "DtAtualizacao": "2024-02-26 15:18:05.480"
                                },
                                {
                                    "CodMarca": "85",
                                    "Marca": "BRINKSHOP",
                                    "Ativo": "S",
                                    "DtAtualizacao": "2024-02-26 15:18:09.447"
                                },
                                {
                                    "CodMarca": "86",
                                    "Marca": "* INATIVO BBRA",
                                    "Ativo": "N",
                                    "DtAtualizacao": "2024-02-26 15:18:13.287"
                                },
                                {
                                    "CodMarca": "87",
                                    "Marca": "PLASTILINDO",
                                    "Ativo": "S",
                                    "DtAtualizacao": "2024-02-26 15:18:17.243"
                                },
                                {
                                    "CodMarca": "88",
                                    "Marca": "C MART TOYS",
                                    "Ativo": "S",
                                    "DtAtualizacao": "2024-02-26 15:18:21.197"
                                },
                                {
                                    "CodMarca": "89",
                                    "Marca": "BRINQUEDOS ANJO",
                                    "Ativo": "S",
                                    "DtAtualizacao": "2024-02-26 15:18:24.953"
                                },
                                {
                                    "CodMarca": "90",
                                    "Marca": "KROMO",
                                    "Ativo": "S",
                                    "DtAtualizacao": "2024-02-26 15:18:28.877"
                                },
                                {
                                    "CodMarca": "91",
                                    "Marca": "BEE TOYS",
                                    "Ativo": "S",
                                    "DtAtualizacao": "2024-02-26 15:18:32.800"
                                },
                                {
                                    "CodMarca": "92",
                                    "Marca": "PHORWORK",
                                    "Ativo": "S",
                                    "DtAtualizacao": "2024-02-26 15:18:36.613"
                                },
                                {
                                    "CodMarca": "93",
                                    "Marca": "GRAFONS",
                                    "Ativo": "S",
                                    "DtAtualizacao": "2024-02-26 15:18:40.527"
                                },
                                {
                                    "CodMarca": "94",
                                    "Marca": "FEMACELL",
                                    "Ativo": "S",
                                    "DtAtualizacao": "2024-02-26 15:18:44.477"
                                },
                                {
                                    "CodMarca": "95",
                                    "Marca": "PACIFIC",
                                    "Ativo": "S",
                                    "DtAtualizacao": "2024-02-26 15:18:48.303"
                                },
                                {
                                    "CodMarca": "96",
                                    "Marca": "PAULIENNE",
                                    "Ativo": "S",
                                    "DtAtualizacao": "2024-02-26 15:18:52.330"
                                },
                                {
                                    "CodMarca": "97",
                                    "Marca": "CBI",
                                    "Ativo": "S",
                                    "DtAtualizacao": "2024-02-26 15:18:56.133"
                                },
                                {
                                    "CodMarca": "98",
                                    "Marca": "CKS",
                                    "Ativo": "S",
                                    "DtAtualizacao": "2024-02-26 15:18:59.940"
                                },
                                {
                                    "CodMarca": "99",
                                    "Marca": "YES TOYS",
                                    "Ativo": "S",
                                    "DtAtualizacao": "2024-02-26 15:19:04.027"
                                },
                                {
                                    "CodMarca": "100",
                                    "Marca": "XALINGO",
                                    "Ativo": "S",
                                    "DtAtualizacao": "2024-02-26 15:19:07.857"
                                },
                                {
                                    "CodMarca": "101",
                                    "Marca": "EPOCH MAGIA",
                                    "Ativo": "S",
                                    "DtAtualizacao": "2024-02-26 15:19:11.670"
                                },
                                {
                                    "CodMarca": "102",
                                    "Marca": "ROSITA",
                                    "Ativo": "S",
                                    "DtAtualizacao": "2024-02-26 15:19:15.680"
                                },
                                {
                                    "CodMarca": "103",
                                    "Marca": "BOLAS CANARINHA",
                                    "Ativo": "S",
                                    "DtAtualizacao": "2024-02-26 15:19:19.457"
                                },
                                {
                                    "CodMarca": "104",
                                    "Marca": "ZIPPY TOYS",
                                    "Ativo": "S",
                                    "DtAtualizacao": "2024-02-26 15:19:23.407"
                                },
                                {
                                    "CodMarca": "105",
                                    "Marca": "SHINY TOYS",
                                    "Ativo": "S",
                                    "DtAtualizacao": "2024-02-26 15:19:27.350"
                                },
                                {
                                    "CodMarca": "106",
                                    "Marca": "DICAN",
                                    "Ativo": "S",
                                    "DtAtualizacao": "2024-02-26 15:19:31.147"
                                },
                                {
                                    "CodMarca": "107",
                                    "Marca": "INTEK",
                                    "Ativo": "S",
                                    "DtAtualizacao": "2024-02-26 15:19:35.050"
                                },
                                {
                                    "CodMarca": "108",
                                    "Marca": "LOTUS",
                                    "Ativo": "S",
                                    "DtAtualizacao": "2024-02-26 15:19:38.990"
                                },
                                {
                                    "CodMarca": "109",
                                    "Marca": "GRAN EXPRESSO",
                                    "Ativo": "S",
                                    "DtAtualizacao": "2024-02-26 15:19:42.830"
                                },
                                {
                                    "CodMarca": "110",
                                    "Marca": "SAMSUNG",
                                    "Ativo": "S",
                                    "DtAtualizacao": "2024-02-26 15:19:46.817"
                                },
                                {
                                    "CodMarca": "111",
                                    "Marca": "BANGTOYS",
                                    "Ativo": "S",
                                    "DtAtualizacao": "2024-02-26 15:19:50.753"
                                },
                                {
                                    "CodMarca": "112",
                                    "Marca": "TOMY",
                                    "Ativo": "S",
                                    "DtAtualizacao": "2024-02-26 15:19:54.597"
                                },
                                {
                                    "CodMarca": "113",
                                    "Marca": "WINFUN",
                                    "Ativo": "S",
                                    "DtAtualizacao": "2024-02-26 15:19:58.550"
                                },
                                {
                                    "CodMarca": "114",
                                    "Marca": "VTECH",
                                    "Ativo": "S",
                                    "DtAtualizacao": "2024-02-26 15:20:02.503"
                                },
                                {
                                    "CodMarca": "115",
                                    "Marca": "CRAYOLA",
                                    "Ativo": "S",
                                    "DtAtualizacao": "2024-02-26 15:20:06.283"
                                },
                                {
                                    "CodMarca": "116",
                                    "Marca": "ABRAKIDABRA",
                                    "Ativo": "S",
                                    "DtAtualizacao": "2024-02-26 15:20:10.320"
                                },
                                {
                                    "CodMarca": "117",
                                    "Marca": "COTIPLAS",
                                    "Ativo": "S",
                                    "DtAtualizacao": "2024-02-26 15:20:14.127"
                                },
                                {
                                    "CodMarca": "118",
                                    "Marca": "JAPS",
                                    "Ativo": "S",
                                    "DtAtualizacao": "2024-02-26 15:20:17.923"
                                },
                                {
                                    "CodMarca": "119",
                                    "Marca": "LITTLE TIKES",
                                    "Ativo": "S",
                                    "DtAtualizacao": "2024-02-26 15:20:21.987"
                                },
                                {
                                    "CodMarca": "120",
                                    "Marca": "GESSELE",
                                    "Ativo": "S",
                                    "DtAtualizacao": "2024-02-26 15:20:25.817"
                                },
                                {
                                    "CodMarca": "121",
                                    "Marca": "NATIONAL GEOGRAPHIC",
                                    "Ativo": "S",
                                    "DtAtualizacao": "2024-02-26 15:20:29.707"
                                },
                                {
                                    "CodMarca": "122",
                                    "Marca": "SP OXIGENIO",
                                    "Ativo": "S",
                                    "DtAtualizacao": "2024-02-26 15:20:33.737"
                                },
                                {
                                    "CodMarca": "123",
                                    "Marca": "CANDIDE",
                                    "Ativo": "S",
                                    "DtAtualizacao": "2024-02-26 15:20:37.550"
                                },
                                {
                                    "CodMarca": "124",
                                    "Marca": "SOFT BABY",
                                    "Ativo": "S",
                                    "DtAtualizacao": "2024-02-26 15:20:41.463"
                                },
                                {
                                    "CodMarca": "125",
                                    "Marca": "PURA DIVERSÃO",
                                    "Ativo": "S",
                                    "DtAtualizacao": "2024-02-26 15:20:45.440"
                                },
                                {
                                    "CodMarca": "126",
                                    "Marca": "VERDEN BIKES",
                                    "Ativo": "S",
                                    "DtAtualizacao": "2024-02-26 15:20:49.270"
                                },
                                {
                                    "CodMarca": "127",
                                    "Marca": "IMPORTADO",
                                    "Ativo": "S",
                                    "DtAtualizacao": "2024-02-26 15:20:53.207"
                                },
                                {
                                    "CodMarca": "128",
                                    "Marca": "DELL",
                                    "Ativo": "S",
                                    "DtAtualizacao": "2024-02-26 15:20:57.127"
                                },
                                {
                                    "CodMarca": "129",
                                    "Marca": "RCA",
                                    "Ativo": "S",
                                    "DtAtualizacao": "2024-02-26 15:21:01.033"
                                },
                                {
                                    "CodMarca": "130",
                                    "Marca": "SAMBA TOYS",
                                    "Ativo": "S",
                                    "DtAtualizacao": "2024-02-26 15:21:04.943"
                                },
                                {
                                    "CodMarca": "131",
                                    "Marca": "ART BRINK",
                                    "Ativo": "S",
                                    "DtAtualizacao": "2024-02-26 15:21:08.893"
                                },
                                {
                                    "CodMarca": "132",
                                    "Marca": "ZR TOYS",
                                    "Ativo": "S",
                                    "DtAtualizacao": "2024-02-26 15:21:12.707"
                                },
                                {
                                    "CodMarca": "133",
                                    "Marca": "EVAMAX",
                                    "Ativo": "S",
                                    "DtAtualizacao": "2024-02-26 15:21:16.627"
                                },
                                {
                                    "CodMarca": "134",
                                    "Marca": "FRESO",
                                    "Ativo": "S",
                                    "DtAtualizacao": "2024-02-26 15:21:20.533"
                                },
                                {
                                    "CodMarca": "135",
                                    "Marca": "KIMASTER",
                                    "Ativo": "S",
                                    "DtAtualizacao": "2024-02-26 15:21:24.347"
                                },
                                {
                                    "CodMarca": "136",
                                    "Marca": "ONE SPORT",
                                    "Ativo": "S",
                                    "DtAtualizacao": "2024-02-26 15:21:28.403"
                                },
                                {
                                    "CodMarca": "137",
                                    "Marca": "PROVIDER",
                                    "Ativo": "S",
                                    "DtAtualizacao": "2024-02-26 15:21:32.220"
                                },
                                {
                                    "CodMarca": "138",
                                    "Marca": "CLIO STYLE",
                                    "Ativo": "S",
                                    "DtAtualizacao": "2024-02-26 15:21:36.033"
                                },
                                {
                                    "CodMarca": "139",
                                    "Marca": "DISMAT",
                                    "Ativo": "S",
                                    "DtAtualizacao": "2024-02-26 15:21:40.110"
                                },
                                {
                                    "CodMarca": "140",
                                    "Marca": "NATHOR",
                                    "Ativo": "S",
                                    "DtAtualizacao": "2024-02-26 15:21:43.987"
                                },
                                {
                                    "CodMarca": "141",
                                    "Marca": "GALAPAGOS",
                                    "Ativo": "S",
                                    "DtAtualizacao": "2024-02-26 15:21:47.800"
                                },
                                {
                                    "CodMarca": "142",
                                    "Marca": "COLLI",
                                    "Ativo": "S",
                                    "DtAtualizacao": "2024-02-26 15:21:51.847"
                                },
                                {
                                    "CodMarca": "143",
                                    "Marca": "ZONA CRIATIVA",
                                    "Ativo": "S",
                                    "DtAtualizacao": "2024-02-26 15:21:55.673"
                                },
                                {
                                    "CodMarca": "144",
                                    "Marca": "SKY",
                                    "Ativo": "S",
                                    "DtAtualizacao": "2024-02-26 15:21:59.487"
                                },
                                {
                                    "CodMarca": "145",
                                    "Marca": "PANASONIC",
                                    "Ativo": "S",
                                    "DtAtualizacao": "2024-02-26 15:22:03.550"
                                },
                                {
                                    "CodMarca": "146",
                                    "Marca": "DERMIWIL",
                                    "Ativo": "N",
                                    "DtAtualizacao": "2024-02-26 15:22:07.377"
                                },
                                {
                                    "CodMarca": "147",
                                    "Marca": "SANTINO",
                                    "Ativo": "S",
                                    "DtAtualizacao": "2024-02-26 15:22:11.310"
                                },
                                {
                                    "CodMarca": "148",
                                    "Marca": "LIKE",
                                    "Ativo": "S",
                                    "DtAtualizacao": "2024-02-26 15:22:15.260"
                                },
                                {
                                    "CodMarca": "149",
                                    "Marca": "ORBEA",
                                    "Ativo": "S",
                                    "DtAtualizacao": "2024-02-26 15:22:19.080"
                                },
                                {
                                    "CodMarca": "150",
                                    "Marca": "STYLL BABY",
                                    "Ativo": "S",
                                    "DtAtualizacao": "2024-02-26 15:22:23.007"
                                },
                                {
                                    "CodMarca": "151",
                                    "Marca": "BELFIX",
                                    "Ativo": "S",
                                    "DtAtualizacao": "2024-02-26 15:22:26.987"
                                },
                                {
                                    "CodMarca": "152",
                                    "Marca": "OPCAO EMB",
                                    "Ativo": "S",
                                    "DtAtualizacao": "2024-02-26 15:22:30.800"
                                },
                                {
                                    "CodMarca": "153",
                                    "Marca": "H7",
                                    "Ativo": "S",
                                    "DtAtualizacao": "2024-02-26 15:22:35.127"
                                },
                                {
                                    "CodMarca": "154",
                                    "Marca": "SUPER TOYS",
                                    "Ativo": "S",
                                    "DtAtualizacao": "2024-02-26 15:22:39.063"
                                },
                                {
                                    "CodMarca": "155",
                                    "Marca": "KUKA",
                                    "Ativo": "S",
                                    "DtAtualizacao": "2024-02-26 15:22:42.893"
                                },
                                {
                                    "CodMarca": "156",
                                    "Marca": "ARTVINCO",
                                    "Ativo": "S",
                                    "DtAtualizacao": "2024-02-26 15:22:46.837"
                                },
                                {
                                    "CodMarca": "157",
                                    "Marca": "REALTEX",
                                    "Ativo": "S",
                                    "DtAtualizacao": "2024-02-26 15:22:50.773"
                                },
                                {
                                    "CodMarca": "158",
                                    "Marca": "BELLA ARTY",
                                    "Ativo": "S",
                                    "DtAtualizacao": "2024-02-26 15:22:54.643"
                                },
                                {
                                    "CodMarca": "159",
                                    "Marca": "ZEBRA",
                                    "Ativo": "S",
                                    "DtAtualizacao": "2024-02-26 15:22:58.827"
                                },
                                {
                                    "CodMarca": "160",
                                    "Marca": "ISANOG",
                                    "Ativo": "S",
                                    "DtAtualizacao": "2024-02-26 15:23:02.740"
                                },
                                {
                                    "CodMarca": "161",
                                    "Marca": "AVENT",
                                    "Ativo": "S",
                                    "DtAtualizacao": "2024-02-26 15:23:06.550"
                                },
                                {
                                    "CodMarca": "162",
                                    "Marca": "CHICCO",
                                    "Ativo": "S",
                                    "DtAtualizacao": "2024-02-26 15:23:10.510"
                                },
                                {
                                    "CodMarca": "163",
                                    "Marca": "ANICO",
                                    "Ativo": "S",
                                    "DtAtualizacao": "2024-02-26 15:23:14.493"
                                },
                                {
                                    "CodMarca": "164",
                                    "Marca": "BURIGOTTO",
                                    "Ativo": "S",
                                    "DtAtualizacao": "2024-02-26 15:23:18.503"
                                },
                                {
                                    "CodMarca": "165",
                                    "Marca": "INFANTI",
                                    "Ativo": "S",
                                    "DtAtualizacao": "2024-02-26 15:23:22.423"
                                },
                                {
                                    "CodMarca": "166",
                                    "Marca": "MAXI-COSI",
                                    "Ativo": "S",
                                    "DtAtualizacao": "2024-02-26 15:23:26.277"
                                },
                                {
                                    "CodMarca": "167",
                                    "Marca": "SAFETY 1ST",
                                    "Ativo": "S",
                                    "DtAtualizacao": "2024-02-26 15:23:30.353"
                                },
                                {
                                    "CodMarca": "168",
                                    "Marca": "FENIX CONFECCAO",
                                    "Ativo": "S",
                                    "DtAtualizacao": "2024-02-26 15:23:34.287"
                                },
                                {
                                    "CodMarca": "169",
                                    "Marca": "MAM",
                                    "Ativo": "S",
                                    "DtAtualizacao": "2024-02-26 15:23:38.120"
                                },
                                {
                                    "CodMarca": "170",
                                    "Marca": "KANXA",
                                    "Ativo": "S",
                                    "DtAtualizacao": "2024-02-26 15:23:42.083"
                                },
                                {
                                    "CodMarca": "171",
                                    "Marca": "GALZERANO",
                                    "Ativo": "S",
                                    "DtAtualizacao": "2024-02-26 15:23:46.057"
                                },
                                {
                                    "CodMarca": "172",
                                    "Marca": "MY MAX",
                                    "Ativo": "S",
                                    "DtAtualizacao": "2024-02-26 15:23:49.860"
                                },
                                {
                                    "CodMarca": "173",
                                    "Marca": "EDITORA ESTRELA CULTURAL",
                                    "Ativo": "S",
                                    "DtAtualizacao": "2024-02-26 15:23:53.813"
                                },
                                {
                                    "CodMarca": "174",
                                    "Marca": "PLANETA",
                                    "Ativo": "S",
                                    "DtAtualizacao": "2024-02-26 15:23:57.753"
                                },
                                {
                                    "CodMarca": "175",
                                    "Marca": "FLATEX",
                                    "Ativo": "S",
                                    "DtAtualizacao": "2024-02-26 15:24:01.560"
                                },
                                {
                                    "CodMarca": "176",
                                    "Marca": "BBR TOYS",
                                    "Ativo": "S",
                                    "DtAtualizacao": "2024-02-26 15:24:05.530"
                                },
                                {
                                    "CodMarca": "177",
                                    "Marca": "DOCE BRINQUEDO",
                                    "Ativo": "S",
                                    "DtAtualizacao": "2024-02-26 15:24:09.440"
                                },
                                {
                                    "CodMarca": "178",
                                    "Marca": "ASCA TOYS",
                                    "Ativo": "S",
                                    "DtAtualizacao": "2024-02-26 15:24:13.270"
                                },
                                {
                                    "CodMarca": "179",
                                    "Marca": "SULAMERICANA",
                                    "Ativo": "S",
                                    "DtAtualizacao": "2024-02-26 15:24:17.190"
                                },
                                {
                                    "CodMarca": "180",
                                    "Marca": "LUXCEL",
                                    "Ativo": "S",
                                    "DtAtualizacao": "2024-02-26 15:24:21.097"
                                },
                                {
                                    "CodMarca": "181",
                                    "Marca": "MAXTOY",
                                    "Ativo": "S",
                                    "DtAtualizacao": "2024-02-26 15:24:24.923"
                                },
                                {
                                    "CodMarca": "182",
                                    "Marca": "PEG PEREGO",
                                    "Ativo": "S",
                                    "DtAtualizacao": "2024-02-26 15:24:28.847"
                                },
                                {
                                    "CodMarca": "183",
                                    "Marca": "ACRILEX",
                                    "Ativo": "S",
                                    "DtAtualizacao": "2024-02-26 15:24:32.733"
                                },
                                {
                                    "CodMarca": "184",
                                    "Marca": "BRINK MODEL",
                                    "Ativo": "S",
                                    "DtAtualizacao": "2024-02-26 15:24:36.580"
                                },
                                {
                                    "CodMarca": "185",
                                    "Marca": "MULTIKIDS BABY",
                                    "Ativo": "S",
                                    "DtAtualizacao": "2024-02-26 15:24:40.503"
                                },
                                {
                                    "CodMarca": "186",
                                    "Marca": "DIMEP",
                                    "Ativo": "S",
                                    "DtAtualizacao": "2024-02-26 15:24:44.440"
                                },
                                {
                                    "CodMarca": "187",
                                    "Marca": "BEEKID",
                                    "Ativo": "S",
                                    "DtAtualizacao": "2024-02-26 15:24:48.403"
                                },
                                {
                                    "CodMarca": "188",
                                    "Marca": "NATHYPEL",
                                    "Ativo": "S",
                                    "DtAtualizacao": "2024-02-26 15:24:52.340"
                                },
                                {
                                    "CodMarca": "189",
                                    "Marca": "SUPER BOLHAS",
                                    "Ativo": "S",
                                    "DtAtualizacao": "2024-02-26 15:24:56.160"
                                },
                                {
                                    "CodMarca": "190",
                                    "Marca": "PUBLIFORMAS",
                                    "Ativo": "S",
                                    "DtAtualizacao": "2024-02-26 15:25:00.097"
                                },
                                {
                                    "CodMarca": "191",
                                    "Marca": "CYBEX",
                                    "Ativo": "S",
                                    "DtAtualizacao": "2024-02-26 15:25:03.987"
                                },
                                {
                                    "CodMarca": "192",
                                    "Marca": "GB",
                                    "Ativo": "S",
                                    "DtAtualizacao": "2024-02-26 15:25:07.800"
                                },
                                {
                                    "CodMarca": "193",
                                    "Marca": "CIA DO MOVEL",
                                    "Ativo": "S",
                                    "DtAtualizacao": "2024-02-26 15:25:11.720"
                                },
                                {
                                    "CodMarca": "194",
                                    "Marca": "ARGOX",
                                    "Ativo": "S",
                                    "DtAtualizacao": "2024-02-26 15:25:15.630"
                                },
                                {
                                    "CodMarca": "195",
                                    "Marca": "ADIJOMAR",
                                    "Ativo": "S",
                                    "DtAtualizacao": "2024-02-26 15:25:19.487"
                                },
                                {
                                    "CodMarca": "196",
                                    "Marca": "PUPEE",
                                    "Ativo": "S",
                                    "DtAtualizacao": "2024-02-26 15:25:23.423"
                                },
                                {
                                    "CodMarca": "197",
                                    "Marca": "DIVERTOYS",
                                    "Ativo": "S",
                                    "DtAtualizacao": "2024-02-26 15:25:27.377"
                                },
                                {
                                    "CodMarca": "198",
                                    "Marca": "CALOI",
                                    "Ativo": "S",
                                    "DtAtualizacao": "2024-02-26 15:25:31.160"
                                },
                                {
                                    "CodMarca": "199",
                                    "Marca": "KIDDO",
                                    "Ativo": "S",
                                    "DtAtualizacao": "2024-02-26 15:25:35.080"
                                },
                                {
                                    "CodMarca": "200",
                                    "Marca": "CATAPULTA",
                                    "Ativo": "S",
                                    "DtAtualizacao": "2024-02-26 15:25:39.017"
                                },
                                {
                                    "CodMarca": "201",
                                    "Marca": "LOVELY TOYS",
                                    "Ativo": "S",
                                    "DtAtualizacao": "2024-02-26 15:25:42.830"
                                },
                                {
                                    "CodMarca": "202",
                                    "Marca": "DOLCE HOME",
                                    "Ativo": "S",
                                    "DtAtualizacao": "2024-02-26 15:25:46.783"
                                },
                                {
                                    "CodMarca": "203",
                                    "Marca": "PLASHOME",
                                    "Ativo": "S",
                                    "DtAtualizacao": "2024-02-26 15:25:50.703"
                                },
                                {
                                    "CodMarca": "204",
                                    "Marca": "PHILIPS",
                                    "Ativo": "S",
                                    "DtAtualizacao": "2024-02-26 15:25:54.503"
                                },
                                {
                                    "CodMarca": "205",
                                    "Marca": "TOP TAG",
                                    "Ativo": "S",
                                    "DtAtualizacao": "2024-02-26 15:25:58.393"
                                },
                                {
                                    "CodMarca": "206",
                                    "Marca": "XALINGO PLAY",
                                    "Ativo": "S",
                                    "DtAtualizacao": "2024-02-26 15:26:02.313"
                                },
                                {
                                    "CodMarca": "207",
                                    "Marca": "INTEX",
                                    "Ativo": "S",
                                    "DtAtualizacao": "2024-02-26 15:26:06.260"
                                },
                                {
                                    "CodMarca": "208",
                                    "Marca": "LUDI CLUB",
                                    "Ativo": "S",
                                    "DtAtualizacao": "2024-02-26 15:26:10.050"
                                },
                                {
                                    "CodMarca": "209",
                                    "Marca": "SAKES",
                                    "Ativo": "S",
                                    "DtAtualizacao": "2024-02-26 15:26:14.003"
                                },
                                {
                                    "CodMarca": "210",
                                    "Marca": "MANTICA",
                                    "Ativo": "S",
                                    "DtAtualizacao": "2024-02-26 15:26:17.923"
                                },
                                {
                                    "CodMarca": "211",
                                    "Marca": "VIEW COSMETICOS",
                                    "Ativo": "S",
                                    "DtAtualizacao": "2024-02-26 15:26:21.720"
                                },
                                {
                                    "CodMarca": "212",
                                    "Marca": "BM36",
                                    "Ativo": "S",
                                    "DtAtualizacao": "2024-02-26 15:26:25.660"
                                },
                                {
                                    "CodMarca": "213",
                                    "Marca": "MARAL",
                                    "Ativo": "S",
                                    "DtAtualizacao": "2024-02-26 15:26:29.597"
                                },
                                {
                                    "CodMarca": "214",
                                    "Marca": "DICAN",
                                    "Ativo": "S",
                                    "DtAtualizacao": "2024-02-26 15:26:33.560"
                                },
                                {
                                    "CodMarca": "215",
                                    "Marca": "CUBER",
                                    "Ativo": "S",
                                    "DtAtualizacao": "2024-02-26 15:26:37.347"
                                },
                                {
                                    "CodMarca": "216",
                                    "Marca": "SIGMAFLEX",
                                    "Ativo": "S",
                                    "DtAtualizacao": "2024-02-26 15:26:41.860"
                                },
                                {
                                    "CodMarca": "217",
                                    "Marca": "BEBELIÊ",
                                    "Ativo": "S",
                                    "DtAtualizacao": "2024-02-26 15:26:45.767"
                                },
                                {
                                    "CodMarca": "218",
                                    "Marca": "OMG KIDS",
                                    "Ativo": "S",
                                    "DtAtualizacao": "2024-02-26 15:26:49.637"
                                },
                                {
                                    "CodMarca": "219",
                                    "Marca": "COLUNA",
                                    "Ativo": "S",
                                    "DtAtualizacao": "2024-02-26 15:26:53.550"
                                },
                                {
                                    "CodMarca": "220",
                                    "Marca": "ANGEL",
                                    "Ativo": "S",
                                    "DtAtualizacao": "2024-02-26 15:26:57.487"
                                },
                                {
                                    "CodMarca": "221",
                                    "Marca": "TA TE TI",
                                    "Ativo": "S",
                                    "DtAtualizacao": "2024-02-26 15:27:01.440"
                                },
                                {
                                    "CodMarca": "222",
                                    "Marca": "HP",
                                    "Ativo": "S",
                                    "DtAtualizacao": "2024-02-26 15:27:05.410"
                                },
                                {
                                    "CodMarca": "223",
                                    "Marca": "TECNIL",
                                    "Ativo": "S",
                                    "DtAtualizacao": "2024-02-26 15:27:09.363"
                                },
                                {
                                    "CodMarca": "224",
                                    "Marca": "MMV",
                                    "Ativo": "S",
                                    "DtAtualizacao": "2024-02-26 15:27:13.327"
                                },
                                {
                                    "CodMarca": "225",
                                    "Marca": "KITS PRESENTES",
                                    "Ativo": "S",
                                    "DtAtualizacao": "2024-02-26 15:27:17.143"
                                },
                                {
                                    "CodMarca": "226",
                                    "Marca": "I9 BRINQUEDOS",
                                    "Ativo": "S",
                                    "DtAtualizacao": "2024-02-26 15:27:21.117"
                                },
                                {
                                    "CodMarca": "227",
                                    "Marca": "ETILUX",
                                    "Ativo": "S",
                                    "DtAtualizacao": "2024-02-26 15:27:25.083"
                                },
                                {
                                    "CodMarca": "228",
                                    "Marca": "CLINK",
                                    "Ativo": "S",
                                    "DtAtualizacao": "2024-02-26 15:27:28.993"
                                },
                                {
                                    "CodMarca": "229",
                                    "Marca": "VMP",
                                    "Ativo": "S",
                                    "DtAtualizacao": "2024-02-26 15:27:32.910"
                                },
                                {
                                    "CodMarca": "230",
                                    "Marca": "EUROMIRROR",
                                    "Ativo": "S",
                                    "DtAtualizacao": "2024-02-26 15:27:36.850"
                                },
                                {
                                    "CodMarca": "564",
                                    "Marca": "BG BRINQUEDOS",
                                    "Ativo": "S",
                                    "DtAtualizacao": "2024-02-26 15:27:40.660"
                                },
                                {
                                    "CodMarca": "565",
                                    "Marca": "ANGEL TOYS",
                                    "Ativo": "S",
                                    "DtAtualizacao": "2024-02-26 15:27:44.580"
                                },
                                {
                                    "CodMarca": "9756",
                                    "Marca": "ZIP",
                                    "Ativo": "S",
                                    "DtAtualizacao": "2024-02-26 15:27:48.517"
                                },
                                {
                                    "CodMarca": "9757",
                                    "Marca": "FUTEBOL E MAGIA",
                                    "Ativo": "S",
                                    "DtAtualizacao": "2024-02-26 15:27:52.430"
                                },
                                {
                                    "CodMarca": "9796",
                                    "Marca": "STONE BIKE",
                                    "Ativo": "S",
                                    "DtAtualizacao": "2024-02-26 15:27:56.240"
                                },
                                {
                                    "CodMarca": "9797",
                                    "Marca": "CLICK IT",
                                    "Ativo": "S",
                                    "DtAtualizacao": "2024-02-26 15:28:00.403"
                                },
                                {
                                    "CodMarca": "9798",
                                    "Marca": "BA BE BI",
                                    "Ativo": "S",
                                    "DtAtualizacao": "2024-02-26 15:28:04.350"
                                },
                                {
                                    "CodMarca": "9799",
                                    "Marca": "JP BRINK",
                                    "Ativo": "S",
                                    "DtAtualizacao": "2024-02-26 15:28:08.183"
                                },
                                {
                                    "CodMarca": "9800",
                                    "Marca": "BIEMME",
                                    "Ativo": "S",
                                    "DtAtualizacao": "2024-02-26 15:28:12.163"
                                },
                                {
                                    "CodMarca": "9801",
                                    "Marca": "KENDY",
                                    "Ativo": "S",
                                    "DtAtualizacao": "2024-02-26 15:28:16.143"
                                },
                                {
                                    "CodMarca": "9802",
                                    "Marca": "SIDNYL",
                                    "Ativo": "S",
                                    "DtAtualizacao": "2024-02-26 15:28:19.993"
                                },
                                {
                                    "CodMarca": "9803",
                                    "Marca": "ROMA",
                                    "Ativo": "S",
                                    "DtAtualizacao": "2024-02-26 15:28:23.943"
                                },
                                {
                                    "CodMarca": "9804",
                                    "Marca": "FABRIKA DOS SONHOS",
                                    "Ativo": "S",
                                    "DtAtualizacao": "2024-02-26 15:28:27.877"
                                },
                                {
                                    "CodMarca": "9805",
                                    "Marca": "LUMINATI",
                                    "Ativo": "S",
                                    "DtAtualizacao": "2024-02-26 15:28:31.690"
                                },
                                {
                                    "CodMarca": "9806",
                                    "Marca": "WELLKIDS",
                                    "Ativo": "S",
                                    "DtAtualizacao": "2024-02-26 15:28:35.730"
                                },
                                {
                                    "CodMarca": "9807",
                                    "Marca": "POLIBRINQ",
                                    "Ativo": "S",
                                    "DtAtualizacao": "2024-02-26 15:28:39.673"
                                },
                                {
                                    "CodMarca": "9808",
                                    "Marca": "4M",
                                    "Ativo": "S",
                                    "DtAtualizacao": "2024-02-26 15:28:43.507"
                                },
                                {
                                    "CodMarca": "9809",
                                    "Marca": "TATUFUN",
                                    "Ativo": "S",
                                    "DtAtualizacao": "2024-02-26 15:28:47.580"
                                },
                                {
                                    "CodMarca": "9810",
                                    "Marca": "DM TOYS",
                                    "Ativo": "S",
                                    "DtAtualizacao": "2024-02-26 15:28:51.390"
                                },
                                {
                                    "CodMarca": "9811",
                                    "Marca": "COMETA",
                                    "Ativo": "S",
                                    "DtAtualizacao": "2024-02-26 15:28:55.447"
                                },
                                {
                                    "CodMarca": "9812",
                                    "Marca": "MARALEX",
                                    "Ativo": "S",
                                    "DtAtualizacao": "2024-02-26 15:28:59.417"
                                },
                                {
                                    "CodMarca": "9813",
                                    "Marca": "BS TOYS",
                                    "Ativo": "S",
                                    "DtAtualizacao": "2024-02-26 15:29:03.277"
                                },
                                {
                                    "CodMarca": "9814",
                                    "Marca": "OEX",
                                    "Ativo": "S",
                                    "DtAtualizacao": "2024-02-26 15:29:07.247"
                                },
                                {
                                    "CodMarca": "9815",
                                    "Marca": "CIRANDA CULTURAL",
                                    "Ativo": "S",
                                    "DtAtualizacao": "2024-02-26 15:29:11.190"
                                },
                                {
                                    "CodMarca": "9816",
                                    "Marca": "POLIPLAC",
                                    "Ativo": "S",
                                    "DtAtualizacao": "2024-02-26 15:29:15.033"
                                },
                                {
                                    "CodMarca": "9817",
                                    "Marca": "CALIFORNIA TOY",
                                    "Ativo": "S",
                                    "DtAtualizacao": "2024-02-26 15:29:18.957"
                                },
                                {
                                    "CodMarca": "9818",
                                    "Marca": "VILA TOY",
                                    "Ativo": "S",
                                    "DtAtualizacao": "2024-02-26 15:29:22.910"
                                },
                                {
                                    "CodMarca": "9819",
                                    "Marca": "TRIUNFO BRINDES",
                                    "Ativo": "S",
                                    "DtAtualizacao": "2024-02-26 15:29:26.737"
                                },
                                {
                                    "CodMarca": "9820",
                                    "Marca": "BRIGHT",
                                    "Ativo": "S",
                                    "DtAtualizacao": "2024-02-26 15:29:30.673"
                                },
                                {
                                    "CodMarca": "9821",
                                    "Marca": "SIMO TOYS",
                                    "Ativo": "S",
                                    "DtAtualizacao": "2024-02-26 15:29:34.610"
                                },
                                {
                                    "CodMarca": "9822",
                                    "Marca": "YINS",
                                    "Ativo": "S",
                                    "DtAtualizacao": "2024-02-26 15:29:38.463"
                                },
                                {
                                    "CodMarca": "9823",
                                    "Marca": "TOPPER",
                                    "Ativo": "S",
                                    "DtAtualizacao": "2024-02-26 15:29:42.540"
                                },
                                {
                                    "CodMarca": "9824",
                                    "Marca": "PANINI",
                                    "Ativo": "S",
                                    "DtAtualizacao": "2024-02-26 15:29:46.383"
                                },
                                {
                                    "CodMarca": "9825",
                                    "Marca": "BOLA GRANDE BRINQUEDO",
                                    "Ativo": "S",
                                    "DtAtualizacao": "2024-02-26 15:29:50.207"
                                },
                                {
                                    "CodMarca": "9826",
                                    "Marca": "XHADAY",
                                    "Ativo": "S",
                                    "DtAtualizacao": "2024-02-26 15:29:54.267"
                                },
                                {
                                    "CodMarca": "9827",
                                    "Marca": "SANREMO",
                                    "Ativo": "S",
                                    "DtAtualizacao": "2024-02-26 15:29:58.110"
                                },
                                {
                                    "CodMarca": "9828",
                                    "Marca": "DUALT",
                                    "Ativo": "S",
                                    "DtAtualizacao": "2024-02-26 15:30:01.940"
                                },
                                {
                                    "CodMarca": "9829",
                                    "Marca": "EXBOM",
                                    "Ativo": "S",
                                    "DtAtualizacao": "2024-02-26 15:30:05.987"
                                },
                                {
                                    "CodMarca": "9830",
                                    "Marca": "MGA",
                                    "Ativo": "S",
                                    "DtAtualizacao": "2024-02-26 15:30:09.820"
                                },
                                {
                                    "CodMarca": "9831",
                                    "Marca": "FUNKO",
                                    "Ativo": "S",
                                    "DtAtualizacao": "2024-02-26 15:30:13.627"
                                },
                                {
                                    "CodMarca": "9832",
                                    "Marca": "BRINQMUTTI",
                                    "Ativo": "S",
                                    "DtAtualizacao": "2024-02-26 15:30:17.720"
                                },
                                {
                                    "CodMarca": "9833",
                                    "Marca": "GGB",
                                    "Ativo": "S",
                                    "DtAtualizacao": "2024-02-26 15:30:21.553"
                                },
                                {
                                    "CodMarca": "9834",
                                    "Marca": "PAPER TOY",
                                    "Ativo": "S",
                                    "DtAtualizacao": "2024-02-26 15:30:25.510"
                                },
                                {
                                    "CodMarca": "9835",
                                    "Marca": "RR",
                                    "Ativo": "S",
                                    "DtAtualizacao": "2024-02-26 15:30:29.457"
                                },
                                {
                                    "CodMarca": "9836",
                                    "Marca": "MAGIC KIDS",
                                    "Ativo": "S",
                                    "DtAtualizacao": "2024-02-26 15:30:33.283"
                                },
                                {
                                    "CodMarca": "9837",
                                    "Marca": "MAPED",
                                    "Ativo": "S",
                                    "DtAtualizacao": "2024-02-26 15:30:37.263"
                                },
                                {
                                    "CodMarca": "9838",
                                    "Marca": "GUDARAPLAST",
                                    "Ativo": "S",
                                    "DtAtualizacao": "2024-02-26 15:30:41.190"
                                },
                                {
                                    "CodMarca": "9839",
                                    "Marca": "MUNDI MOCHILAS",
                                    "Ativo": "S",
                                    "DtAtualizacao": "2024-02-26 15:30:45.000"
                                },
                                {
                                    "CodMarca": "9840",
                                    "Marca": "INTEX",
                                    "Ativo": "S",
                                    "DtAtualizacao": "2024-02-26 15:30:48.957"
                                },
                                {
                                    "CodMarca": "9841",
                                    "Marca": "TOOKY TOY",
                                    "Ativo": "S",
                                    "DtAtualizacao": "2024-02-26 15:30:52.877"
                                },
                                {
                                    "CodMarca": "9842",
                                    "Marca": "BUP BABY",
                                    "Ativo": "S",
                                    "DtAtualizacao": "2024-02-26 15:30:56.673"
                                },
                                {
                                    "CodMarca": "9843",
                                    "Marca": "NUK",
                                    "Ativo": "S",
                                    "DtAtualizacao": "2024-02-26 15:31:00.610"
                                },
                                {
                                    "CodMarca": "9844",
                                    "Marca": "THE PETS",
                                    "Ativo": "S",
                                    "DtAtualizacao": "2024-02-26 15:31:04.567"
                                },
                                {
                                    "CodMarca": "9845",
                                    "Marca": "TINY LOVE",
                                    "Ativo": "S",
                                    "DtAtualizacao": "2024-02-26 15:31:08.393"
                                },
                                {
                                    "CodMarca": "9846",
                                    "Marca": "VOYAGE",
                                    "Ativo": "S",
                                    "DtAtualizacao": "2024-02-26 15:31:12.420"
                                },
                                {
                                    "CodMarca": "9847",
                                    "Marca": "SKIP HOP",
                                    "Ativo": "S",
                                    "DtAtualizacao": "2024-02-26 15:31:16.250"
                                },
                                {
                                    "CodMarca": "9848",
                                    "Marca": "JANOD",
                                    "Ativo": "S",
                                    "DtAtualizacao": "2024-02-26 15:31:20.127"
                                },
                                {
                                    "CodMarca": "9849",
                                    "Marca": "HAPPY BOOKS",
                                    "Ativo": "S",
                                    "DtAtualizacao": "2024-02-26 15:31:24.207"
                                },
                                {
                                    "CodMarca": "9850",
                                    "Marca": "KTS",
                                    "Ativo": "S",
                                    "DtAtualizacao": "2024-02-26 15:31:28.033"
                                },
                                {
                                    "CodMarca": "9851",
                                    "Marca": "SANTA KLAUS",
                                    "Ativo": "S",
                                    "DtAtualizacao": "2024-03-01 16:32:25.583"
                                }
                            ]
                        },
                        "text/html": [
                            "<table>",
                            "<tr><th>CodMarca</th><th>Marca</th><th>Ativo</th><th>DtAtualizacao</th></tr>",
                            "<tr><td>1</td><td>ESTRELA</td><td>S</td><td>2024-02-26 15:02:25.567</td></tr>",
                            "<tr><td>2</td><td>ANJOS BABY</td><td>S</td><td>2024-02-26 15:02:29.520</td></tr>",
                            "<tr><td>3</td><td>ELGIN</td><td>S</td><td>2024-02-26 15:12:54.580</td></tr>",
                            "<tr><td>4</td><td>BIG STAR</td><td>S</td><td>2024-02-26 15:12:58.457</td></tr>",
                            "<tr><td>5</td><td>SPEEDO</td><td>S</td><td>2024-02-26 15:13:02.300</td></tr>",
                            "<tr><td>6</td><td>DIAMONDS</td><td>S</td><td>2024-02-26 15:13:06.410</td></tr>",
                            "<tr><td>7</td><td>DTC</td><td>S</td><td>2024-02-26 15:13:10.330</td></tr>",
                            "<tr><td>8</td><td>ELKA</td><td>S</td><td>2024-02-26 15:13:14.190</td></tr>",
                            "<tr><td>9</td><td>FENZZA</td><td>S</td><td>2024-02-26 15:13:18.283</td></tr>",
                            "<tr><td>10</td><td>HASBRO</td><td>S</td><td>2024-02-26 15:13:22.160</td></tr>",
                            "<tr><td>11</td><td>HOMEPLAY</td><td>S</td><td>2024-02-26 15:13:26.003</td></tr>",
                            "<tr><td>12</td><td>JACKI DESIGN</td><td>S</td><td>2024-02-26 15:13:30.093</td></tr>",
                            "<tr><td>13</td><td>MILK</td><td>S</td><td>2024-02-26 15:13:33.923</td></tr>",
                            "<tr><td>14</td><td>CHENSON</td><td>S</td><td>2024-02-26 15:13:37.737</td></tr>",
                            "<tr><td>15</td><td>PAIS E FILHOS</td><td>S</td><td>2024-02-26 15:13:41.817</td></tr>",
                            "<tr><td>16</td><td>SHIKAS</td><td>S</td><td>2024-02-26 15:13:45.690</td></tr>",
                            "<tr><td>17</td><td>SESTINI</td><td>S</td><td>2024-02-26 15:13:49.653</td></tr>",
                            "<tr><td>18</td><td>USUAL PLASTIC</td><td>S</td><td>2024-02-26 15:13:53.563</td></tr>",
                            "<tr><td>19</td><td>BANDEIRANTE</td><td>S</td><td>2024-02-26 15:13:57.380</td></tr>",
                            "<tr><td>20</td><td>FUN TOYS</td><td>S</td><td>2024-02-26 15:14:01.477</td></tr>",
                            "<tr><td>21</td><td>BRINCADEIRA DE CRIANCA</td><td>S</td><td>2024-02-26 15:14:05.317</td></tr>",
                            "<tr><td>22</td><td>BUBA</td><td>S</td><td>2024-02-26 15:14:09.137</td></tr>",
                            "<tr><td>23</td><td>BUNGEE</td><td>S</td><td>2024-02-26 15:14:13.207</td></tr>",
                            "<tr><td>24</td><td>CALESITA</td><td>S</td><td>2024-02-26 15:14:17.003</td></tr>",
                            "<tr><td>25</td><td>CONTHEY</td><td>S</td><td>2024-02-26 15:14:20.830</td></tr>",
                            "<tr><td>26</td><td>COPAG</td><td>S</td><td>2024-02-26 15:14:24.863</td></tr>",
                            "<tr><td>27</td><td>SOCCER STARZ</td><td>S</td><td>2024-02-26 15:14:28.673</td></tr>",
                            "<tr><td>28</td><td>DERMIWIL</td><td>S</td><td>2024-02-26 15:14:32.503</td></tr>",
                            "<tr><td>29</td><td>DURACELL</td><td>S</td><td>2024-02-26 15:14:36.613</td></tr>",
                            "<tr><td>30</td><td>FENIX</td><td>S</td><td>2024-02-26 15:14:40.457</td></tr>",
                            "<tr><td>31</td><td>GROW</td><td>S</td><td>2024-02-26 15:14:44.270</td></tr>",
                            "<tr><td>32</td><td>GULLIVER</td><td>S</td><td>2024-02-26 15:14:48.630</td></tr>",
                            "<tr><td>33</td><td>LEGO</td><td>S</td><td>2024-02-26 15:14:52.440</td></tr>",
                            "<tr><td>34</td><td>LIDER</td><td>S</td><td>2024-02-26 15:14:56.370</td></tr>",
                            "<tr><td>35</td><td>LONG JUMP</td><td>S</td><td>2024-02-26 15:15:00.350</td></tr>",
                            "<tr><td>36</td><td>MAPTOY</td><td>S</td><td>2024-02-26 15:15:04.177</td></tr>",
                            "<tr><td>37</td><td>MATTEL</td><td>S</td><td>2024-02-26 15:15:08.223</td></tr>",
                            "<tr><td>38</td><td>MIMO</td><td>S</td><td>2024-02-26 15:15:12.020</td></tr>",
                            "<tr><td>39</td><td>MOR</td><td>S</td><td>2024-02-26 15:15:15.863</td></tr>",
                            "<tr><td>40</td><td>MULTIBRINK</td><td>S</td><td>2024-02-26 15:15:19.893</td></tr>",
                            "<tr><td>41</td><td>ROTOBRINQ</td><td>S</td><td>2024-02-26 15:15:23.707</td></tr>",
                            "<tr><td>42</td><td>SUNDOWN</td><td>S</td><td>2024-02-26 15:15:27.520</td></tr>",
                            "<tr><td>43</td><td>SUNNY</td><td>S</td><td>2024-02-26 15:15:31.613</td></tr>",
                            "<tr><td>44</td><td>TOYNG</td><td>S</td><td>2024-02-26 15:15:35.440</td></tr>",
                            "<tr><td>45</td><td>YELLOW</td><td>S</td><td>2024-02-26 15:15:39.253</td></tr>",
                            "<tr><td>46</td><td>ALPHA</td><td>S</td><td>2024-02-26 15:15:43.330</td></tr>",
                            "<tr><td>47</td><td>BABY BRINK</td><td>S</td><td>2024-02-26 15:15:47.207</td></tr>",
                            "<tr><td>48</td><td>OREGON</td><td>S</td><td>2024-02-26 15:15:51.033</td></tr>",
                            "<tr><td>49</td><td>SEANITE</td><td>S</td><td>2024-02-26 15:15:55.067</td></tr>",
                            "<tr><td>50</td><td>RUBIES</td><td>S</td><td>2024-02-26 15:15:58.877</td></tr>",
                            "<tr><td>51</td><td>XERYUS</td><td>S</td><td>2024-02-26 15:16:02.707</td></tr>",
                            "<tr><td>52</td><td>VALE DAS LETRAS</td><td>S</td><td>2024-02-26 15:16:06.783</td></tr>",
                            "<tr><td>53</td><td>FRESCOR</td><td>S</td><td>2024-02-26 15:16:10.627</td></tr>",
                            "<tr><td>54</td><td>CAPITAL TRADE</td><td>S</td><td>2024-02-26 15:16:14.577</td></tr>",
                            "<tr><td>55</td><td>KI-TOK</td><td>S</td><td>2024-02-26 15:16:18.540</td></tr>",
                            "<tr><td>57</td><td>BANBAO</td><td>S</td><td>2024-02-26 15:16:22.397</td></tr>",
                            "<tr><td>58</td><td>NEW TOYS</td><td>S</td><td>2024-02-26 15:16:26.433</td></tr>",
                            "<tr><td>59</td><td>CARDOSO</td><td>S</td><td>2024-02-26 15:16:30.253</td></tr>",
                            "<tr><td>61</td><td>BM3 </td><td>S</td><td>2024-02-26 15:16:34.050</td></tr>",
                            "<tr><td>62</td><td>CORTEX</td><td>S</td><td>2024-02-26 15:16:38.097</td></tr>",
                            "<tr><td>63</td><td>DCL</td><td>S</td><td>2024-02-26 15:16:41.923</td></tr>",
                            "<tr><td>64</td><td>Z.B. ALVES </td><td>S</td><td>2024-02-26 15:16:45.787</td></tr>",
                            "<tr><td>65</td><td>SEVEN</td><td>S</td><td>2024-02-26 15:16:50.857</td></tr>",
                            "<tr><td>66</td><td>SEMANN</td><td>S</td><td>2024-02-26 15:16:54.677</td></tr>",
                            "<tr><td>67</td><td>SONATA</td><td>S</td><td>2024-02-26 15:16:58.493</td></tr>",
                            "<tr><td>68</td><td>ORANGE</td><td>S</td><td>2024-02-26 15:17:02.573</td></tr>",
                            "<tr><td>69</td><td>MAISTO</td><td>S</td><td>2024-02-26 15:17:06.400</td></tr>",
                            "<tr><td>70</td><td>DISNEY DVD</td><td>S</td><td>2024-02-26 15:17:10.370</td></tr>",
                            "<tr><td>71</td><td>MULTILASER</td><td>S</td><td>2024-02-26 15:17:14.310</td></tr>",
                            "<tr><td>72</td><td>TOYSTER</td><td>S</td><td>2024-02-26 15:17:18.113</td></tr>",
                            "<tr><td>73</td><td>MIELLE</td><td>S</td><td>2024-02-26 15:17:22.020</td></tr>",
                            "<tr><td>74</td><td>MAGIC TOYS</td><td>S</td><td>2024-02-26 15:17:25.940</td></tr>",
                            "<tr><td>75</td><td>T.Y.L</td><td>S</td><td>2024-02-26 15:17:29.753</td></tr>",
                            "<tr><td>76</td><td>BRASKIT</td><td>S</td><td>2024-02-26 15:17:33.673</td></tr>",
                            "<tr><td>77</td><td>IN BRASIL</td><td>S</td><td>2024-02-26 15:17:37.627</td></tr>",
                            "<tr><td>78</td><td>LACO DE FITA</td><td>S</td><td>2024-02-26 15:17:41.410</td></tr>",
                            "<tr><td>79</td><td>M&amp;P</td><td>S</td><td>2024-02-26 15:17:45.437</td></tr>",
                            "<tr><td>80</td><td>DIVERTIX</td><td>S</td><td>2024-02-26 15:17:49.420</td></tr>",
                            "<tr><td>81</td><td>NAUTIKA</td><td>S</td><td>2024-02-26 15:17:53.237</td></tr>",
                            "<tr><td>82</td><td>NIG BRINQUEDOS</td><td>S</td><td>2024-02-26 15:17:57.710</td></tr>",
                            "<tr><td>83</td><td>ALGAZARRA</td><td>S</td><td>2024-02-26 15:18:01.517</td></tr>",
                            "<tr><td>84</td><td>ANNA JULIA BRINQUEDOS</td><td>S</td><td>2024-02-26 15:18:05.480</td></tr>",
                            "<tr><td>85</td><td>BRINKSHOP</td><td>S</td><td>2024-02-26 15:18:09.447</td></tr>",
                            "<tr><td>86</td><td>* INATIVO BBRA</td><td>N</td><td>2024-02-26 15:18:13.287</td></tr>",
                            "<tr><td>87</td><td>PLASTILINDO</td><td>S</td><td>2024-02-26 15:18:17.243</td></tr>",
                            "<tr><td>88</td><td>C MART TOYS</td><td>S</td><td>2024-02-26 15:18:21.197</td></tr>",
                            "<tr><td>89</td><td>BRINQUEDOS ANJO</td><td>S</td><td>2024-02-26 15:18:24.953</td></tr>",
                            "<tr><td>90</td><td>KROMO</td><td>S</td><td>2024-02-26 15:18:28.877</td></tr>",
                            "<tr><td>91</td><td>BEE TOYS</td><td>S</td><td>2024-02-26 15:18:32.800</td></tr>",
                            "<tr><td>92</td><td>PHORWORK</td><td>S</td><td>2024-02-26 15:18:36.613</td></tr>",
                            "<tr><td>93</td><td>GRAFONS</td><td>S</td><td>2024-02-26 15:18:40.527</td></tr>",
                            "<tr><td>94</td><td>FEMACELL</td><td>S</td><td>2024-02-26 15:18:44.477</td></tr>",
                            "<tr><td>95</td><td>PACIFIC</td><td>S</td><td>2024-02-26 15:18:48.303</td></tr>",
                            "<tr><td>96</td><td>PAULIENNE</td><td>S</td><td>2024-02-26 15:18:52.330</td></tr>",
                            "<tr><td>97</td><td>CBI</td><td>S</td><td>2024-02-26 15:18:56.133</td></tr>",
                            "<tr><td>98</td><td>CKS</td><td>S</td><td>2024-02-26 15:18:59.940</td></tr>",
                            "<tr><td>99</td><td>YES TOYS</td><td>S</td><td>2024-02-26 15:19:04.027</td></tr>",
                            "<tr><td>100</td><td>XALINGO</td><td>S</td><td>2024-02-26 15:19:07.857</td></tr>",
                            "<tr><td>101</td><td>EPOCH MAGIA</td><td>S</td><td>2024-02-26 15:19:11.670</td></tr>",
                            "<tr><td>102</td><td>ROSITA</td><td>S</td><td>2024-02-26 15:19:15.680</td></tr>",
                            "<tr><td>103</td><td>BOLAS CANARINHA</td><td>S</td><td>2024-02-26 15:19:19.457</td></tr>",
                            "<tr><td>104</td><td>ZIPPY TOYS</td><td>S</td><td>2024-02-26 15:19:23.407</td></tr>",
                            "<tr><td>105</td><td>SHINY TOYS</td><td>S</td><td>2024-02-26 15:19:27.350</td></tr>",
                            "<tr><td>106</td><td>DICAN</td><td>S</td><td>2024-02-26 15:19:31.147</td></tr>",
                            "<tr><td>107</td><td>INTEK</td><td>S</td><td>2024-02-26 15:19:35.050</td></tr>",
                            "<tr><td>108</td><td>LOTUS</td><td>S</td><td>2024-02-26 15:19:38.990</td></tr>",
                            "<tr><td>109</td><td>GRAN EXPRESSO</td><td>S</td><td>2024-02-26 15:19:42.830</td></tr>",
                            "<tr><td>110</td><td>SAMSUNG</td><td>S</td><td>2024-02-26 15:19:46.817</td></tr>",
                            "<tr><td>111</td><td>BANGTOYS</td><td>S</td><td>2024-02-26 15:19:50.753</td></tr>",
                            "<tr><td>112</td><td>TOMY</td><td>S</td><td>2024-02-26 15:19:54.597</td></tr>",
                            "<tr><td>113</td><td>WINFUN</td><td>S</td><td>2024-02-26 15:19:58.550</td></tr>",
                            "<tr><td>114</td><td>VTECH</td><td>S</td><td>2024-02-26 15:20:02.503</td></tr>",
                            "<tr><td>115</td><td>CRAYOLA</td><td>S</td><td>2024-02-26 15:20:06.283</td></tr>",
                            "<tr><td>116</td><td>ABRAKIDABRA</td><td>S</td><td>2024-02-26 15:20:10.320</td></tr>",
                            "<tr><td>117</td><td>COTIPLAS</td><td>S</td><td>2024-02-26 15:20:14.127</td></tr>",
                            "<tr><td>118</td><td>JAPS</td><td>S</td><td>2024-02-26 15:20:17.923</td></tr>",
                            "<tr><td>119</td><td>LITTLE TIKES</td><td>S</td><td>2024-02-26 15:20:21.987</td></tr>",
                            "<tr><td>120</td><td>GESSELE</td><td>S</td><td>2024-02-26 15:20:25.817</td></tr>",
                            "<tr><td>121</td><td>NATIONAL GEOGRAPHIC</td><td>S</td><td>2024-02-26 15:20:29.707</td></tr>",
                            "<tr><td>122</td><td>SP OXIGENIO</td><td>S</td><td>2024-02-26 15:20:33.737</td></tr>",
                            "<tr><td>123</td><td>CANDIDE</td><td>S</td><td>2024-02-26 15:20:37.550</td></tr>",
                            "<tr><td>124</td><td>SOFT BABY</td><td>S</td><td>2024-02-26 15:20:41.463</td></tr>",
                            "<tr><td>125</td><td>PURA DIVERSÃO</td><td>S</td><td>2024-02-26 15:20:45.440</td></tr>",
                            "<tr><td>126</td><td>VERDEN BIKES</td><td>S</td><td>2024-02-26 15:20:49.270</td></tr>",
                            "<tr><td>127</td><td>IMPORTADO</td><td>S</td><td>2024-02-26 15:20:53.207</td></tr>",
                            "<tr><td>128</td><td>DELL</td><td>S</td><td>2024-02-26 15:20:57.127</td></tr>",
                            "<tr><td>129</td><td>RCA</td><td>S</td><td>2024-02-26 15:21:01.033</td></tr>",
                            "<tr><td>130</td><td>SAMBA TOYS</td><td>S</td><td>2024-02-26 15:21:04.943</td></tr>",
                            "<tr><td>131</td><td>ART BRINK</td><td>S</td><td>2024-02-26 15:21:08.893</td></tr>",
                            "<tr><td>132</td><td>ZR TOYS</td><td>S</td><td>2024-02-26 15:21:12.707</td></tr>",
                            "<tr><td>133</td><td>EVAMAX</td><td>S</td><td>2024-02-26 15:21:16.627</td></tr>",
                            "<tr><td>134</td><td>FRESO</td><td>S</td><td>2024-02-26 15:21:20.533</td></tr>",
                            "<tr><td>135</td><td>KIMASTER</td><td>S</td><td>2024-02-26 15:21:24.347</td></tr>",
                            "<tr><td>136</td><td>ONE SPORT</td><td>S</td><td>2024-02-26 15:21:28.403</td></tr>",
                            "<tr><td>137</td><td>PROVIDER</td><td>S</td><td>2024-02-26 15:21:32.220</td></tr>",
                            "<tr><td>138</td><td>CLIO STYLE</td><td>S</td><td>2024-02-26 15:21:36.033</td></tr>",
                            "<tr><td>139</td><td>DISMAT</td><td>S</td><td>2024-02-26 15:21:40.110</td></tr>",
                            "<tr><td>140</td><td>NATHOR</td><td>S</td><td>2024-02-26 15:21:43.987</td></tr>",
                            "<tr><td>141</td><td>GALAPAGOS</td><td>S</td><td>2024-02-26 15:21:47.800</td></tr>",
                            "<tr><td>142</td><td>COLLI</td><td>S</td><td>2024-02-26 15:21:51.847</td></tr>",
                            "<tr><td>143</td><td>ZONA CRIATIVA</td><td>S</td><td>2024-02-26 15:21:55.673</td></tr>",
                            "<tr><td>144</td><td>SKY</td><td>S</td><td>2024-02-26 15:21:59.487</td></tr>",
                            "<tr><td>145</td><td>PANASONIC</td><td>S</td><td>2024-02-26 15:22:03.550</td></tr>",
                            "<tr><td>146</td><td>DERMIWIL</td><td>N</td><td>2024-02-26 15:22:07.377</td></tr>",
                            "<tr><td>147</td><td>SANTINO</td><td>S</td><td>2024-02-26 15:22:11.310</td></tr>",
                            "<tr><td>148</td><td>LIKE</td><td>S</td><td>2024-02-26 15:22:15.260</td></tr>",
                            "<tr><td>149</td><td>ORBEA</td><td>S</td><td>2024-02-26 15:22:19.080</td></tr>",
                            "<tr><td>150</td><td>STYLL BABY</td><td>S</td><td>2024-02-26 15:22:23.007</td></tr>",
                            "<tr><td>151</td><td>BELFIX</td><td>S</td><td>2024-02-26 15:22:26.987</td></tr>",
                            "<tr><td>152</td><td>OPCAO EMB</td><td>S</td><td>2024-02-26 15:22:30.800</td></tr>",
                            "<tr><td>153</td><td>H7</td><td>S</td><td>2024-02-26 15:22:35.127</td></tr>",
                            "<tr><td>154</td><td>SUPER TOYS</td><td>S</td><td>2024-02-26 15:22:39.063</td></tr>",
                            "<tr><td>155</td><td>KUKA</td><td>S</td><td>2024-02-26 15:22:42.893</td></tr>",
                            "<tr><td>156</td><td>ARTVINCO</td><td>S</td><td>2024-02-26 15:22:46.837</td></tr>",
                            "<tr><td>157</td><td>REALTEX</td><td>S</td><td>2024-02-26 15:22:50.773</td></tr>",
                            "<tr><td>158</td><td>BELLA ARTY</td><td>S</td><td>2024-02-26 15:22:54.643</td></tr>",
                            "<tr><td>159</td><td>ZEBRA</td><td>S</td><td>2024-02-26 15:22:58.827</td></tr>",
                            "<tr><td>160</td><td>ISANOG</td><td>S</td><td>2024-02-26 15:23:02.740</td></tr>",
                            "<tr><td>161</td><td>AVENT</td><td>S</td><td>2024-02-26 15:23:06.550</td></tr>",
                            "<tr><td>162</td><td>CHICCO</td><td>S</td><td>2024-02-26 15:23:10.510</td></tr>",
                            "<tr><td>163</td><td>ANICO</td><td>S</td><td>2024-02-26 15:23:14.493</td></tr>",
                            "<tr><td>164</td><td>BURIGOTTO</td><td>S</td><td>2024-02-26 15:23:18.503</td></tr>",
                            "<tr><td>165</td><td>INFANTI</td><td>S</td><td>2024-02-26 15:23:22.423</td></tr>",
                            "<tr><td>166</td><td>MAXI-COSI</td><td>S</td><td>2024-02-26 15:23:26.277</td></tr>",
                            "<tr><td>167</td><td>SAFETY 1ST</td><td>S</td><td>2024-02-26 15:23:30.353</td></tr>",
                            "<tr><td>168</td><td>FENIX CONFECCAO</td><td>S</td><td>2024-02-26 15:23:34.287</td></tr>",
                            "<tr><td>169</td><td>MAM</td><td>S</td><td>2024-02-26 15:23:38.120</td></tr>",
                            "<tr><td>170</td><td>KANXA</td><td>S</td><td>2024-02-26 15:23:42.083</td></tr>",
                            "<tr><td>171</td><td>GALZERANO</td><td>S</td><td>2024-02-26 15:23:46.057</td></tr>",
                            "<tr><td>172</td><td>MY MAX</td><td>S</td><td>2024-02-26 15:23:49.860</td></tr>",
                            "<tr><td>173</td><td>EDITORA ESTRELA CULTURAL</td><td>S</td><td>2024-02-26 15:23:53.813</td></tr>",
                            "<tr><td>174</td><td>PLANETA</td><td>S</td><td>2024-02-26 15:23:57.753</td></tr>",
                            "<tr><td>175</td><td>FLATEX</td><td>S</td><td>2024-02-26 15:24:01.560</td></tr>",
                            "<tr><td>176</td><td>BBR TOYS</td><td>S</td><td>2024-02-26 15:24:05.530</td></tr>",
                            "<tr><td>177</td><td>DOCE BRINQUEDO</td><td>S</td><td>2024-02-26 15:24:09.440</td></tr>",
                            "<tr><td>178</td><td>ASCA TOYS</td><td>S</td><td>2024-02-26 15:24:13.270</td></tr>",
                            "<tr><td>179</td><td>SULAMERICANA</td><td>S</td><td>2024-02-26 15:24:17.190</td></tr>",
                            "<tr><td>180</td><td>LUXCEL</td><td>S</td><td>2024-02-26 15:24:21.097</td></tr>",
                            "<tr><td>181</td><td>MAXTOY</td><td>S</td><td>2024-02-26 15:24:24.923</td></tr>",
                            "<tr><td>182</td><td>PEG PEREGO</td><td>S</td><td>2024-02-26 15:24:28.847</td></tr>",
                            "<tr><td>183</td><td>ACRILEX</td><td>S</td><td>2024-02-26 15:24:32.733</td></tr>",
                            "<tr><td>184</td><td>BRINK MODEL</td><td>S</td><td>2024-02-26 15:24:36.580</td></tr>",
                            "<tr><td>185</td><td>MULTIKIDS BABY</td><td>S</td><td>2024-02-26 15:24:40.503</td></tr>",
                            "<tr><td>186</td><td>DIMEP</td><td>S</td><td>2024-02-26 15:24:44.440</td></tr>",
                            "<tr><td>187</td><td>BEEKID</td><td>S</td><td>2024-02-26 15:24:48.403</td></tr>",
                            "<tr><td>188</td><td>NATHYPEL</td><td>S</td><td>2024-02-26 15:24:52.340</td></tr>",
                            "<tr><td>189</td><td>SUPER BOLHAS</td><td>S</td><td>2024-02-26 15:24:56.160</td></tr>",
                            "<tr><td>190</td><td>PUBLIFORMAS</td><td>S</td><td>2024-02-26 15:25:00.097</td></tr>",
                            "<tr><td>191</td><td>CYBEX</td><td>S</td><td>2024-02-26 15:25:03.987</td></tr>",
                            "<tr><td>192</td><td>GB</td><td>S</td><td>2024-02-26 15:25:07.800</td></tr>",
                            "<tr><td>193</td><td>CIA DO MOVEL</td><td>S</td><td>2024-02-26 15:25:11.720</td></tr>",
                            "<tr><td>194</td><td>ARGOX</td><td>S</td><td>2024-02-26 15:25:15.630</td></tr>",
                            "<tr><td>195</td><td>ADIJOMAR</td><td>S</td><td>2024-02-26 15:25:19.487</td></tr>",
                            "<tr><td>196</td><td>PUPEE</td><td>S</td><td>2024-02-26 15:25:23.423</td></tr>",
                            "<tr><td>197</td><td>DIVERTOYS</td><td>S</td><td>2024-02-26 15:25:27.377</td></tr>",
                            "<tr><td>198</td><td>CALOI</td><td>S</td><td>2024-02-26 15:25:31.160</td></tr>",
                            "<tr><td>199</td><td>KIDDO</td><td>S</td><td>2024-02-26 15:25:35.080</td></tr>",
                            "<tr><td>200</td><td>CATAPULTA</td><td>S</td><td>2024-02-26 15:25:39.017</td></tr>",
                            "<tr><td>201</td><td>LOVELY TOYS</td><td>S</td><td>2024-02-26 15:25:42.830</td></tr>",
                            "<tr><td>202</td><td>DOLCE HOME</td><td>S</td><td>2024-02-26 15:25:46.783</td></tr>",
                            "<tr><td>203</td><td>PLASHOME</td><td>S</td><td>2024-02-26 15:25:50.703</td></tr>",
                            "<tr><td>204</td><td>PHILIPS</td><td>S</td><td>2024-02-26 15:25:54.503</td></tr>",
                            "<tr><td>205</td><td>TOP TAG</td><td>S</td><td>2024-02-26 15:25:58.393</td></tr>",
                            "<tr><td>206</td><td>XALINGO PLAY</td><td>S</td><td>2024-02-26 15:26:02.313</td></tr>",
                            "<tr><td>207</td><td>INTEX</td><td>S</td><td>2024-02-26 15:26:06.260</td></tr>",
                            "<tr><td>208</td><td>LUDI CLUB</td><td>S</td><td>2024-02-26 15:26:10.050</td></tr>",
                            "<tr><td>209</td><td>SAKES</td><td>S</td><td>2024-02-26 15:26:14.003</td></tr>",
                            "<tr><td>210</td><td>MANTICA</td><td>S</td><td>2024-02-26 15:26:17.923</td></tr>",
                            "<tr><td>211</td><td>VIEW COSMETICOS</td><td>S</td><td>2024-02-26 15:26:21.720</td></tr>",
                            "<tr><td>212</td><td>BM36</td><td>S</td><td>2024-02-26 15:26:25.660</td></tr>",
                            "<tr><td>213</td><td>MARAL</td><td>S</td><td>2024-02-26 15:26:29.597</td></tr>",
                            "<tr><td>214</td><td>DICAN</td><td>S</td><td>2024-02-26 15:26:33.560</td></tr>",
                            "<tr><td>215</td><td>CUBER</td><td>S</td><td>2024-02-26 15:26:37.347</td></tr>",
                            "<tr><td>216</td><td>SIGMAFLEX</td><td>S</td><td>2024-02-26 15:26:41.860</td></tr>",
                            "<tr><td>217</td><td>BEBELIÊ</td><td>S</td><td>2024-02-26 15:26:45.767</td></tr>",
                            "<tr><td>218</td><td>OMG KIDS</td><td>S</td><td>2024-02-26 15:26:49.637</td></tr>",
                            "<tr><td>219</td><td>COLUNA</td><td>S</td><td>2024-02-26 15:26:53.550</td></tr>",
                            "<tr><td>220</td><td>ANGEL</td><td>S</td><td>2024-02-26 15:26:57.487</td></tr>",
                            "<tr><td>221</td><td>TA TE TI</td><td>S</td><td>2024-02-26 15:27:01.440</td></tr>",
                            "<tr><td>222</td><td>HP</td><td>S</td><td>2024-02-26 15:27:05.410</td></tr>",
                            "<tr><td>223</td><td>TECNIL</td><td>S</td><td>2024-02-26 15:27:09.363</td></tr>",
                            "<tr><td>224</td><td>MMV</td><td>S</td><td>2024-02-26 15:27:13.327</td></tr>",
                            "<tr><td>225</td><td>KITS PRESENTES</td><td>S</td><td>2024-02-26 15:27:17.143</td></tr>",
                            "<tr><td>226</td><td>I9 BRINQUEDOS</td><td>S</td><td>2024-02-26 15:27:21.117</td></tr>",
                            "<tr><td>227</td><td>ETILUX</td><td>S</td><td>2024-02-26 15:27:25.083</td></tr>",
                            "<tr><td>228</td><td>CLINK</td><td>S</td><td>2024-02-26 15:27:28.993</td></tr>",
                            "<tr><td>229</td><td>VMP</td><td>S</td><td>2024-02-26 15:27:32.910</td></tr>",
                            "<tr><td>230</td><td>EUROMIRROR</td><td>S</td><td>2024-02-26 15:27:36.850</td></tr>",
                            "<tr><td>564</td><td>BG BRINQUEDOS</td><td>S</td><td>2024-02-26 15:27:40.660</td></tr>",
                            "<tr><td>565</td><td>ANGEL TOYS</td><td>S</td><td>2024-02-26 15:27:44.580</td></tr>",
                            "<tr><td>9756</td><td>ZIP</td><td>S</td><td>2024-02-26 15:27:48.517</td></tr>",
                            "<tr><td>9757</td><td>FUTEBOL E MAGIA</td><td>S</td><td>2024-02-26 15:27:52.430</td></tr>",
                            "<tr><td>9796</td><td>STONE BIKE</td><td>S</td><td>2024-02-26 15:27:56.240</td></tr>",
                            "<tr><td>9797</td><td>CLICK IT</td><td>S</td><td>2024-02-26 15:28:00.403</td></tr>",
                            "<tr><td>9798</td><td>BA BE BI</td><td>S</td><td>2024-02-26 15:28:04.350</td></tr>",
                            "<tr><td>9799</td><td>JP BRINK</td><td>S</td><td>2024-02-26 15:28:08.183</td></tr>",
                            "<tr><td>9800</td><td>BIEMME</td><td>S</td><td>2024-02-26 15:28:12.163</td></tr>",
                            "<tr><td>9801</td><td>KENDY</td><td>S</td><td>2024-02-26 15:28:16.143</td></tr>",
                            "<tr><td>9802</td><td>SIDNYL</td><td>S</td><td>2024-02-26 15:28:19.993</td></tr>",
                            "<tr><td>9803</td><td>ROMA</td><td>S</td><td>2024-02-26 15:28:23.943</td></tr>",
                            "<tr><td>9804</td><td>FABRIKA DOS SONHOS</td><td>S</td><td>2024-02-26 15:28:27.877</td></tr>",
                            "<tr><td>9805</td><td>LUMINATI</td><td>S</td><td>2024-02-26 15:28:31.690</td></tr>",
                            "<tr><td>9806</td><td>WELLKIDS</td><td>S</td><td>2024-02-26 15:28:35.730</td></tr>",
                            "<tr><td>9807</td><td>POLIBRINQ</td><td>S</td><td>2024-02-26 15:28:39.673</td></tr>",
                            "<tr><td>9808</td><td>4M</td><td>S</td><td>2024-02-26 15:28:43.507</td></tr>",
                            "<tr><td>9809</td><td>TATUFUN</td><td>S</td><td>2024-02-26 15:28:47.580</td></tr>",
                            "<tr><td>9810</td><td>DM TOYS</td><td>S</td><td>2024-02-26 15:28:51.390</td></tr>",
                            "<tr><td>9811</td><td>COMETA</td><td>S</td><td>2024-02-26 15:28:55.447</td></tr>",
                            "<tr><td>9812</td><td>MARALEX</td><td>S</td><td>2024-02-26 15:28:59.417</td></tr>",
                            "<tr><td>9813</td><td>BS TOYS</td><td>S</td><td>2024-02-26 15:29:03.277</td></tr>",
                            "<tr><td>9814</td><td>OEX</td><td>S</td><td>2024-02-26 15:29:07.247</td></tr>",
                            "<tr><td>9815</td><td>CIRANDA CULTURAL</td><td>S</td><td>2024-02-26 15:29:11.190</td></tr>",
                            "<tr><td>9816</td><td>POLIPLAC</td><td>S</td><td>2024-02-26 15:29:15.033</td></tr>",
                            "<tr><td>9817</td><td>CALIFORNIA TOY</td><td>S</td><td>2024-02-26 15:29:18.957</td></tr>",
                            "<tr><td>9818</td><td>VILA TOY</td><td>S</td><td>2024-02-26 15:29:22.910</td></tr>",
                            "<tr><td>9819</td><td>TRIUNFO BRINDES</td><td>S</td><td>2024-02-26 15:29:26.737</td></tr>",
                            "<tr><td>9820</td><td>BRIGHT</td><td>S</td><td>2024-02-26 15:29:30.673</td></tr>",
                            "<tr><td>9821</td><td>SIMO TOYS</td><td>S</td><td>2024-02-26 15:29:34.610</td></tr>",
                            "<tr><td>9822</td><td>YINS</td><td>S</td><td>2024-02-26 15:29:38.463</td></tr>",
                            "<tr><td>9823</td><td>TOPPER</td><td>S</td><td>2024-02-26 15:29:42.540</td></tr>",
                            "<tr><td>9824</td><td>PANINI</td><td>S</td><td>2024-02-26 15:29:46.383</td></tr>",
                            "<tr><td>9825</td><td>BOLA GRANDE BRINQUEDO</td><td>S</td><td>2024-02-26 15:29:50.207</td></tr>",
                            "<tr><td>9826</td><td>XHADAY</td><td>S</td><td>2024-02-26 15:29:54.267</td></tr>",
                            "<tr><td>9827</td><td>SANREMO</td><td>S</td><td>2024-02-26 15:29:58.110</td></tr>",
                            "<tr><td>9828</td><td>DUALT</td><td>S</td><td>2024-02-26 15:30:01.940</td></tr>",
                            "<tr><td>9829</td><td>EXBOM</td><td>S</td><td>2024-02-26 15:30:05.987</td></tr>",
                            "<tr><td>9830</td><td>MGA</td><td>S</td><td>2024-02-26 15:30:09.820</td></tr>",
                            "<tr><td>9831</td><td>FUNKO</td><td>S</td><td>2024-02-26 15:30:13.627</td></tr>",
                            "<tr><td>9832</td><td>BRINQMUTTI</td><td>S</td><td>2024-02-26 15:30:17.720</td></tr>",
                            "<tr><td>9833</td><td>GGB</td><td>S</td><td>2024-02-26 15:30:21.553</td></tr>",
                            "<tr><td>9834</td><td>PAPER TOY</td><td>S</td><td>2024-02-26 15:30:25.510</td></tr>",
                            "<tr><td>9835</td><td>RR</td><td>S</td><td>2024-02-26 15:30:29.457</td></tr>",
                            "<tr><td>9836</td><td>MAGIC KIDS</td><td>S</td><td>2024-02-26 15:30:33.283</td></tr>",
                            "<tr><td>9837</td><td>MAPED</td><td>S</td><td>2024-02-26 15:30:37.263</td></tr>",
                            "<tr><td>9838</td><td>GUDARAPLAST</td><td>S</td><td>2024-02-26 15:30:41.190</td></tr>",
                            "<tr><td>9839</td><td>MUNDI MOCHILAS</td><td>S</td><td>2024-02-26 15:30:45.000</td></tr>",
                            "<tr><td>9840</td><td>INTEX</td><td>S</td><td>2024-02-26 15:30:48.957</td></tr>",
                            "<tr><td>9841</td><td>TOOKY TOY</td><td>S</td><td>2024-02-26 15:30:52.877</td></tr>",
                            "<tr><td>9842</td><td>BUP BABY</td><td>S</td><td>2024-02-26 15:30:56.673</td></tr>",
                            "<tr><td>9843</td><td>NUK</td><td>S</td><td>2024-02-26 15:31:00.610</td></tr>",
                            "<tr><td>9844</td><td>THE PETS</td><td>S</td><td>2024-02-26 15:31:04.567</td></tr>",
                            "<tr><td>9845</td><td>TINY LOVE</td><td>S</td><td>2024-02-26 15:31:08.393</td></tr>",
                            "<tr><td>9846</td><td>VOYAGE</td><td>S</td><td>2024-02-26 15:31:12.420</td></tr>",
                            "<tr><td>9847</td><td>SKIP HOP</td><td>S</td><td>2024-02-26 15:31:16.250</td></tr>",
                            "<tr><td>9848</td><td>JANOD</td><td>S</td><td>2024-02-26 15:31:20.127</td></tr>",
                            "<tr><td>9849</td><td>HAPPY BOOKS</td><td>S</td><td>2024-02-26 15:31:24.207</td></tr>",
                            "<tr><td>9850</td><td>KTS</td><td>S</td><td>2024-02-26 15:31:28.033</td></tr>",
                            "<tr><td>9851</td><td>SANTA KLAUS</td><td>S</td><td>2024-03-01 16:32:25.583</td></tr>",
                            "</table>"
                        ]
                    }
                }
            ],
            "execution_count": 2
        },
        {
            "cell_type": "code",
            "source": [
                "SELECT CODMARCA, FORMAT(dtatualizacao, 'yyyy-MM-dd HH:mm:ss') DtAtualizacao FROM MARCA WHERE CODMARCA = 9851"
            ],
            "metadata": {
                "language": "sql",
                "azdata_cell_guid": "2e921223-da80-4bc0-a588-30970b06bcad"
            },
            "outputs": [
{
    "output_type": "display_data",
    "data": {
        "text/html": "(1 row affected)"
    },
    "metadata": {}
}, {
    "output_type": "display_data",
    "data": {
        "text/html": "Total execution time: 00:00:00.020"
    },
    "metadata": {}
}, {
    "output_type": "execute_result",
    "metadata": {},
    "execution_count": 3,
    "data": {
        "application/vnd.dataresource+json": {
            "schema": {
                "fields": [
                    {
                        "name": "CODMARCA"
                    },
                    {
                        "name": "DtAtualizacao"
                    }
                ]
            },
            "data": [
                {
                    "CODMARCA": "9851",
                    "DtAtualizacao": "2024-03-01 16:32:25"
                }
            ]
        },
        "text/html": [
            "<table>",
            "<tr><th>CODMARCA</th><th>DtAtualizacao</th></tr>",
            "<tr><td>9851</td><td>2024-03-01 16:32:25</td></tr>",
            "</table>"
        ]
    }
}
],
            "execution_count": 3
        }
    ]
}