{
    "metadata": {
        "kernelspec": {
            "name": "SQL",
            "display_name": "SQL",
            "language": "sql"
        },
        "language_info": {
            "name": "sql",
            "version": ""
        }
    },
    "nbformat_minor": 2,
    "nbformat": 4,
    "cells": [
        {
            "cell_type": "markdown",
            "source": [
                "# **Tabela Vendedor**"
            ],
            "metadata": {
                "azdata_cell_guid": "c02db4e7-ab03-4c8f-9a6b-391c28c5761e"
            },
            "attachments": {}
        },
        {
            "cell_type": "markdown",
            "source": [
                "Tratamento para que vendedores inativos mudem de nome."
            ],
            "metadata": {
                "language": "sql",
                "azdata_cell_guid": "b7e3236d-2953-4956-a85a-28f8c50ca137"
            },
            "attachments": {}
        },
        {
            "cell_type": "code",
            "source": [
                "CREATE OR ALTER PROCEDURE SP_CARREGA_VENDEDOR \r\n",
                "    @CODVENDEDOR SMALLINT,\r\n",
                "    @VENDEDOR NVARCHAR(40),\r\n",
                "    @BLOQUEIO CHAR(1),\r\n",
                "    @CODSUPERVISOR SMALLINT,\r\n",
                "    @SUPERVISOR NVARCHAR(40),\r\n",
                "    @CODGERENTE SMALLINT,\r\n",
                "    @GERENTE NVARCHAR(40),\r\n",
                "    @CODAREA SMALLINT,\r\n",
                "    @AREACOMERCIAL NVARCHAR(40)\r\n",
                "AS\r\n",
                "BEGIN\r\n",
                "    DECLARE @DTUPDATE DATETIME = DATEADD(hour, -3, GETUTCDATE())\r\n",
                "    SET @SUPERVISOR = CASE WHEN @SUPERVISOR = 'NULL' THEN NULL ELSE TRIM(@SUPERVISOR) END \r\n",
                "    SET @GERENTE = CASE WHEN @GERENTE = 'NULL' THEN NULL ELSE TRIM(@GERENTE) END \r\n",
                "    SET @AREACOMERCIAL = CASE WHEN @AREACOMERCIAL = 'NULL' THEN NULL ELSE TRIM(@AREACOMERCIAL) END \r\n",
                "\r\n",
                "    SET @VENDEDOR = \r\n",
                "        CASE WHEN (@BLOQUEIO = 'S' AND @CODSUPERVISOR = 1) THEN 'OUTROS CAPITAL'\r\n",
                "             WHEN (@BLOQUEIO = 'S' AND @CODSUPERVISOR = 2) THEN 'OUTROS INTERIOR'\r\n",
                "             WHEN (@BLOQUEIO = 'S' AND @CODGERENTE = 3) THEN 'OUTROS LOJA'\r\n",
                "             WHEN (@BLOQUEIO = 'S' AND @CODSUPERVISOR = 4) THEN 'OUTROS MKT'\r\n",
                "             WHEN @VENDEDOR = 'NULL' THEN NULL \r\n",
                "        ELSE TRIM(@VENDEDOR) END\r\n",
                "    \r\n",
                "    IF EXISTS (SELECT 1 FROM VENDEDOR WHERE CODVENDEDOR = @CODVENDEDOR)\r\n",
                "    BEGIN\r\n",
                "        UPDATE VENDEDOR \r\n",
                "        SET VENDEDOR = @VENDEDOR,\r\n",
                "            CODSUPERVISOR = @CODSUPERVISOR,\r\n",
                "            SUPERVISOR = @SUPERVISOR,\r\n",
                "            CODGERENTE = @CODGERENTE,\r\n",
                "            GERENTE = @GERENTE,\r\n",
                "            CODAREA = @CODAREA,\r\n",
                "            AREACOMERCIAL = @AREACOMERCIAL,\r\n",
                "            DTUPDATE = @DTUPDATE \r\n",
                "        WHERE CODVENDEDOR = @CODVENDEDOR\r\n",
                "    END\r\n",
                "    ELSE\r\n",
                "    BEGIN\r\n",
                "        INSERT INTO VENDEDOR \r\n",
                "            (CODVENDEDOR, VENDEDOR, CODSUPERVISOR, SUPERVISOR, CODGERENTE, GERENTE, CODAREA, AREACOMERCIAL, DTUPDATE)\r\n",
                "        VALUES \r\n",
                "            (@CODVENDEDOR, @VENDEDOR, @CODSUPERVISOR, @SUPERVISOR, @CODGERENTE, @GERENTE,@CODAREA, @AREACOMERCIAL, @DTUPDATE)\r\n",
                "    END\r\n",
                "END"
            ],
            "metadata": {
                "azdata_cell_guid": "6df99657-c49d-43d2-bd2e-d6fa33fd4f92",
                "language": "sql"
            },
            "outputs": [
                {
                    "output_type": "display_data",
                    "data": {
                        "text/html": "Commands completed successfully."
                    },
                    "metadata": {}
                },
                {
                    "output_type": "display_data",
                    "data": {
                        "text/html": "Total execution time: 00:00:00.027"
                    },
                    "metadata": {}
                }
            ],
            "execution_count": 1
        },
        {
            "cell_type": "code",
            "source": [
                "CREATE OR ALTER PROCEDURE SP_RETORNA_VENDEDOR\r\n",
                "    @CODVENDEDOR INT\r\n",
                "AS\r\n",
                "BEGIN\r\n",
                "    IF EXISTS (SELECT 1 FROM VENDEDOR WHERE CODVENDEDOR = @CODVENDEDOR)\r\n",
                "    BEGIN\r\n",
                "        SELECT FORMAT(DTUPDATE, 'yyyy-MM-dd HH:mm:ss') DTUPDATE FROM VENDEDOR WHERE CODVENDEDOR = @CODVENDEDOR\r\n",
                "    END\r\n",
                "END"
            ],
            "metadata": {
                "language": "sql",
                "azdata_cell_guid": "2a7dcd35-7c54-40a9-bb52-684445d7c994"
            },
            "outputs": [],
            "execution_count": null
        },
        {
            "cell_type": "code",
            "source": [
                "SELECT * FROM VENDEDOR"
            ],
            "metadata": {
                "language": "sql",
                "azdata_cell_guid": "209ef770-1980-4df0-b756-6e3379a98966"
            },
            "outputs": [],
            "execution_count": 5
        }
    ]
}