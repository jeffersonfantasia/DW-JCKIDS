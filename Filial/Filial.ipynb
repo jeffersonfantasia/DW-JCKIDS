{
    "metadata": {
        "kernelspec": {
            "name": "SQL",
            "display_name": "SQL",
            "language": "sql"
        },
        "language_info": {
            "name": "sql",
            "version": ""
        }
    },
    "nbformat_minor": 2,
    "nbformat": 4,
    "cells": [
        {
            "cell_type": "markdown",
            "source": [
                "# **TABELA FILIAL**"
            ],
            "metadata": {
                "language": "sql",
                "azdata_cell_guid": "92c8117a-55f4-4ca2-84a4-3f7832df7ea6"
            },
            "attachments": {}
        },
        {
            "cell_type": "markdown",
            "source": [
                "## <u>Realizando as transformações necessárias e criando nova tabela para ser consumida</u>\n",
                "\n",
                "- Criaremos a coluna `Ordem` para ordernar as filiais uma vez que a PK da tabela staging é do tipo texto. \n",
                "- Além disso, preencheremos as informações nulas com informação da JC Brothers"
            ],
            "metadata": {
                "azdata_cell_guid": "30e976f4-1cf5-445d-862f-4075d2f70f6e",
                "language": ""
            },
            "attachments": {}
        },
        {
            "cell_type": "code",
            "source": [
                "CREATE OR ALTER PROCEDURE SP_CARREGA_FILIAL\n",
                "\t@CODFILIAL NCHAR(2),\n",
                "\t@EMPRESA NVARCHAR(150),\n",
                "\t@FILIAL NVARCHAR(25)\n",
                "AS\n",
                "BEGIN    \n",
                "----Faz a transformação das informações\n",
                "\tDECLARE @ORDEM SMALLINT = CONVERT(SMALLINT, @CODFILIAL)\n",
                "\tDECLARE @DTUPDATE DATETIME = DATEADD(hour, -3, GETUTCDATE())\n",
                "\n",
                "\tSET @EMPRESA  = CASE WHEN @EMPRESA = 'NULL' THEN 'JC BROTHERS' ELSE @EMPRESA END\n",
                "\tSET @FILIAL  =  CASE WHEN @FILIAL = 'NULL' THEN  'JC BROTHERS' ELSE @FILIAL END\n",
                "\t\n",
                "----faz o merge das informações\n",
                "\tIF EXISTS (SELECT 1 FROM FILIAL WHERE [CodFilial] = @CODFILIAL)\n",
                "\t\tBEGIN\n",
                "\t\tUPDATE FILIAL SET EMPRESA = @EMPRESA, FILIAL = @FILIAL, DTUPDATE = @DTUPDATE WHERE [CodFilial] = @CODFILIAL\n",
                "\tEND\n",
                "\tELSE\n",
                "\tBEGIN\n",
                "\t\tINSERT INTO FILIAL ([CodFilial], Empresa, Filial, Ordem, DtUpdate)\n",
                "\t\tVALUES (@CODFILIAL, @EMPRESA, @FILIAL, @ORDEM, @DTUPDATE)\n",
                "\tEND\n",
                "END"
            ],
            "metadata": {
                "language": "sql",
                "azdata_cell_guid": "cf5f4c18-c9d2-42e8-8509-78012b4a8dd0"
            },
            "outputs": [
                {
                    "output_type": "display_data",
                    "data": {
                        "text/html": "Commands completed successfully."
                    },
                    "metadata": {}
                },
                {
                    "output_type": "display_data",
                    "data": {
                        "text/html": "Total execution time: 00:00:00.039"
                    },
                    "metadata": {}
                }
            ],
            "execution_count": 3
        },
        {
            "cell_type": "code",
            "source": [
                "SELECT * FROM FILIAL"
            ],
            "metadata": {
                "language": "sql",
                "azdata_cell_guid": "4a8e6689-aa49-42ff-97a8-b1e7a719486d"
            },
            "outputs": [
                {
                    "output_type": "display_data",
                    "data": {
                        "text/html": "(14 rows affected)"
                    },
                    "metadata": {}
                },
                {
                    "output_type": "display_data",
                    "data": {
                        "text/html": "Total execution time: 00:00:00.073"
                    },
                    "metadata": {}
                },
                {
                    "output_type": "execute_result",
                    "execution_count": 1,
                    "data": {
                        "application/vnd.dataresource+json": {
                            "schema": {
                                "fields": [
                                    {
                                        "name": "CodFilial"
                                    },
                                    {
                                        "name": "Empresa"
                                    },
                                    {
                                        "name": "Filial"
                                    },
                                    {
                                        "name": "Ordem"
                                    },
                                    {
                                        "name": "DtUpdate"
                                    }
                                ]
                            },
                            "data": [
                                {
                                    "CodFilial": "1  ",
                                    "Empresa": "JC BROTHERS",
                                    "Filial": "LOJA JABAQUARA",
                                    "Ordem": "1",
                                    "DtUpdate": "2024-03-02 07:36:25.857"
                                },
                                {
                                    "CodFilial": "10 ",
                                    "Empresa": "FFJ CORP",
                                    "Filial": "FFJ CORP",
                                    "Ordem": "10",
                                    "DtUpdate": "2024-03-02 07:36:17.933"
                                },
                                {
                                    "CodFilial": "11 ",
                                    "Empresa": "JC BROTHERS",
                                    "Filial": "DISTRIBUICAO ES",
                                    "Ordem": "11",
                                    "DtUpdate": "2024-03-02 07:36:37.647"
                                },
                                {
                                    "CodFilial": "12 ",
                                    "Empresa": "JC BROTHERS",
                                    "Filial": "LOJA JUNDIAI",
                                    "Ordem": "12",
                                    "DtUpdate": "2024-03-02 07:35:58.450"
                                },
                                {
                                    "CodFilial": "13 ",
                                    "Empresa": "JC BROTHERS",
                                    "Filial": "LOJA TRIMAIS",
                                    "Ordem": "13",
                                    "DtUpdate": "2024-03-02 07:35:46.670"
                                },
                                {
                                    "CodFilial": "2  ",
                                    "Empresa": "JC BROTHERS",
                                    "Filial": "DISTRIBUICAO SP",
                                    "Ordem": "2",
                                    "DtUpdate": "2024-03-02 07:36:02.280"
                                },
                                {
                                    "CodFilial": "3  ",
                                    "Empresa": "JC BROTHERS",
                                    "Filial": "ESTOQUE CORPORATIVO",
                                    "Ordem": "3",
                                    "DtUpdate": "2024-03-02 07:36:29.717"
                                },
                                {
                                    "CodFilial": "4  ",
                                    "Empresa": "JC BROTHERS",
                                    "Filial": "ESTOQUE SHOWROOM",
                                    "Ordem": "4",
                                    "DtUpdate": "2024-03-02 07:36:21.997"
                                },
                                {
                                    "CodFilial": "5  ",
                                    "Empresa": "JFF ",
                                    "Filial": "JFF CORP",
                                    "Ordem": "5",
                                    "DtUpdate": "2024-03-02 07:36:06.107"
                                },
                                {
                                    "CodFilial": "6  ",
                                    "Empresa": "BROKER CORP",
                                    "Filial": "BROKER CORP",
                                    "Ordem": "6",
                                    "DtUpdate": "2024-03-02 07:36:10.170"
                                },
                                {
                                    "CodFilial": "7  ",
                                    "Empresa": "JC BROTHERS",
                                    "Filial": "ECOMMERCE JC KIDS",
                                    "Ordem": "7",
                                    "DtUpdate": "2024-03-02 07:36:14.060"
                                },
                                {
                                    "CodFilial": "8  ",
                                    "Empresa": "JC BROTHERS",
                                    "Filial": "LOJA PARQUE",
                                    "Ordem": "8",
                                    "DtUpdate": "2024-03-02 07:35:54.387"
                                },
                                {
                                    "CodFilial": "9  ",
                                    "Empresa": "CFF CLOUD",
                                    "Filial": "CFF CLOUD",
                                    "Ordem": "9",
                                    "DtUpdate": "2024-03-02 07:36:33.793"
                                },
                                {
                                    "CodFilial": "99 ",
                                    "Empresa": "JC BROTHERS",
                                    "Filial": "JC BROTHERS",
                                    "Ordem": "99",
                                    "DtUpdate": "2024-03-02 07:35:50.530"
                                }
                            ]
                        },
                        "text/html": "<table><tr><th>CodFilial</th><th>Empresa</th><th>Filial</th><th>Ordem</th><th>DtUpdate</th></tr><tr><td>1  </td><td>JC BROTHERS</td><td>LOJA JABAQUARA</td><td>1</td><td>2024-03-02 07:36:25.857</td></tr><tr><td>10 </td><td>FFJ CORP</td><td>FFJ CORP</td><td>10</td><td>2024-03-02 07:36:17.933</td></tr><tr><td>11 </td><td>JC BROTHERS</td><td>DISTRIBUICAO ES</td><td>11</td><td>2024-03-02 07:36:37.647</td></tr><tr><td>12 </td><td>JC BROTHERS</td><td>LOJA JUNDIAI</td><td>12</td><td>2024-03-02 07:35:58.450</td></tr><tr><td>13 </td><td>JC BROTHERS</td><td>LOJA TRIMAIS</td><td>13</td><td>2024-03-02 07:35:46.670</td></tr><tr><td>2  </td><td>JC BROTHERS</td><td>DISTRIBUICAO SP</td><td>2</td><td>2024-03-02 07:36:02.280</td></tr><tr><td>3  </td><td>JC BROTHERS</td><td>ESTOQUE CORPORATIVO</td><td>3</td><td>2024-03-02 07:36:29.717</td></tr><tr><td>4  </td><td>JC BROTHERS</td><td>ESTOQUE SHOWROOM</td><td>4</td><td>2024-03-02 07:36:21.997</td></tr><tr><td>5  </td><td>JFF </td><td>JFF CORP</td><td>5</td><td>2024-03-02 07:36:06.107</td></tr><tr><td>6  </td><td>BROKER CORP</td><td>BROKER CORP</td><td>6</td><td>2024-03-02 07:36:10.170</td></tr><tr><td>7  </td><td>JC BROTHERS</td><td>ECOMMERCE JC KIDS</td><td>7</td><td>2024-03-02 07:36:14.060</td></tr><tr><td>8  </td><td>JC BROTHERS</td><td>LOJA PARQUE</td><td>8</td><td>2024-03-02 07:35:54.387</td></tr><tr><td>9  </td><td>CFF CLOUD</td><td>CFF CLOUD</td><td>9</td><td>2024-03-02 07:36:33.793</td></tr><tr><td>99 </td><td>JC BROTHERS</td><td>JC BROTHERS</td><td>99</td><td>2024-03-02 07:35:50.530</td></tr></table>"
                    },
                    "metadata": {}
                }
            ],
            "execution_count": 1
        },
        {
            "cell_type": "code",
            "source": [
                "CREATE OR ALTER PROCEDURE SP_RETORNA_FILIAL\r\n",
                "    @CODFILIAL NCHAR(2)\r\n",
                "AS\r\n",
                "BEGIN    \r\n",
                "\r\n",
                "    IF EXISTS (SELECT 1 FROM FILIAL WHERE CODFILIAL = @CODFILIAL)\r\n",
                "\tSELECT FORMAT(DTUPDATE, 'yyyy-MM-dd HH:mm:ss') DTUPDATE FROM FILIAL WHERE CODFILIAL = @CODFILIAL\r\n",
                "END"
            ],
            "metadata": {
                "azdata_cell_guid": "3710a5cb-dcf2-4c5d-ae2e-eeaee067660c",
                "language": "sql"
            },
            "outputs": [
                {
                    "output_type": "display_data",
                    "data": {
                        "text/html": "Commands completed successfully."
                    },
                    "metadata": {}
                },
                {
                    "output_type": "display_data",
                    "data": {
                        "text/html": "Total execution time: 00:00:00.028"
                    },
                    "metadata": {}
                }
            ],
            "execution_count": 7
        },
        {
            "cell_type": "code",
            "source": [
                "BEGIN\r\n",
                "    EXEC SP_RETORNA_FILIAL '13'\r\n",
                "END"
            ],
            "metadata": {
                "azdata_cell_guid": "2fef68bf-aa6d-44ab-8f87-c0bea42d8b47",
                "language": "sql"
            },
            "outputs": [
{
    "output_type": "display_data",
    "data": {
        "text/html": "(1 row affected)"
    },
    "metadata": {}
}, {
    "output_type": "display_data",
    "data": {
        "text/html": "Total execution time: 00:00:00.203"
    },
    "metadata": {}
}, {
    "output_type": "execute_result",
    "metadata": {},
    "execution_count": 1,
    "data": {
        "application/vnd.dataresource+json": {
            "schema": {
                "fields": [
                    {
                        "name": "DTUPDATE"
                    }
                ]
            },
            "data": [
                {
                    "DTUPDATE": "2024-03-04 19:05:27"
                }
            ]
        },
        "text/html": [
            "<table>",
            "<tr><th>DTUPDATE</th></tr>",
            "<tr><td>2024-03-04 19:05:27</td></tr>",
            "</table>"
        ]
    }
}
],
            "execution_count": 1
        }
    ]
}