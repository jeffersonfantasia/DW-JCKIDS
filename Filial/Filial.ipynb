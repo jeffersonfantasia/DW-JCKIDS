{
    "metadata": {
        "kernelspec": {
            "name": "SQL",
            "display_name": "SQL",
            "language": "sql"
        },
        "language_info": {
            "name": "sql",
            "version": ""
        }
    },
    "nbformat_minor": 2,
    "nbformat": 4,
    "cells": [
        {
            "cell_type": "markdown",
            "source": [
                "# **TABELA FILIAL**"
            ],
            "metadata": {
                "language": "sql",
                "azdata_cell_guid": "92c8117a-55f4-4ca2-84a4-3f7832df7ea6"
            },
            "attachments": {}
        },
        {
            "cell_type": "markdown",
            "source": [
                "## <u>Realizando as transformações necessárias e criando nova tabela para ser consumida</u>\n",
                "\n",
                "- Criaremos a coluna `Ordem` para ordernar as filiais uma vez que a PK da tabela staging é do tipo texto. \n",
                "- Além disso, preencheremos as informações nulas com informação da JC Brothers"
            ],
            "metadata": {
                "azdata_cell_guid": "30e976f4-1cf5-445d-862f-4075d2f70f6e",
                "language": ""
            },
            "attachments": {}
        },
        {
            "cell_type": "code",
            "source": [
                "CREATE OR ALTER PROCEDURE SP_CARREGA_FILIAL\r\n",
                "\t@CODFILIAL NCHAR(2),\r\n",
                "\t@EMPRESA NVARCHAR(150),\r\n",
                "\t@FILIAL NVARCHAR(25)\r\n",
                "AS\r\n",
                "BEGIN    \r\n",
                "\t----Faz a transformação das informações\r\n",
                "       DECLARE @ORDEM SMALLINT\r\n",
                "       SET @ORDEM = CONVERT(SMALLINT, @CODFILIAL)\r\n",
                "\t   SET @EMPRESA  = CASE WHEN @EMPRESA IS NULL THEN 'JC BROTHERS' ELSE @EMPRESA END\r\n",
                "       SET @FILIAL  =  CASE WHEN @FILIAL IS NULL THEN  'JC BROTHERS' ELSE @FILIAL END\r\n",
                "        \r\n",
                "    ----faz o merge das informações\r\n",
                "        IF EXISTS (SELECT 1 FROM FILIAL WHERE [Cod.Filial] = @CODFILIAL)\r\n",
                "\t\t\tBEGIN\r\n",
                "\t\t\tUPDATE FILIAL SET EMPRESA = @EMPRESA, FILIAL = @FILIAL WHERE [Cod.Filial] = @CODFILIAL\r\n",
                "\t\tEND\r\n",
                "    \tELSE\r\n",
                "\t\t\tBEGIN\r\n",
                "\t\t\tINSERT INTO FILIAL ([Cod.Filial], Empresa, Filial, Ordem)\r\n",
                "\t\t\tVALUES (@CODFILIAL, @EMPRESA, @FILIAL, @ORDEM)\r\n",
                "\tEND\r\n",
                "END"
            ],
            "metadata": {
                "language": "sql",
                "azdata_cell_guid": "cf5f4c18-c9d2-42e8-8509-78012b4a8dd0"
            },
            "outputs": [],
            "execution_count": null
        },
        {
            "cell_type": "code",
            "source": [
                "SELECT * FROM FILIAL"
            ],
            "metadata": {
                "language": "sql",
                "azdata_cell_guid": "4a8e6689-aa49-42ff-97a8-b1e7a719486d"
            },
            "outputs": [
{
    "output_type": "error",
    "evalue": "Msg 208, Level 16, State 1, Line 1\r\nInvalid object name 'FILIAL'.",
    "ename": "",
    "traceback": []
}, {
    "output_type": "display_data",
    "data": {
        "text/html": "Total execution time: 00:00:00.013"
    },
    "metadata": {}
}
],
            "execution_count": 5
        }
    ]
}