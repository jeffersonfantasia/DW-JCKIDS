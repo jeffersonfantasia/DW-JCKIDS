{
    "metadata": {
        "kernelspec": {
            "name": "SQL",
            "display_name": "SQL",
            "language": "sql"
        },
        "language_info": {
            "name": "sql",
            "version": ""
        }
    },
    "nbformat_minor": 2,
    "nbformat": 4,
    "cells": [
        {
            "cell_type": "markdown",
            "source": [
                "# **TABELAS STGFILIAL E FILIAL**\n",
                "\n",
                "## <u>Criando a tabela staging STGFILIAL</u>\n",
                "\n",
                "- Procedure criada para verificar se a tabela STGFILIAL foi criada no banco. Caso negativo, faremos a criação.\n",
                "- Além disso essa procedure fará o UPINSERT (MERGE) das informações que virão da tabela PCFILIAL lá no Oracle."
            ],
            "metadata": {
                "language": "sql",
                "azdata_cell_guid": "92c8117a-55f4-4ca2-84a4-3f7832df7ea6"
            },
            "attachments": {}
        },
        {
            "cell_type": "code",
            "source": [
                "CREATE OR ALTER PROCEDURE SP_INGEST_STGFILIAL\n",
                "\t@CODFILIAL NCHAR(2),\n",
                "\t@EMPRESA NVARCHAR(150),\n",
                "\t@FILIAL NVARCHAR(25)\n",
                "AS\n",
                "BEGIN\n",
                "\t----Verifica se a tabela existe\n",
                "\tIF NOT EXISTS (SELECT 1\tFROM INFORMATION_SCHEMA.TABLES\tWHERE TABLE_NAME = 'STGFILIAL')\n",
                "    BEGIN\n",
                "\t\tSET ANSI_NULLS ON\n",
                "\n",
                "\t\tSET QUOTED_IDENTIFIER ON\n",
                "\n",
                "\t\tCREATE TABLE [dbo].[STGFILIAL]\n",
                "\t\t(\n",
                "\t\t\t[CODFILIAL] [nchar](2) NOT NULL,\n",
                "\t\t\t[EMPRESA] [nvarchar](150) NULL,\n",
                "\t\t\t[FILIAL] [nvarchar](25) NULL\n",
                "\t\t) ON [PRIMARY]\n",
                "\n",
                "\t\tSET ANSI_PADDING ON\n",
                "\n",
                "\t\tALTER TABLE [dbo].[STGFILIAL] ADD  CONSTRAINT [PK_STGFILIAL] PRIMARY KEY CLUSTERED \n",
                "\t\t(\n",
                "\t\t\t[CODFILIAL] ASC\n",
                "\t\t)WITH (STATISTICS_NORECOMPUTE = OFF, IGNORE_DUP_KEY = OFF, ONLINE = OFF, OPTIMIZE_FOR_SEQUENTIAL_KEY = OFF) ON [PRIMARY]\n",
                "\n",
                "\t\tCREATE UNIQUE NONCLUSTERED INDEX [Index_STGFILIAL_1] ON [dbo].[STGFILIAL]\n",
                "\t\t(\n",
                "\t\t\t[CODFILIAL] ASC\n",
                "\t\t)WITH (STATISTICS_NORECOMPUTE = OFF, IGNORE_DUP_KEY = OFF, DROP_EXISTING = OFF, ONLINE = OFF, OPTIMIZE_FOR_SEQUENTIAL_KEY = OFF) ON [PRIMARY]\n",
                "\tEND\n",
                "    \n",
                "\t----Faz o merge das informações\n",
                "\tBEGIN\n",
                "\t\tIF EXISTS (SELECT 1\n",
                "\t\tFROM STGFILIAL\n",
                "\t\tWHERE CODFILIAL = @CODFILIAL)\n",
                "\t\t\tBEGIN\n",
                "\t\t\tUPDATE STGFILIAL SET EMPRESA = @EMPRESA, FILIAL = @FILIAL WHERE CODFILIAL = @CODFILIAL\n",
                "\t\tEND\n",
                "    \tELSE\n",
                "\t\t\tBEGIN\n",
                "\t\t\tINSERT INTO STGFILIAL\n",
                "\t\t\t\t(CODFILIAL, EMPRESA, FILIAL)\n",
                "\t\t\tVALUES\n",
                "\t\t\t\t(@CODFILIAL, @EMPRESA, @FILIAL)\n",
                "\t\tEND\n",
                "\tEND\n",
                "END"
            ],
            "metadata": {
                "azdata_cell_guid": "79e0fa48-8546-428a-a08a-0c4b81ee3499",
                "language": "sql",
                "tags": []
            },
            "outputs": [
                {
                    "output_type": "display_data",
                    "data": {
                        "text/html": "Commands completed successfully."
                    },
                    "metadata": {}
                },
                {
                    "output_type": "display_data",
                    "data": {
                        "text/html": "Total execution time: 00:00:00.047"
                    },
                    "metadata": {}
                }
            ],
            "execution_count": 2
        },
        {
            "cell_type": "code",
            "source": [
                "SELECT * FROM STGFILIAL"
            ],
            "metadata": {
                "azdata_cell_guid": "b33860a4-9962-42ee-abe4-7096ec90a6b2",
                "language": "sql",
                "tags": [
                    "hide_input"
                ]
            },
            "outputs": [
                {
                    "output_type": "display_data",
                    "data": {
                        "text/html": "(14 rows affected)"
                    },
                    "metadata": {}
                },
                {
                    "output_type": "display_data",
                    "data": {
                        "text/html": "Total execution time: 00:00:00.020"
                    },
                    "metadata": {}
                },
                {
                    "output_type": "execute_result",
                    "execution_count": 3,
                    "data": {
                        "application/vnd.dataresource+json": {
                            "schema": {
                                "fields": [
                                    {
                                        "name": "CODFILIAL"
                                    },
                                    {
                                        "name": "EMPRESA"
                                    },
                                    {
                                        "name": "FILIAL"
                                    }
                                ]
                            },
                            "data": [
                                {
                                    "CODFILIAL": "1 ",
                                    "EMPRESA": "JC BROTHERS",
                                    "FILIAL": "LOJA JABAQUARA"
                                },
                                {
                                    "CODFILIAL": "10",
                                    "EMPRESA": "FFJ CORP",
                                    "FILIAL": "FFJ CORP"
                                },
                                {
                                    "CODFILIAL": "11",
                                    "EMPRESA": "JC BROTHERS",
                                    "FILIAL": "DISTRIBUICAO ES"
                                },
                                {
                                    "CODFILIAL": "12",
                                    "EMPRESA": "JC BROTHERS",
                                    "FILIAL": "LOJA JUNDIAI"
                                },
                                {
                                    "CODFILIAL": "13",
                                    "EMPRESA": "JC BROTHERS",
                                    "FILIAL": "LOJA TRIMAIS"
                                },
                                {
                                    "CODFILIAL": "2 ",
                                    "EMPRESA": "JC BROTHERS",
                                    "FILIAL": "DISTRIBUICAO SP"
                                },
                                {
                                    "CODFILIAL": "3 ",
                                    "EMPRESA": "JC BROTHERS",
                                    "FILIAL": "ESTOQUE CORPORATIVO"
                                },
                                {
                                    "CODFILIAL": "4 ",
                                    "EMPRESA": "JC BROTHERS",
                                    "FILIAL": "ESTOQUE SHOWROOM"
                                },
                                {
                                    "CODFILIAL": "5 ",
                                    "EMPRESA": "JFF ",
                                    "FILIAL": "JFF CORP"
                                },
                                {
                                    "CODFILIAL": "6 ",
                                    "EMPRESA": "BROKER CORP",
                                    "FILIAL": "BROKER CORP"
                                },
                                {
                                    "CODFILIAL": "7 ",
                                    "EMPRESA": "JC BROTHERS",
                                    "FILIAL": "ECOMMERCE JC KIDS"
                                },
                                {
                                    "CODFILIAL": "8 ",
                                    "EMPRESA": "JC BROTHERS",
                                    "FILIAL": "LOJA PARQUE"
                                },
                                {
                                    "CODFILIAL": "9 ",
                                    "EMPRESA": "CFF CLOUD",
                                    "FILIAL": "CFF CLOUD"
                                },
                                {
                                    "CODFILIAL": "99",
                                    "EMPRESA": "null",
                                    "FILIAL": "null"
                                }
                            ]
                        },
                        "text/html": "<table><tr><th>CODFILIAL</th><th>EMPRESA</th><th>FILIAL</th></tr><tr><td>1 </td><td>JC BROTHERS</td><td>LOJA JABAQUARA</td></tr><tr><td>10</td><td>FFJ CORP</td><td>FFJ CORP</td></tr><tr><td>11</td><td>JC BROTHERS</td><td>DISTRIBUICAO ES</td></tr><tr><td>12</td><td>JC BROTHERS</td><td>LOJA JUNDIAI</td></tr><tr><td>13</td><td>JC BROTHERS</td><td>LOJA TRIMAIS</td></tr><tr><td>2 </td><td>JC BROTHERS</td><td>DISTRIBUICAO SP</td></tr><tr><td>3 </td><td>JC BROTHERS</td><td>ESTOQUE CORPORATIVO</td></tr><tr><td>4 </td><td>JC BROTHERS</td><td>ESTOQUE SHOWROOM</td></tr><tr><td>5 </td><td>JFF </td><td>JFF CORP</td></tr><tr><td>6 </td><td>BROKER CORP</td><td>BROKER CORP</td></tr><tr><td>7 </td><td>JC BROTHERS</td><td>ECOMMERCE JC KIDS</td></tr><tr><td>8 </td><td>JC BROTHERS</td><td>LOJA PARQUE</td></tr><tr><td>9 </td><td>CFF CLOUD</td><td>CFF CLOUD</td></tr><tr><td>99</td><td>null</td><td>null</td></tr></table>"
                    },
                    "metadata": {}
                }
            ],
            "execution_count": 3
        },
        {
            "cell_type": "markdown",
            "source": [
                "## <u>Realizando as transformações necessárias e criando nova tabela para ser consumida</u>\n",
                "\n",
                "- Criaremos a coluna `Ordem` para ordernar as filiais uma vez que a PK da tabela staging é do tipo texto. \n",
                "- Além disso, preencheremos as informações nulas com informação da JC Brothers"
            ],
            "metadata": {
                "azdata_cell_guid": "30e976f4-1cf5-445d-862f-4075d2f70f6e",
                "language": ""
            },
            "attachments": {}
        },
        {
            "cell_type": "code",
            "source": [
                "----Analisar as transformações\r\n",
                "SELECT CODFILIAL,\r\n",
                "    (CASE WHEN CODFILIAL = '99' THEN 'JC BROTHERS' ELSE EMPRESA END) EMPRESA,\r\n",
                "    (CASE WHEN CODFILIAL = '99' THEN 'JC BROTHERS' ELSE FILIAL END) FILIAL,\r\n",
                "    CAST(CODFILIAL AS smallint) ORDEM\r\n",
                "FROM STGFILIAL;"
            ],
            "metadata": {
                "azdata_cell_guid": "58ee8baa-f4ea-4469-96a7-ba8b6331f577",
                "language": "sql"
            },
            "outputs": [
                {
                    "output_type": "display_data",
                    "data": {
                        "text/html": "(14 rows affected)"
                    },
                    "metadata": {}
                },
                {
                    "output_type": "display_data",
                    "data": {
                        "text/html": "Total execution time: 00:00:00.183"
                    },
                    "metadata": {}
                },
                {
                    "output_type": "execute_result",
                    "execution_count": 4,
                    "data": {
                        "application/vnd.dataresource+json": {
                            "schema": {
                                "fields": [
                                    {
                                        "name": "CODFILIAL"
                                    },
                                    {
                                        "name": "EMPRESA"
                                    },
                                    {
                                        "name": "FILIAL"
                                    },
                                    {
                                        "name": "ORDEM"
                                    }
                                ]
                            },
                            "data": [
                                {
                                    "CODFILIAL": "1 ",
                                    "EMPRESA": "JC BROTHERS",
                                    "FILIAL": "LOJA JABAQUARA",
                                    "ORDEM": "1"
                                },
                                {
                                    "CODFILIAL": "10",
                                    "EMPRESA": "FFJ CORP",
                                    "FILIAL": "FFJ CORP",
                                    "ORDEM": "10"
                                },
                                {
                                    "CODFILIAL": "11",
                                    "EMPRESA": "JC BROTHERS",
                                    "FILIAL": "DISTRIBUICAO ES",
                                    "ORDEM": "11"
                                },
                                {
                                    "CODFILIAL": "12",
                                    "EMPRESA": "JC BROTHERS",
                                    "FILIAL": "LOJA JUNDIAI",
                                    "ORDEM": "12"
                                },
                                {
                                    "CODFILIAL": "13",
                                    "EMPRESA": "JC BROTHERS",
                                    "FILIAL": "LOJA TRIMAIS",
                                    "ORDEM": "13"
                                },
                                {
                                    "CODFILIAL": "2 ",
                                    "EMPRESA": "JC BROTHERS",
                                    "FILIAL": "DISTRIBUICAO SP",
                                    "ORDEM": "2"
                                },
                                {
                                    "CODFILIAL": "3 ",
                                    "EMPRESA": "JC BROTHERS",
                                    "FILIAL": "ESTOQUE CORPORATIVO",
                                    "ORDEM": "3"
                                },
                                {
                                    "CODFILIAL": "4 ",
                                    "EMPRESA": "JC BROTHERS",
                                    "FILIAL": "ESTOQUE SHOWROOM",
                                    "ORDEM": "4"
                                },
                                {
                                    "CODFILIAL": "5 ",
                                    "EMPRESA": "JFF ",
                                    "FILIAL": "JFF CORP",
                                    "ORDEM": "5"
                                },
                                {
                                    "CODFILIAL": "6 ",
                                    "EMPRESA": "BROKER CORP",
                                    "FILIAL": "BROKER CORP",
                                    "ORDEM": "6"
                                },
                                {
                                    "CODFILIAL": "7 ",
                                    "EMPRESA": "JC BROTHERS",
                                    "FILIAL": "ECOMMERCE JC KIDS",
                                    "ORDEM": "7"
                                },
                                {
                                    "CODFILIAL": "8 ",
                                    "EMPRESA": "JC BROTHERS",
                                    "FILIAL": "LOJA PARQUE",
                                    "ORDEM": "8"
                                },
                                {
                                    "CODFILIAL": "9 ",
                                    "EMPRESA": "CFF CLOUD",
                                    "FILIAL": "CFF CLOUD",
                                    "ORDEM": "9"
                                },
                                {
                                    "CODFILIAL": "99",
                                    "EMPRESA": "JC BROTHERS",
                                    "FILIAL": "JC BROTHERS",
                                    "ORDEM": "99"
                                }
                            ]
                        },
                        "text/html": "<table><tr><th>CODFILIAL</th><th>EMPRESA</th><th>FILIAL</th><th>ORDEM</th></tr><tr><td>1 </td><td>JC BROTHERS</td><td>LOJA JABAQUARA</td><td>1</td></tr><tr><td>10</td><td>FFJ CORP</td><td>FFJ CORP</td><td>10</td></tr><tr><td>11</td><td>JC BROTHERS</td><td>DISTRIBUICAO ES</td><td>11</td></tr><tr><td>12</td><td>JC BROTHERS</td><td>LOJA JUNDIAI</td><td>12</td></tr><tr><td>13</td><td>JC BROTHERS</td><td>LOJA TRIMAIS</td><td>13</td></tr><tr><td>2 </td><td>JC BROTHERS</td><td>DISTRIBUICAO SP</td><td>2</td></tr><tr><td>3 </td><td>JC BROTHERS</td><td>ESTOQUE CORPORATIVO</td><td>3</td></tr><tr><td>4 </td><td>JC BROTHERS</td><td>ESTOQUE SHOWROOM</td><td>4</td></tr><tr><td>5 </td><td>JFF </td><td>JFF CORP</td><td>5</td></tr><tr><td>6 </td><td>BROKER CORP</td><td>BROKER CORP</td><td>6</td></tr><tr><td>7 </td><td>JC BROTHERS</td><td>ECOMMERCE JC KIDS</td><td>7</td></tr><tr><td>8 </td><td>JC BROTHERS</td><td>LOJA PARQUE</td><td>8</td></tr><tr><td>9 </td><td>CFF CLOUD</td><td>CFF CLOUD</td><td>9</td></tr><tr><td>99</td><td>JC BROTHERS</td><td>JC BROTHERS</td><td>99</td></tr></table>"
                    },
                    "metadata": {}
                }
            ],
            "execution_count": 4
        },
        {
            "cell_type": "code",
            "source": [
                "CREATE OR ALTER PROCEDURE SP_CARREGA_FILIAL\r\n",
                "\t@CODFILIAL NCHAR(2),\r\n",
                "\t@EMPRESA NVARCHAR(150),\r\n",
                "\t@FILIAL NVARCHAR(25)\r\n",
                "AS\r\n",
                "BEGIN\r\n",
                "\t----Verifica se a tabela existe\r\n",
                "\tIF NOT EXISTS (SELECT 1\tFROM INFORMATION_SCHEMA.TABLES\tWHERE TABLE_NAME = 'FILIAL')\r\n",
                "    BEGIN\r\n",
                "\t\tCREATE TABLE [dbo].[Filial] (\r\n",
                "    [Cod.Filial] NCHAR (2)      NOT NULL,\r\n",
                "    [Empresa]    NVARCHAR (150) NULL,\r\n",
                "    [Filial]     NVARCHAR (50)  NULL,\r\n",
                "    [Ordem]      SMALLINT       NOT NULL,\r\n",
                "    CONSTRAINT [PK_Filial] PRIMARY KEY CLUSTERED ([Cod.Filial] ASC)\r\n",
                ");\r\n",
                "\r\n",
                "CREATE NONCLUSTERED INDEX [Index_Filial_2]\r\n",
                "    ON [dbo].[Filial]([Empresa] ASC);\r\n",
                "\r\n",
                "\r\n",
                "CREATE NONCLUSTERED INDEX [Index_Filial_1]\r\n",
                "    ON [dbo].[Filial]([Cod.Filial] ASC);\r\n",
                "\r\n",
                "\r\n",
                "CREATE NONCLUSTERED INDEX [Index_Filial_5]\r\n",
                "    ON [dbo].[Filial]([Cod.Filial] ASC, [Empresa] ASC, [Filial] ASC);\r\n",
                "\r\n",
                "\r\n",
                "CREATE NONCLUSTERED INDEX [Index_Filial_4]\r\n",
                "    ON [dbo].[Filial]([Ordem] ASC);\r\n",
                "\r\n",
                "\r\n",
                "CREATE NONCLUSTERED INDEX [Index_Filial_3]\r\n",
                "    ON [dbo].[Filial]([Filial] ASC);\r\n",
                "\tEND\r\n",
                "    \r\n",
                "\t----Faz a transformação das informações\r\n",
                "\tBEGIN\r\n",
                "       DECLARE @ORDEM SMALLINT\r\n",
                "       SET @ORDEM = CONVERT(SMALLINT, @CODFILIAL)\r\n",
                "\t   SET @EMPRESA  = CASE WHEN @EMPRESA IS NULL THEN 'JC BROTHERS' ELSE @EMPRESA END\r\n",
                "       SET @FILIAL  =  CASE WHEN @FILIAL IS NULL THEN  'JC BROTHERS' ELSE @FILIAL END\r\n",
                "        \r\n",
                "    ----faz o merge das informações\r\n",
                "        IF EXISTS (SELECT 1 FROM FILIAL WHERE [Cod.Filial] = @CODFILIAL)\r\n",
                "\t\t\tBEGIN\r\n",
                "\t\t\tUPDATE FILIAL SET EMPRESA = @EMPRESA, FILIAL = @FILIAL WHERE [Cod.Filial] = @CODFILIAL\r\n",
                "\t\tEND\r\n",
                "    \tELSE\r\n",
                "\t\t\tBEGIN\r\n",
                "\t\t\tINSERT INTO FILIAL ([Cod.Filial], Empresa, Filial, Ordem)\r\n",
                "\t\t\tVALUES (@CODFILIAL, @EMPRESA, @FILIAL, @ORDEM)\r\n",
                "\t\tEND\r\n",
                "\tEND\r\n",
                "END"
            ],
            "metadata": {
                "language": "sql",
                "azdata_cell_guid": "cf5f4c18-c9d2-42e8-8509-78012b4a8dd0"
            },
            "outputs": [
                {
                    "output_type": "display_data",
                    "data": {
                        "text/html": "Commands completed successfully."
                    },
                    "metadata": {}
                },
                {
                    "output_type": "display_data",
                    "data": {
                        "text/html": "Total execution time: 00:00:00.034"
                    },
                    "metadata": {}
                }
            ],
            "execution_count": 5
        },
        {
            "cell_type": "code",
            "source": [
                "SELECT * FROM FILIAL"
            ],
            "metadata": {
                "language": "sql",
                "azdata_cell_guid": "4a8e6689-aa49-42ff-97a8-b1e7a719486d"
            },
            "outputs": [
{
    "output_type": "display_data",
    "data": {
        "text/html": "(14 rows affected)"
    },
    "metadata": {}
}, {
    "output_type": "display_data",
    "data": {
        "text/html": "Total execution time: 00:00:00.024"
    },
    "metadata": {}
}, {
    "output_type": "execute_result",
    "metadata": {},
    "execution_count": 2,
    "data": {
        "application/vnd.dataresource+json": {
            "schema": {
                "fields": [
                    {
                        "name": "Cod.Filial"
                    },
                    {
                        "name": "Empresa"
                    },
                    {
                        "name": "Filial"
                    },
                    {
                        "name": "Ordem"
                    }
                ]
            },
            "data": [
                {
                    "Cod.Filial": "1 ",
                    "Empresa": "JC BROTHERS",
                    "Filial": "LOJA JABAQUARA",
                    "Ordem": "1"
                },
                {
                    "Cod.Filial": "10",
                    "Empresa": "FFJ CORP",
                    "Filial": "FFJ CORP",
                    "Ordem": "10"
                },
                {
                    "Cod.Filial": "11",
                    "Empresa": "JC BROTHERS",
                    "Filial": "DISTRIBUICAO ES",
                    "Ordem": "11"
                },
                {
                    "Cod.Filial": "12",
                    "Empresa": "JC BROTHERS",
                    "Filial": "LOJA JUNDIAI",
                    "Ordem": "12"
                },
                {
                    "Cod.Filial": "13",
                    "Empresa": "JC BROTHERS",
                    "Filial": "LOJA TRIMAIS",
                    "Ordem": "13"
                },
                {
                    "Cod.Filial": "2 ",
                    "Empresa": "JC BROTHERS",
                    "Filial": "DISTRIBUICAO SP",
                    "Ordem": "2"
                },
                {
                    "Cod.Filial": "3 ",
                    "Empresa": "JC BROTHERS",
                    "Filial": "ESTOQUE CORPORATIVO",
                    "Ordem": "3"
                },
                {
                    "Cod.Filial": "4 ",
                    "Empresa": "JC BROTHERS",
                    "Filial": "ESTOQUE SHOWROOM",
                    "Ordem": "4"
                },
                {
                    "Cod.Filial": "5 ",
                    "Empresa": "JFF ",
                    "Filial": "JFF CORP",
                    "Ordem": "5"
                },
                {
                    "Cod.Filial": "6 ",
                    "Empresa": "BROKER CORP",
                    "Filial": "BROKER CORP",
                    "Ordem": "6"
                },
                {
                    "Cod.Filial": "7 ",
                    "Empresa": "JC BROTHERS",
                    "Filial": "ECOMMERCE JC KIDS",
                    "Ordem": "7"
                },
                {
                    "Cod.Filial": "8 ",
                    "Empresa": "JC BROTHERS",
                    "Filial": "LOJA PARQUE",
                    "Ordem": "8"
                },
                {
                    "Cod.Filial": "9 ",
                    "Empresa": "CFF CLOUD",
                    "Filial": "CFF CLOUD",
                    "Ordem": "9"
                },
                {
                    "Cod.Filial": "99",
                    "Empresa": "null",
                    "Filial": "null",
                    "Ordem": "99"
                }
            ]
        },
        "text/html": [
            "<table>",
            "<tr><th>Cod.Filial</th><th>Empresa</th><th>Filial</th><th>Ordem</th></tr>",
            "<tr><td>1 </td><td>JC BROTHERS</td><td>LOJA JABAQUARA</td><td>1</td></tr>",
            "<tr><td>10</td><td>FFJ CORP</td><td>FFJ CORP</td><td>10</td></tr>",
            "<tr><td>11</td><td>JC BROTHERS</td><td>DISTRIBUICAO ES</td><td>11</td></tr>",
            "<tr><td>12</td><td>JC BROTHERS</td><td>LOJA JUNDIAI</td><td>12</td></tr>",
            "<tr><td>13</td><td>JC BROTHERS</td><td>LOJA TRIMAIS</td><td>13</td></tr>",
            "<tr><td>2 </td><td>JC BROTHERS</td><td>DISTRIBUICAO SP</td><td>2</td></tr>",
            "<tr><td>3 </td><td>JC BROTHERS</td><td>ESTOQUE CORPORATIVO</td><td>3</td></tr>",
            "<tr><td>4 </td><td>JC BROTHERS</td><td>ESTOQUE SHOWROOM</td><td>4</td></tr>",
            "<tr><td>5 </td><td>JFF </td><td>JFF CORP</td><td>5</td></tr>",
            "<tr><td>6 </td><td>BROKER CORP</td><td>BROKER CORP</td><td>6</td></tr>",
            "<tr><td>7 </td><td>JC BROTHERS</td><td>ECOMMERCE JC KIDS</td><td>7</td></tr>",
            "<tr><td>8 </td><td>JC BROTHERS</td><td>LOJA PARQUE</td><td>8</td></tr>",
            "<tr><td>9 </td><td>CFF CLOUD</td><td>CFF CLOUD</td><td>9</td></tr>",
            "<tr><td>99</td><td>null</td><td>null</td><td>99</td></tr>",
            "</table>"
        ]
    }
}
],
            "execution_count": 2
        }
    ]
}