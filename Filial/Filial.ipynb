{
    "metadata": {
        "kernelspec": {
            "name": "SQL",
            "display_name": "SQL",
            "language": "sql"
        },
        "language_info": {
            "name": "sql",
            "version": ""
        }
    },
    "nbformat_minor": 2,
    "nbformat": 4,
    "cells": [
        {
            "cell_type": "markdown",
            "source": [
                "# **TABELA FILIAL**"
            ],
            "metadata": {
                "language": "sql",
                "azdata_cell_guid": "92c8117a-55f4-4ca2-84a4-3f7832df7ea6"
            },
            "attachments": {}
        },
        {
            "cell_type": "markdown",
            "source": [
                "## <u>Realizando as transformações necessárias e criando nova tabela para ser consumida</u>\n",
                "\n",
                "- Criaremos a coluna `Ordem` para ordernar as filiais uma vez que a PK da tabela staging é do tipo texto. \n",
                "- Além disso, preencheremos as informações nulas com informação da JC Brothers"
            ],
            "metadata": {
                "azdata_cell_guid": "30e976f4-1cf5-445d-862f-4075d2f70f6e",
                "language": ""
            },
            "attachments": {}
        },
        {
            "cell_type": "code",
            "source": [
                "CREATE OR ALTER PROCEDURE SP_CARREGA_FILIAL\r\n",
                "\t@CODFILIAL NCHAR(2),\r\n",
                "\t@EMPRESA NVARCHAR(150),\r\n",
                "\t@FILIAL NVARCHAR(25)\r\n",
                "AS\r\n",
                "BEGIN    \r\n",
                "\t----Faz a transformação das informações\r\n",
                "       DECLARE @ORDEM SMALLINT\r\n",
                "       SET @ORDEM = CONVERT(SMALLINT, @CODFILIAL)\r\n",
                "\t   SET @EMPRESA  = CASE WHEN @EMPRESA IS NULL THEN 'JC BROTHERS' ELSE @EMPRESA END\r\n",
                "       SET @FILIAL  =  CASE WHEN @FILIAL IS NULL THEN  'JC BROTHERS' ELSE @FILIAL END\r\n",
                "        \r\n",
                "    ----faz o merge das informações\r\n",
                "        IF EXISTS (SELECT 1 FROM FILIAL WHERE [Cod.Filial] = @CODFILIAL)\r\n",
                "\t\t\tBEGIN\r\n",
                "\t\t\tUPDATE FILIAL SET EMPRESA = @EMPRESA, FILIAL = @FILIAL WHERE [Cod.Filial] = @CODFILIAL\r\n",
                "\t\tEND\r\n",
                "    \tELSE\r\n",
                "\t\t\tBEGIN\r\n",
                "\t\t\tINSERT INTO FILIAL ([Cod.Filial], Empresa, Filial, Ordem)\r\n",
                "\t\t\tVALUES (@CODFILIAL, @EMPRESA, @FILIAL, @ORDEM)\r\n",
                "\tEND\r\n",
                "END"
            ],
            "metadata": {
                "language": "sql",
                "azdata_cell_guid": "cf5f4c18-c9d2-42e8-8509-78012b4a8dd0"
            },
            "outputs": [],
            "execution_count": null
        },
        {
            "cell_type": "code",
            "source": [
                "SELECT * FROM FILIAL"
            ],
            "metadata": {
                "language": "sql",
                "azdata_cell_guid": "4a8e6689-aa49-42ff-97a8-b1e7a719486d"
            },
            "outputs": [
{
    "output_type": "display_data",
    "data": {
        "text/html": "(14 rows affected)"
    },
    "metadata": {}
}, {
    "output_type": "display_data",
    "data": {
        "text/html": "Total execution time: 00:00:00.015"
    },
    "metadata": {}
}, {
    "output_type": "execute_result",
    "metadata": {},
    "execution_count": 1,
    "data": {
        "application/vnd.dataresource+json": {
            "schema": {
                "fields": [
                    {
                        "name": "CodFilial"
                    },
                    {
                        "name": "Empresa"
                    },
                    {
                        "name": "Filial"
                    },
                    {
                        "name": "Ordem"
                    }
                ]
            },
            "data": [
                {
                    "CodFilial": "1 ",
                    "Empresa": "JC BROTHERS",
                    "Filial": "LOJA JABAQUARA",
                    "Ordem": "1"
                },
                {
                    "CodFilial": "10",
                    "Empresa": "FFJ CORP",
                    "Filial": "FFJ CORP",
                    "Ordem": "10"
                },
                {
                    "CodFilial": "11",
                    "Empresa": "JC BROTHERS",
                    "Filial": "DISTRIBUICAO ES",
                    "Ordem": "11"
                },
                {
                    "CodFilial": "12",
                    "Empresa": "JC BROTHERS",
                    "Filial": "LOJA JUNDIAI",
                    "Ordem": "12"
                },
                {
                    "CodFilial": "13",
                    "Empresa": "JC BROTHERS",
                    "Filial": "LOJA TRIMAIS",
                    "Ordem": "13"
                },
                {
                    "CodFilial": "2 ",
                    "Empresa": "JC BROTHERS",
                    "Filial": "DISTRIBUICAO SP",
                    "Ordem": "2"
                },
                {
                    "CodFilial": "3 ",
                    "Empresa": "JC BROTHERS",
                    "Filial": "ESTOQUE CORPORATIVO",
                    "Ordem": "3"
                },
                {
                    "CodFilial": "4 ",
                    "Empresa": "JC BROTHERS",
                    "Filial": "ESTOQUE SHOWROOM",
                    "Ordem": "4"
                },
                {
                    "CodFilial": "5 ",
                    "Empresa": "JFF ",
                    "Filial": "JFF CORP",
                    "Ordem": "5"
                },
                {
                    "CodFilial": "6 ",
                    "Empresa": "BROKER CORP",
                    "Filial": "BROKER CORP",
                    "Ordem": "6"
                },
                {
                    "CodFilial": "7 ",
                    "Empresa": "JC BROTHERS",
                    "Filial": "ECOMMERCE JC KIDS",
                    "Ordem": "7"
                },
                {
                    "CodFilial": "8 ",
                    "Empresa": "JC BROTHERS",
                    "Filial": "LOJA PARQUE",
                    "Ordem": "8"
                },
                {
                    "CodFilial": "9 ",
                    "Empresa": "CFF CLOUD",
                    "Filial": "CFF CLOUD",
                    "Ordem": "9"
                },
                {
                    "CodFilial": "99",
                    "Empresa": "JC BROTHERS",
                    "Filial": "JC BROTHERS",
                    "Ordem": "99"
                }
            ]
        },
        "text/html": [
            "<table>",
            "<tr><th>CodFilial</th><th>Empresa</th><th>Filial</th><th>Ordem</th></tr>",
            "<tr><td>1 </td><td>JC BROTHERS</td><td>LOJA JABAQUARA</td><td>1</td></tr>",
            "<tr><td>10</td><td>FFJ CORP</td><td>FFJ CORP</td><td>10</td></tr>",
            "<tr><td>11</td><td>JC BROTHERS</td><td>DISTRIBUICAO ES</td><td>11</td></tr>",
            "<tr><td>12</td><td>JC BROTHERS</td><td>LOJA JUNDIAI</td><td>12</td></tr>",
            "<tr><td>13</td><td>JC BROTHERS</td><td>LOJA TRIMAIS</td><td>13</td></tr>",
            "<tr><td>2 </td><td>JC BROTHERS</td><td>DISTRIBUICAO SP</td><td>2</td></tr>",
            "<tr><td>3 </td><td>JC BROTHERS</td><td>ESTOQUE CORPORATIVO</td><td>3</td></tr>",
            "<tr><td>4 </td><td>JC BROTHERS</td><td>ESTOQUE SHOWROOM</td><td>4</td></tr>",
            "<tr><td>5 </td><td>JFF </td><td>JFF CORP</td><td>5</td></tr>",
            "<tr><td>6 </td><td>BROKER CORP</td><td>BROKER CORP</td><td>6</td></tr>",
            "<tr><td>7 </td><td>JC BROTHERS</td><td>ECOMMERCE JC KIDS</td><td>7</td></tr>",
            "<tr><td>8 </td><td>JC BROTHERS</td><td>LOJA PARQUE</td><td>8</td></tr>",
            "<tr><td>9 </td><td>CFF CLOUD</td><td>CFF CLOUD</td><td>9</td></tr>",
            "<tr><td>99</td><td>JC BROTHERS</td><td>JC BROTHERS</td><td>99</td></tr>",
            "</table>"
        ]
    }
}
],
            "execution_count": 1
        }
    ]
}