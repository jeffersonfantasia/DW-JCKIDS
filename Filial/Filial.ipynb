{
    "metadata": {
        "kernelspec": {
            "name": "SQL",
            "display_name": "SQL",
            "language": "sql"
        },
        "language_info": {
            "name": "sql",
            "version": ""
        }
    },
    "nbformat_minor": 2,
    "nbformat": 4,
    "cells": [
        {
            "cell_type": "markdown",
            "source": [
                "## Criando a tabela staging STGFILIAL\n",
                "\n",
                "Procedure criada para verificar se a tabela STGFILIAL foi criada no banco. Caso negativo, faremos a criação.\n",
                "\n",
                "Além disso essa procedure fará o UPINSERT (MERGE) das informações que virão da tabela PCFILIAL lá no Oracle."
            ],
            "metadata": {
                "language": "sql",
                "azdata_cell_guid": "92c8117a-55f4-4ca2-84a4-3f7832df7ea6"
            },
            "attachments": {}
        },
        {
            "cell_type": "code",
            "source": [
                "CREATE OR ALTER PROCEDURE SP_INGEST_STGFILIAL\n",
                "\t@CODFILIAL NCHAR(2),\n",
                "\t@EMPRESA NVARCHAR(150),\n",
                "\t@FILIAL NVARCHAR(25)\n",
                "AS\n",
                "BEGIN\n",
                "\tIF NOT EXISTS (SELECT 1\n",
                "\tFROM INFORMATION_SCHEMA.TABLES\n",
                "\tWHERE TABLE_NAME = 'STGFILIAL')\n",
                "    BEGIN\n",
                "\t\tSET ANSI_NULLS ON\n",
                "\n",
                "\t\tSET QUOTED_IDENTIFIER ON\n",
                "\n",
                "\t\tCREATE TABLE [dbo].[STGFILIAL]\n",
                "\t\t(\n",
                "\t\t\t[CODFILIAL] [nchar](2) NOT NULL,\n",
                "\t\t\t[EMPRESA] [nvarchar](150) NULL,\n",
                "\t\t\t[FILIAL] [nvarchar](25) NULL\n",
                "\t\t) ON [PRIMARY]\n",
                "\n",
                "\t\tSET ANSI_PADDING ON\n",
                "\n",
                "\t\tALTER TABLE [dbo].[STGFILIAL] ADD  CONSTRAINT [PK_STGFILIAL] PRIMARY KEY CLUSTERED \n",
                "\t\t(\n",
                "\t\t\t[CODFILIAL] ASC\n",
                "\t\t)WITH (STATISTICS_NORECOMPUTE = OFF, IGNORE_DUP_KEY = OFF, ONLINE = OFF, OPTIMIZE_FOR_SEQUENTIAL_KEY = OFF) ON [PRIMARY]\n",
                "\n",
                "\t\tCREATE UNIQUE NONCLUSTERED INDEX [Index_STGFILIAL_1] ON [dbo].[STGFILIAL]\n",
                "\t\t(\n",
                "\t\t\t[CODFILIAL] ASC\n",
                "\t\t)WITH (STATISTICS_NORECOMPUTE = OFF, IGNORE_DUP_KEY = OFF, DROP_EXISTING = OFF, ONLINE = OFF, OPTIMIZE_FOR_SEQUENTIAL_KEY = OFF) ON [PRIMARY]\n",
                "\tEND\n",
                "\n",
                "\tBEGIN\n",
                "\t\tIF EXISTS (SELECT 1\n",
                "\t\tFROM STGFILIAL\n",
                "\t\tWHERE CODFILIAL = @CODFILIAL)\n",
                "\t\t\tBEGIN\n",
                "\t\t\tUPDATE STGFILIAL SET EMPRESA = @EMPRESA, FILIAL = @FILIAL WHERE CODFILIAL = @CODFILIAL\n",
                "\t\tEND\n",
                "    \tELSE\n",
                "\t\t\tBEGIN\n",
                "\t\t\tINSERT INTO STGFILIAL\n",
                "\t\t\t\t(CODFILIAL, EMPRESA, FILIAL)\n",
                "\t\t\tVALUES\n",
                "\t\t\t\t(@CODFILIAL, @EMPRESA, @FILIAL)\n",
                "\t\tEND\n",
                "\tEND\n",
                "END"
            ],
            "metadata": {
                "azdata_cell_guid": "79e0fa48-8546-428a-a08a-0c4b81ee3499",
                "language": "sql",
                "tags": []
            },
            "outputs": [
                {
                    "output_type": "display_data",
                    "data": {
                        "text/html": "Commands completed successfully."
                    },
                    "metadata": {}
                },
                {
                    "output_type": "display_data",
                    "data": {
                        "text/html": "Total execution time: 00:00:00.034"
                    },
                    "metadata": {}
                }
            ],
            "execution_count": 1
        }
    ]
}