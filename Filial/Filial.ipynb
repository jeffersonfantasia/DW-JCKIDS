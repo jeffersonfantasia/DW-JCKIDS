{
    "metadata": {
        "kernelspec": {
            "name": "SQL",
            "display_name": "SQL",
            "language": "sql"
        },
        "language_info": {
            "name": "sql",
            "version": ""
        }
    },
    "nbformat_minor": 2,
    "nbformat": 4,
    "cells": [
        {
            "cell_type": "markdown",
            "source": [
                "# **TABELA FILIAL**"
            ],
            "metadata": {
                "language": "sql",
                "azdata_cell_guid": "92c8117a-55f4-4ca2-84a4-3f7832df7ea6"
            },
            "attachments": {}
        },
        {
            "cell_type": "markdown",
            "source": [
                "## <u>Realizando as transformações necessárias e criando nova tabela para ser consumida</u>\n",
                "\n",
                "- Criaremos a coluna `Ordem` para ordernar as filiais uma vez que a PK da tabela staging é do tipo texto. \n",
                "- Além disso, preencheremos as informações nulas com informação da JC Brothers"
            ],
            "metadata": {
                "azdata_cell_guid": "30e976f4-1cf5-445d-862f-4075d2f70f6e",
                "language": ""
            },
            "attachments": {}
        },
        {
            "cell_type": "code",
            "source": [
                "CREATE OR ALTER PROCEDURE SP_CARREGA_FILIAL\n",
                "\t@CODFILIAL NCHAR(2),\n",
                "\t@EMPRESA NVARCHAR(150),\n",
                "\t@FILIAL NVARCHAR(25)\n",
                "AS\n",
                "BEGIN    \n",
                "----Faz a transformação das informações\n",
                "\tDECLARE @ORDEM SMALLINT = CONVERT(SMALLINT, @CODFILIAL)\n",
                "\tDECLARE @DTUPDATE DATETIME = DATEADD(hour, -3, GETUTCDATE())\n",
                "\n",
                "\tSET @EMPRESA  = CASE WHEN @EMPRESA = 'NULL' THEN 'JC BROTHERS' ELSE @EMPRESA END\n",
                "\tSET @FILIAL  =  CASE WHEN @FILIAL = 'NULL' THEN  'JC BROTHERS' ELSE @FILIAL END\n",
                "\t\n",
                "----faz o merge das informações\n",
                "\tIF EXISTS (SELECT 1 FROM FILIAL WHERE [CodFilial] = @CODFILIAL)\n",
                "\t\tBEGIN\n",
                "\t\tUPDATE FILIAL SET EMPRESA = @EMPRESA, FILIAL = @FILIAL, DTUPDATE = @DTUPDATE WHERE [CodFilial] = @CODFILIAL\n",
                "\tEND\n",
                "\tELSE\n",
                "\tBEGIN\n",
                "\t\tINSERT INTO FILIAL ([CodFilial], Empresa, Filial, Ordem, DtUpdate)\n",
                "\t\tVALUES (@CODFILIAL, @EMPRESA, @FILIAL, @ORDEM, @DTUPDATE)\n",
                "\tEND\n",
                "END"
            ],
            "metadata": {
                "language": "sql",
                "azdata_cell_guid": "cf5f4c18-c9d2-42e8-8509-78012b4a8dd0"
            },
            "outputs": [
                {
                    "output_type": "display_data",
                    "data": {
                        "text/html": "Commands completed successfully."
                    },
                    "metadata": {}
                },
                {
                    "output_type": "display_data",
                    "data": {
                        "text/html": "Total execution time: 00:00:00.039"
                    },
                    "metadata": {}
                }
            ],
            "execution_count": 3
        },
        {
            "cell_type": "code",
            "source": [
                "SELECT * FROM FILIAL"
            ],
            "metadata": {
                "language": "sql",
                "azdata_cell_guid": "4a8e6689-aa49-42ff-97a8-b1e7a719486d"
            },
            "outputs": [
                {
                    "output_type": "display_data",
                    "data": {
                        "text/html": "(0 rows affected)"
                    },
                    "metadata": {}
                },
                {
                    "output_type": "display_data",
                    "data": {
                        "text/html": "Total execution time: 00:00:00.016"
                    },
                    "metadata": {}
                },
                {
                    "output_type": "execute_result",
                    "metadata": {},
                    "execution_count": 5,
                    "data": {
                        "application/vnd.dataresource+json": {
                            "schema": {
                                "fields": [
                                    {
                                        "name": "CodFilial"
                                    },
                                    {
                                        "name": "Empresa"
                                    },
                                    {
                                        "name": "Filial"
                                    },
                                    {
                                        "name": "Ordem"
                                    },
                                    {
                                        "name": "DtUpdate"
                                    }
                                ]
                            },
                            "data": []
                        },
                        "text/html": [
                            "<table>",
                            "<tr><th>CodFilial</th><th>Empresa</th><th>Filial</th><th>Ordem</th><th>DtUpdate</th></tr>",
                            "</table>"
                        ]
                    }
                }
            ],
            "execution_count": 5
        },
        {
            "cell_type": "code",
            "source": [
                "CREATE OR ALTER PROCEDURE SP_RETORNA_FILIAL\r\n",
                "    @CODFILIAL NCHAR(2)\r\n",
                "AS\r\n",
                "BEGIN    \r\n",
                "\r\n",
                "    IF EXISTS (SELECT 1 FROM FILIAL WHERE CODFILIAL = @CODFILIAL)\r\n",
                "\tSELECT FORMAT(DTUPDATE, 'yyyy-MM-dd HH:mm:ss') DTUPDATE FROM FILIAL WHERE CODFILIAL = @CODFILIAL\r\n",
                "END"
            ],
            "metadata": {
                "azdata_cell_guid": "3710a5cb-dcf2-4c5d-ae2e-eeaee067660c",
                "language": "sql"
            },
            "outputs": [
{
    "output_type": "display_data",
    "data": {
        "text/html": "Commands completed successfully."
    },
    "metadata": {}
}, {
    "output_type": "display_data",
    "data": {
        "text/html": "Total execution time: 00:00:00.028"
    },
    "metadata": {}
}
],
            "execution_count": 7
        }
    ]
}