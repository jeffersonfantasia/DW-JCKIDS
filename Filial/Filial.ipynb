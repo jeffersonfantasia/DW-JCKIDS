{
    "metadata": {
        "kernelspec": {
            "name": "SQL",
            "display_name": "SQL",
            "language": "sql"
        },
        "language_info": {
            "name": "sql",
            "version": ""
        }
    },
    "nbformat_minor": 2,
    "nbformat": 4,
    "cells": [
        {
            "cell_type": "markdown",
            "source": [
                "## Criando a tabela staging STGFILIAL\n",
                "\n",
                "Procedure criada para verificar se a tabela STGFILIAL foi criada no banco. Caso negativo, faremos a criação.\n",
                "\n",
                "Além disso essa procedure fará o UPINSERT (MERGE) das informações que virão da tabela PCFILIAL lá no Oracle."
            ],
            "metadata": {
                "language": "sql",
                "azdata_cell_guid": "92c8117a-55f4-4ca2-84a4-3f7832df7ea6"
            },
            "attachments": {}
        },
        {
            "cell_type": "code",
            "source": [
                "CREATE OR ALTER PROCEDURE SP_INGEST_STGFILIAL\n",
                "\t@CODFILIAL NCHAR(2),\n",
                "\t@EMPRESA NVARCHAR(150),\n",
                "\t@FILIAL NVARCHAR(25)\n",
                "AS\n",
                "BEGIN\n",
                "\tIF NOT EXISTS (SELECT 1\n",
                "\tFROM INFORMATION_SCHEMA.TABLES\n",
                "\tWHERE TABLE_NAME = 'STGFILIAL')\n",
                "    BEGIN\n",
                "\t\tSET ANSI_NULLS ON\n",
                "\n",
                "\t\tSET QUOTED_IDENTIFIER ON\n",
                "\n",
                "\t\tCREATE TABLE [dbo].[STGFILIAL]\n",
                "\t\t(\n",
                "\t\t\t[CODFILIAL] [nchar](2) NOT NULL,\n",
                "\t\t\t[EMPRESA] [nvarchar](150) NULL,\n",
                "\t\t\t[FILIAL] [nvarchar](25) NULL\n",
                "\t\t) ON [PRIMARY]\n",
                "\n",
                "\t\tSET ANSI_PADDING ON\n",
                "\n",
                "\t\tALTER TABLE [dbo].[STGFILIAL] ADD  CONSTRAINT [PK_STGFILIAL] PRIMARY KEY CLUSTERED \n",
                "\t\t(\n",
                "\t\t\t[CODFILIAL] ASC\n",
                "\t\t)WITH (STATISTICS_NORECOMPUTE = OFF, IGNORE_DUP_KEY = OFF, ONLINE = OFF, OPTIMIZE_FOR_SEQUENTIAL_KEY = OFF) ON [PRIMARY]\n",
                "\n",
                "\t\tCREATE UNIQUE NONCLUSTERED INDEX [Index_STGFILIAL_1] ON [dbo].[STGFILIAL]\n",
                "\t\t(\n",
                "\t\t\t[CODFILIAL] ASC\n",
                "\t\t)WITH (STATISTICS_NORECOMPUTE = OFF, IGNORE_DUP_KEY = OFF, DROP_EXISTING = OFF, ONLINE = OFF, OPTIMIZE_FOR_SEQUENTIAL_KEY = OFF) ON [PRIMARY]\n",
                "\tEND\n",
                "\n",
                "\tBEGIN\n",
                "\t\tIF EXISTS (SELECT 1\n",
                "\t\tFROM STGFILIAL\n",
                "\t\tWHERE CODFILIAL = @CODFILIAL)\n",
                "\t\t\tBEGIN\n",
                "\t\t\tUPDATE STGFILIAL SET EMPRESA = @EMPRESA, FILIAL = @FILIAL WHERE CODFILIAL = @CODFILIAL\n",
                "\t\tEND\n",
                "    \tELSE\n",
                "\t\t\tBEGIN\n",
                "\t\t\tINSERT INTO STGFILIAL\n",
                "\t\t\t\t(CODFILIAL, EMPRESA, FILIAL)\n",
                "\t\t\tVALUES\n",
                "\t\t\t\t(@CODFILIAL, @EMPRESA, @FILIAL)\n",
                "\t\tEND\n",
                "\tEND\n",
                "END"
            ],
            "metadata": {
                "azdata_cell_guid": "79e0fa48-8546-428a-a08a-0c4b81ee3499",
                "language": "sql",
                "tags": [
                    "hide_input"
                ]
            },
            "outputs": [
                {
                    "output_type": "display_data",
                    "data": {
                        "text/html": "Commands completed successfully."
                    },
                    "metadata": {}
                },
                {
                    "output_type": "display_data",
                    "data": {
                        "text/html": "Total execution time: 00:00:00.047"
                    },
                    "metadata": {}
                }
            ],
            "execution_count": 2
        },
        {
            "cell_type": "code",
            "source": [
                "SELECT * FROM STGFILIAL"
            ],
            "metadata": {
                "azdata_cell_guid": "b33860a4-9962-42ee-abe4-7096ec90a6b2",
                "language": "sql",
                "tags": [
                    "hide_input"
                ]
            },
            "outputs": [
                {
                    "output_type": "display_data",
                    "data": {
                        "text/html": "(14 rows affected)"
                    },
                    "metadata": {}
                },
                {
                    "output_type": "display_data",
                    "data": {
                        "text/html": "Total execution time: 00:00:00.020"
                    },
                    "metadata": {}
                },
                {
                    "output_type": "execute_result",
                    "metadata": {},
                    "execution_count": 3,
                    "data": {
                        "application/vnd.dataresource+json": {
                            "schema": {
                                "fields": [
                                    {
                                        "name": "CODFILIAL"
                                    },
                                    {
                                        "name": "EMPRESA"
                                    },
                                    {
                                        "name": "FILIAL"
                                    }
                                ]
                            },
                            "data": [
                                {
                                    "CODFILIAL": "1 ",
                                    "EMPRESA": "JC BROTHERS",
                                    "FILIAL": "LOJA JABAQUARA"
                                },
                                {
                                    "CODFILIAL": "10",
                                    "EMPRESA": "FFJ CORP",
                                    "FILIAL": "FFJ CORP"
                                },
                                {
                                    "CODFILIAL": "11",
                                    "EMPRESA": "JC BROTHERS",
                                    "FILIAL": "DISTRIBUICAO ES"
                                },
                                {
                                    "CODFILIAL": "12",
                                    "EMPRESA": "JC BROTHERS",
                                    "FILIAL": "LOJA JUNDIAI"
                                },
                                {
                                    "CODFILIAL": "13",
                                    "EMPRESA": "JC BROTHERS",
                                    "FILIAL": "LOJA TRIMAIS"
                                },
                                {
                                    "CODFILIAL": "2 ",
                                    "EMPRESA": "JC BROTHERS",
                                    "FILIAL": "DISTRIBUICAO SP"
                                },
                                {
                                    "CODFILIAL": "3 ",
                                    "EMPRESA": "JC BROTHERS",
                                    "FILIAL": "ESTOQUE CORPORATIVO"
                                },
                                {
                                    "CODFILIAL": "4 ",
                                    "EMPRESA": "JC BROTHERS",
                                    "FILIAL": "ESTOQUE SHOWROOM"
                                },
                                {
                                    "CODFILIAL": "5 ",
                                    "EMPRESA": "JFF ",
                                    "FILIAL": "JFF CORP"
                                },
                                {
                                    "CODFILIAL": "6 ",
                                    "EMPRESA": "BROKER CORP",
                                    "FILIAL": "BROKER CORP"
                                },
                                {
                                    "CODFILIAL": "7 ",
                                    "EMPRESA": "JC BROTHERS",
                                    "FILIAL": "ECOMMERCE JC KIDS"
                                },
                                {
                                    "CODFILIAL": "8 ",
                                    "EMPRESA": "JC BROTHERS",
                                    "FILIAL": "LOJA PARQUE"
                                },
                                {
                                    "CODFILIAL": "9 ",
                                    "EMPRESA": "CFF CLOUD",
                                    "FILIAL": "CFF CLOUD"
                                },
                                {
                                    "CODFILIAL": "99",
                                    "EMPRESA": "null",
                                    "FILIAL": "null"
                                }
                            ]
                        },
                        "text/html": [
                            "<table>",
                            "<tr><th>CODFILIAL</th><th>EMPRESA</th><th>FILIAL</th></tr>",
                            "<tr><td>1 </td><td>JC BROTHERS</td><td>LOJA JABAQUARA</td></tr>",
                            "<tr><td>10</td><td>FFJ CORP</td><td>FFJ CORP</td></tr>",
                            "<tr><td>11</td><td>JC BROTHERS</td><td>DISTRIBUICAO ES</td></tr>",
                            "<tr><td>12</td><td>JC BROTHERS</td><td>LOJA JUNDIAI</td></tr>",
                            "<tr><td>13</td><td>JC BROTHERS</td><td>LOJA TRIMAIS</td></tr>",
                            "<tr><td>2 </td><td>JC BROTHERS</td><td>DISTRIBUICAO SP</td></tr>",
                            "<tr><td>3 </td><td>JC BROTHERS</td><td>ESTOQUE CORPORATIVO</td></tr>",
                            "<tr><td>4 </td><td>JC BROTHERS</td><td>ESTOQUE SHOWROOM</td></tr>",
                            "<tr><td>5 </td><td>JFF </td><td>JFF CORP</td></tr>",
                            "<tr><td>6 </td><td>BROKER CORP</td><td>BROKER CORP</td></tr>",
                            "<tr><td>7 </td><td>JC BROTHERS</td><td>ECOMMERCE JC KIDS</td></tr>",
                            "<tr><td>8 </td><td>JC BROTHERS</td><td>LOJA PARQUE</td></tr>",
                            "<tr><td>9 </td><td>CFF CLOUD</td><td>CFF CLOUD</td></tr>",
                            "<tr><td>99</td><td>null</td><td>null</td></tr>",
                            "</table>"
                        ]
                    }
                }
            ],
            "execution_count": 3
        }
    ]
}