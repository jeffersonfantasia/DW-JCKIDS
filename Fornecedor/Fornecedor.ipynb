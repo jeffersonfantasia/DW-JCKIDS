{
    "metadata": {
        "kernelspec": {
            "name": "SQL",
            "display_name": "SQL",
            "language": "sql"
        },
        "language_info": {
            "name": "sql",
            "version": ""
        }
    },
    "nbformat_minor": 2,
    "nbformat": 4,
    "cells": [
        {
            "cell_type": "markdown",
            "source": [
                "# **TABELA FORNECEDOR**"
            ],
            "metadata": {
                "azdata_cell_guid": "1aa09710-974c-4821-a688-30a814491a3a"
            },
            "attachments": {}
        },
        {
            "cell_type": "code",
            "source": [
                "CREATE OR ALTER PROCEDURE SP_CARREGA_FORNECEDOR \r\n",
                "    @CODFORNEC INT,\r\n",
                "    @FORNECEDOR NVARCHAR(60),\r\n",
                "    @CODFORNECPRINC INT,\r\n",
                "    @CNPJ NVARCHAR(18),\r\n",
                "    @TIPO NVARCHAR(35)\r\n",
                "AS\r\n",
                "BEGIN\r\n",
                "    DECLARE @DTUPDATE DATETIME = DATEADD(hour, -3, GETUTCDATE())\r\n",
                "    SET @FORNECEDOR = CASE WHEN @FORNECEDOR = 'NULL' THEN NULL ELSE TRIM(@FORNECEDOR) END\r\n",
                "    SET @CNPJ = CASE WHEN @CNPJ = 'NULL' THEN NULL ELSE TRIM(@CNPJ) END \r\n",
                "    SET @TIPO = CASE WHEN @TIPO = 'NULL' THEN NULL ELSE TRIM(@TIPO) END \r\n",
                "    \r\n",
                "    IF EXISTS (SELECT 1 FROM FORNECEDOR WHERE CODFORNEC = @CODFORNEC)\r\n",
                "    BEGIN\r\n",
                "        UPDATE FORNECEDOR \r\n",
                "        SET FORNECEDOR = @FORNECEDOR, CODFORNECPRINC = @CODFORNECPRINC, CNPJ = @CNPJ, TIPO = @TIPO, DTUPDATE = @DTUPDATE \r\n",
                "        WHERE CODFORNEC = @CODFORNEC\r\n",
                "    END\r\n",
                "    ELSE\r\n",
                "    BEGIN\r\n",
                "        INSERT INTO FORNECEDOR (CODFORNEC, FORNECEDOR, CODFORNECPRINC, CNPJ, TIPO, DTUPDATE)\r\n",
                "        VALUES (@CODFORNEC, @FORNECEDOR, @CODFORNECPRINC, @CNPJ, @TIPO, @DTUPDATE)\r\n",
                "    END\r\n",
                "END"
            ],
            "metadata": {
                "azdata_cell_guid": "f4f7cfb7-0c2d-4639-8e68-a9b6cdfaeaf5",
                "language": "sql"
            },
            "outputs": [
                {
                    "output_type": "display_data",
                    "data": {
                        "text/html": "Commands completed successfully."
                    },
                    "metadata": {}
                },
                {
                    "output_type": "display_data",
                    "data": {
                        "text/html": "Total execution time: 00:00:00.016"
                    },
                    "metadata": {}
                }
            ],
            "execution_count": 27
        },
        {
            "cell_type": "code",
            "source": [
                "CREATE OR ALTER PROCEDURE SP_RETORNA_FORNECEDOR\r\n",
                "    @CODFORNEC INT\r\n",
                "AS\r\n",
                "BEGIN\r\n",
                "    IF EXISTS (SELECT 1 FROM FORNECEDOR WHERE CODFORNEC = @CODFORNEC)\r\n",
                "    BEGIN\r\n",
                "        SELECT FORMAT(DTUPDATE, 'yyyy-MM-dd HH:mm:ss') DTUPDATE FROM FORNECEDOR WHERE CODFORNEC = @CODFORNEC\r\n",
                "    END\r\n",
                "END"
            ],
            "metadata": {
                "azdata_cell_guid": "c1014fe6-1d97-4212-802c-ee8222e7232a",
                "language": "sql",
                "tags": []
            },
            "outputs": [
                {
                    "output_type": "display_data",
                    "data": {
                        "text/html": "Commands completed successfully."
                    },
                    "metadata": {}
                },
                {
                    "output_type": "display_data",
                    "data": {
                        "text/html": "Total execution time: 00:00:00.015"
                    },
                    "metadata": {}
                }
            ],
            "execution_count": 12
        },
        {
            "cell_type": "code",
            "source": [
                "SELECT * FROM FORNECEDOR"
            ],
            "metadata": {
                "azdata_cell_guid": "7c64c686-e498-4089-84d1-60daea865969",
                "language": "sql"
            },
            "outputs": [
                {
                    "output_type": "display_data",
                    "data": {
                        "text/html": "(17 rows affected)"
                    },
                    "metadata": {}
                },
                {
                    "output_type": "display_data",
                    "data": {
                        "text/html": "Total execution time: 00:00:00.015"
                    },
                    "metadata": {}
                },
                {
                    "output_type": "execute_result",
                    "metadata": {},
                    "execution_count": 29,
                    "data": {
                        "application/vnd.dataresource+json": {
                            "schema": {
                                "fields": [
                                    {
                                        "name": "CodFornec"
                                    },
                                    {
                                        "name": "Fornecedor"
                                    },
                                    {
                                        "name": "CodFornecPrinc"
                                    },
                                    {
                                        "name": "CNPJ"
                                    },
                                    {
                                        "name": "Tipo"
                                    },
                                    {
                                        "name": "DtUpdate"
                                    }
                                ]
                            },
                            "data": [
                                {
                                    "CodFornec": "3849",
                                    "Fornecedor": "ADELITA NIEHUES DE AVIZ ME",
                                    "CodFornecPrinc": "3849",
                                    "CNPJ": "81.514.952/0001-25",
                                    "Tipo": "NULL",
                                    "DtUpdate": "2024-03-11 18:02:39.690"
                                },
                                {
                                    "CodFornec": "3850",
                                    "Fornecedor": "PAP MODERNA LTDA",
                                    "CodFornecPrinc": "3850",
                                    "CNPJ": "84.292.242/0001-96",
                                    "Tipo": "NULL",
                                    "DtUpdate": "2024-03-11 18:02:43.623"
                                },
                                {
                                    "CodFornec": "3851",
                                    "Fornecedor": "SAFO IND E COM DE CONFEC E TEC",
                                    "CodFornecPrinc": "3851",
                                    "CNPJ": "83.175.257/0003-73",
                                    "Tipo": "NULL",
                                    "DtUpdate": "2024-03-11 18:02:47.450"
                                },
                                {
                                    "CodFornec": "3852",
                                    "Fornecedor": "TEREZA MARTINS DE A. ZENNI-ME",
                                    "CodFornecPrinc": "3852",
                                    "CNPJ": "86.829.348/0001-01",
                                    "Tipo": "NULL",
                                    "DtUpdate": "2024-03-11 18:02:51.513"
                                },
                                {
                                    "CodFornec": "3853",
                                    "Fornecedor": "SAFO IND E COM DE CONF E TEC L",
                                    "CodFornecPrinc": "3853",
                                    "CNPJ": "83.175.257/0001-01",
                                    "Tipo": "NULL",
                                    "DtUpdate": "2024-03-11 18:02:55.357"
                                },
                                {
                                    "CodFornec": "3854",
                                    "Fornecedor": "VINICIUS KLEIS FELTRIN ME",
                                    "CodFornecPrinc": "3854",
                                    "CNPJ": "04.016.931/0001-39",
                                    "Tipo": "NULL",
                                    "DtUpdate": "2024-03-11 18:02:59.170"
                                },
                                {
                                    "CodFornec": "3855",
                                    "Fornecedor": "COMERCIAL DE ALIMENTOS POFFO L",
                                    "CodFornecPrinc": "3855",
                                    "CNPJ": "04.336.432/0001-29",
                                    "Tipo": "NULL",
                                    "DtUpdate": "2024-03-11 18:03:03.293"
                                },
                                {
                                    "CodFornec": "3856",
                                    "Fornecedor": "DOMPEL INFORMATICA E EQUI ESC",
                                    "CodFornecPrinc": "3856",
                                    "CNPJ": "74.183.385/0001-06",
                                    "Tipo": "NULL",
                                    "DtUpdate": "2024-03-11 18:03:07.153"
                                },
                                {
                                    "CodFornec": "3857",
                                    "Fornecedor": "COMASO COMERCIAL ALI SOROCABA",
                                    "CodFornecPrinc": "3857",
                                    "CNPJ": "03.825.600/0007-72",
                                    "Tipo": "NULL",
                                    "DtUpdate": "2024-03-11 18:03:10.967"
                                },
                                {
                                    "CodFornec": "3858",
                                    "Fornecedor": "SANDRA DE SOUSA VINOTTI ME",
                                    "CodFornecPrinc": "3858",
                                    "CNPJ": "01.047.153/0001-57",
                                    "Tipo": "NULL",
                                    "DtUpdate": "2024-03-11 18:03:15.060"
                                },
                                {
                                    "CodFornec": "3859",
                                    "Fornecedor": "NIDROPE COM MAT DE CONSTRUCAO",
                                    "CodFornecPrinc": "3859",
                                    "CNPJ": "02.604.291/0001-52",
                                    "Tipo": "NULL",
                                    "DtUpdate": "2024-03-11 18:03:18.870"
                                },
                                {
                                    "CodFornec": "3860",
                                    "Fornecedor": "MARIO ROGERIO SILVA",
                                    "CodFornecPrinc": "3860",
                                    "CNPJ": "78.261.781/0001-65",
                                    "Tipo": "NULL",
                                    "DtUpdate": "2024-03-11 18:03:22.683"
                                },
                                {
                                    "CodFornec": "3861",
                                    "Fornecedor": "TRAUDE H S HENKES ME",
                                    "CodFornecPrinc": "3861",
                                    "CNPJ": "05.528.675/0001-21",
                                    "Tipo": "NULL",
                                    "DtUpdate": "2024-03-11 18:03:26.730"
                                },
                                {
                                    "CodFornec": "4090",
                                    "Fornecedor": "IMPORTADORA CONESUL COMERCIO L",
                                    "CodFornecPrinc": "4090",
                                    "CNPJ": "91.483.727/0001-22",
                                    "Tipo": "NULL",
                                    "DtUpdate": "2024-03-11 18:03:30.543"
                                },
                                {
                                    "CodFornec": "4091",
                                    "Fornecedor": "ROGERIO LUIZ STEGEL",
                                    "CodFornecPrinc": "4091",
                                    "CNPJ": "05.852.856/0001-09",
                                    "Tipo": "NULL",
                                    "DtUpdate": "2024-03-11 18:03:34.473"
                                },
                                {
                                    "CodFornec": "4092",
                                    "Fornecedor": "KM COMERCIO DE BRINQUEDOS LTDA",
                                    "CodFornecPrinc": "4092",
                                    "CNPJ": "06.905.542/0001-90",
                                    "Tipo": "NULL",
                                    "DtUpdate": "2024-03-11 18:03:38.427"
                                },
                                {
                                    "CodFornec": "4093",
                                    "Fornecedor": "ALCIDES ISOPPO",
                                    "CodFornecPrinc": "4093",
                                    "CNPJ": "89.850.762/0001-90",
                                    "Tipo": "NULL",
                                    "DtUpdate": "2024-03-11 18:03:42.270"
                                }
                            ]
                        },
                        "text/html": [
                            "<table>",
                            "<tr><th>CodFornec</th><th>Fornecedor</th><th>CodFornecPrinc</th><th>CNPJ</th><th>Tipo</th><th>DtUpdate</th></tr>",
                            "<tr><td>3849</td><td>ADELITA NIEHUES DE AVIZ ME</td><td>3849</td><td>81.514.952/0001-25</td><td>NULL</td><td>2024-03-11 18:02:39.690</td></tr>",
                            "<tr><td>3850</td><td>PAP MODERNA LTDA</td><td>3850</td><td>84.292.242/0001-96</td><td>NULL</td><td>2024-03-11 18:02:43.623</td></tr>",
                            "<tr><td>3851</td><td>SAFO IND E COM DE CONFEC E TEC</td><td>3851</td><td>83.175.257/0003-73</td><td>NULL</td><td>2024-03-11 18:02:47.450</td></tr>",
                            "<tr><td>3852</td><td>TEREZA MARTINS DE A. ZENNI-ME</td><td>3852</td><td>86.829.348/0001-01</td><td>NULL</td><td>2024-03-11 18:02:51.513</td></tr>",
                            "<tr><td>3853</td><td>SAFO IND E COM DE CONF E TEC L</td><td>3853</td><td>83.175.257/0001-01</td><td>NULL</td><td>2024-03-11 18:02:55.357</td></tr>",
                            "<tr><td>3854</td><td>VINICIUS KLEIS FELTRIN ME</td><td>3854</td><td>04.016.931/0001-39</td><td>NULL</td><td>2024-03-11 18:02:59.170</td></tr>",
                            "<tr><td>3855</td><td>COMERCIAL DE ALIMENTOS POFFO L</td><td>3855</td><td>04.336.432/0001-29</td><td>NULL</td><td>2024-03-11 18:03:03.293</td></tr>",
                            "<tr><td>3856</td><td>DOMPEL INFORMATICA E EQUI ESC</td><td>3856</td><td>74.183.385/0001-06</td><td>NULL</td><td>2024-03-11 18:03:07.153</td></tr>",
                            "<tr><td>3857</td><td>COMASO COMERCIAL ALI SOROCABA</td><td>3857</td><td>03.825.600/0007-72</td><td>NULL</td><td>2024-03-11 18:03:10.967</td></tr>",
                            "<tr><td>3858</td><td>SANDRA DE SOUSA VINOTTI ME</td><td>3858</td><td>01.047.153/0001-57</td><td>NULL</td><td>2024-03-11 18:03:15.060</td></tr>",
                            "<tr><td>3859</td><td>NIDROPE COM MAT DE CONSTRUCAO</td><td>3859</td><td>02.604.291/0001-52</td><td>NULL</td><td>2024-03-11 18:03:18.870</td></tr>",
                            "<tr><td>3860</td><td>MARIO ROGERIO SILVA</td><td>3860</td><td>78.261.781/0001-65</td><td>NULL</td><td>2024-03-11 18:03:22.683</td></tr>",
                            "<tr><td>3861</td><td>TRAUDE H S HENKES ME</td><td>3861</td><td>05.528.675/0001-21</td><td>NULL</td><td>2024-03-11 18:03:26.730</td></tr>",
                            "<tr><td>4090</td><td>IMPORTADORA CONESUL COMERCIO L</td><td>4090</td><td>91.483.727/0001-22</td><td>NULL</td><td>2024-03-11 18:03:30.543</td></tr>",
                            "<tr><td>4091</td><td>ROGERIO LUIZ STEGEL</td><td>4091</td><td>05.852.856/0001-09</td><td>NULL</td><td>2024-03-11 18:03:34.473</td></tr>",
                            "<tr><td>4092</td><td>KM COMERCIO DE BRINQUEDOS LTDA</td><td>4092</td><td>06.905.542/0001-90</td><td>NULL</td><td>2024-03-11 18:03:38.427</td></tr>",
                            "<tr><td>4093</td><td>ALCIDES ISOPPO</td><td>4093</td><td>89.850.762/0001-90</td><td>NULL</td><td>2024-03-11 18:03:42.270</td></tr>",
                            "</table>"
                        ]
                    }
                }
            ],
            "execution_count": 29
        },
        {
            "cell_type": "code",
            "source": [
                "SELECT COUNT(*) # FROM FORNECEDOR"
            ],
            "metadata": {
                "language": "sql",
                "azdata_cell_guid": "ed3fdd37-0cc5-4722-8f31-541c296795d5"
            },
            "outputs": [
{
    "output_type": "display_data",
    "data": {
        "text/html": "(1 row affected)"
    },
    "metadata": {}
}, {
    "output_type": "display_data",
    "data": {
        "text/html": "Total execution time: 00:00:00.010"
    },
    "metadata": {}
}, {
    "output_type": "execute_result",
    "metadata": {},
    "execution_count": 34,
    "data": {
        "application/vnd.dataresource+json": {
            "schema": {
                "fields": [
                    {
                        "name": "#"
                    }
                ]
            },
            "data": [
                {
                    "#": "138"
                }
            ]
        },
        "text/html": [
            "<table>",
            "<tr><th>#</th></tr>",
            "<tr><td>138</td></tr>",
            "</table>"
        ]
    }
}
],
            "execution_count": 34
        },
        {
            "cell_type": "code",
            "source": [
                "BEGIN\r\n",
                "    EXEC SP_RETORNA_FORNECEDOR 9720\r\n",
                "END"
            ],
            "metadata": {
                "language": "sql",
                "azdata_cell_guid": "96da89da-25f5-4bf2-a6bd-5aa74761d637"
            },
            "outputs": [
                {
                    "output_type": "display_data",
                    "data": {
                        "text/html": "Commands completed successfully."
                    },
                    "metadata": {}
                },
                {
                    "output_type": "display_data",
                    "data": {
                        "text/html": "Total execution time: 00:00:00.012"
                    },
                    "metadata": {}
                }
            ],
            "execution_count": 31
        },
        {
            "cell_type": "code",
            "source": [
                "DELETE FORNECEDOR"
            ],
            "metadata": {
                "azdata_cell_guid": "0f158aed-69d6-4a34-b672-bbe2c136a359",
                "language": "sql"
            },
            "outputs": [
                {
                    "output_type": "display_data",
                    "data": {
                        "text/html": "Commands completed successfully."
                    },
                    "metadata": {}
                },
                {
                    "output_type": "display_data",
                    "data": {
                        "text/html": "Total execution time: 00:00:00.050"
                    },
                    "metadata": {}
                }
            ],
            "execution_count": 26
        }
    ]
}