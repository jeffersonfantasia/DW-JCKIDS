{
    "metadata": {
        "kernelspec": {
            "name": "SQL",
            "display_name": "SQL",
            "language": "sql"
        },
        "language_info": {
            "name": "sql",
            "version": ""
        }
    },
    "nbformat_minor": 2,
    "nbformat": 4,
    "cells": [
        {
            "cell_type": "markdown",
            "source": [
                "# **TABELA FORNECEDOR**"
            ],
            "metadata": {
                "azdata_cell_guid": "1aa09710-974c-4821-a688-30a814491a3a"
            },
            "attachments": {}
        },
        {
            "cell_type": "code",
            "source": [
                "CREATE OR ALTER PROCEDURE SP_CARREGA_FORNECEDOR \r\n",
                "    @CODFORNEC INT,\r\n",
                "    @FORNECEDOR NVARCHAR(60),\r\n",
                "    @CODFORNECPRINC INT,\r\n",
                "    @CNPJ NVARCHAR(18),\r\n",
                "    @TIPO NVARCHAR(35)\r\n",
                "AS\r\n",
                "BEGIN\r\n",
                "    DECLARE @DTUPDATE DATETIME = DATEADD(hour, -3, GETUTCDATE())\r\n",
                "    SET @FORNECEDOR = CASE WHEN @FORNECEDOR = 'NULL' THEN NULL ELSE TRIM(@FORNECEDOR) END\r\n",
                "    SET @CNPJ = CASE WHEN @CNPJ = 'NULL' THEN NULL ELSE TRIM(@CNPJ) END \r\n",
                "    SET @TIPO = CASE WHEN @TIPO = 'NULL' THEN NULL ELSE TRIM(@TIPO) END \r\n",
                "    \r\n",
                "    IF EXISTS (SELECT 1 FROM FORNECEDOR WHERE CODFORNEC = @CODFORNEC)\r\n",
                "    BEGIN\r\n",
                "        UPDATE FORNECEDOR \r\n",
                "        SET FORNECEDOR = @FORNECEDOR, CODFORNECPRINC = @CODFORNECPRINC, CNPJ = @CNPJ, TIPO = @TIPO, DTUPDATE = @DTUPDATE \r\n",
                "        WHERE CODFORNEC = @CODFORNEC\r\n",
                "    END\r\n",
                "    ELSE\r\n",
                "    BEGIN\r\n",
                "        INSERT INTO FORNECEDOR (CODFORNEC, FORNECEDOR, CODFORNECPRINC, CNPJ, TIPO, DTUPDATE)\r\n",
                "        VALUES (@CODFORNEC, @FORNECEDOR, @CODFORNECPRINC, @CNPJ, @TIPO, @DTUPDATE)\r\n",
                "    END\r\n",
                "END"
            ],
            "metadata": {
                "azdata_cell_guid": "f4f7cfb7-0c2d-4639-8e68-a9b6cdfaeaf5",
                "language": "sql"
            },
            "outputs": [
                {
                    "output_type": "display_data",
                    "data": {
                        "text/html": "Commands completed successfully."
                    },
                    "metadata": {}
                },
                {
                    "output_type": "display_data",
                    "data": {
                        "text/html": "Total execution time: 00:00:00.016"
                    },
                    "metadata": {}
                }
            ],
            "execution_count": 27
        },
        {
            "cell_type": "code",
            "source": [
                "CREATE OR ALTER PROCEDURE SP_RETORNA_FORNECEDOR\r\n",
                "    @CODFORNEC INT\r\n",
                "AS\r\n",
                "BEGIN\r\n",
                "    IF EXISTS (SELECT 1 FROM FORNECEDOR WHERE CODFORNEC = @CODFORNEC)\r\n",
                "    BEGIN\r\n",
                "        SELECT FORMAT(DTUPDATE, 'yyyy-MM-dd HH:mm:ss') DTUPDATE FROM FORNECEDOR WHERE CODFORNEC = @CODFORNEC\r\n",
                "    END\r\n",
                "END"
            ],
            "metadata": {
                "azdata_cell_guid": "c1014fe6-1d97-4212-802c-ee8222e7232a",
                "language": "sql",
                "tags": []
            },
            "outputs": [
                {
                    "output_type": "display_data",
                    "data": {
                        "text/html": "Commands completed successfully."
                    },
                    "metadata": {}
                },
                {
                    "output_type": "display_data",
                    "data": {
                        "text/html": "Total execution time: 00:00:00.015"
                    },
                    "metadata": {}
                }
            ],
            "execution_count": 12
        },
        {
            "cell_type": "code",
            "source": [
                "SELECT * FROM FORNECEDOR"
            ],
            "metadata": {
                "azdata_cell_guid": "7c64c686-e498-4089-84d1-60daea865969",
                "language": "sql"
            },
            "outputs": [
{
    "output_type": "display_data",
    "data": {
        "text/html": "(0 rows affected)"
    },
    "metadata": {}
}, {
    "output_type": "display_data",
    "data": {
        "text/html": "Total execution time: 00:00:00.014"
    },
    "metadata": {}
}, {
    "output_type": "execute_result",
    "metadata": {},
    "execution_count": 28,
    "data": {
        "application/vnd.dataresource+json": {
            "schema": {
                "fields": [
                    {
                        "name": "CodFornec"
                    },
                    {
                        "name": "Fornecedor"
                    },
                    {
                        "name": "CodFornecPrinc"
                    },
                    {
                        "name": "CNPJ"
                    },
                    {
                        "name": "Tipo"
                    },
                    {
                        "name": "DtUpdate"
                    }
                ]
            },
            "data": []
        },
        "text/html": [
            "<table>",
            "<tr><th>CodFornec</th><th>Fornecedor</th><th>CodFornecPrinc</th><th>CNPJ</th><th>Tipo</th><th>DtUpdate</th></tr>",
            "</table>"
        ]
    }
}
],
            "execution_count": 28
        },
        {
            "cell_type": "code",
            "source": [
                "SELECT COUNT(*) # FROM FORNECEDOR"
            ],
            "metadata": {
                "language": "sql",
                "azdata_cell_guid": "ed3fdd37-0cc5-4722-8f31-541c296795d5"
            },
            "outputs": [
                {
                    "output_type": "display_data",
                    "data": {
                        "text/html": "(1 row affected)"
                    },
                    "metadata": {}
                },
                {
                    "output_type": "display_data",
                    "data": {
                        "text/html": "Total execution time: 00:00:00.010"
                    },
                    "metadata": {}
                },
                {
                    "output_type": "execute_result",
                    "metadata": {},
                    "execution_count": 20,
                    "data": {
                        "application/vnd.dataresource+json": {
                            "schema": {
                                "fields": [
                                    {
                                        "name": "#"
                                    }
                                ]
                            },
                            "data": [
                                {
                                    "#": "12"
                                }
                            ]
                        },
                        "text/html": [
                            "<table>",
                            "<tr><th>#</th></tr>",
                            "<tr><td>12</td></tr>",
                            "</table>"
                        ]
                    }
                }
            ],
            "execution_count": 20
        },
        {
            "cell_type": "code",
            "source": [
                "BEGIN\r\n",
                "    EXEC SP_RETORNA_FORNECEDOR 9720\r\n",
                "END"
            ],
            "metadata": {
                "language": "sql",
                "azdata_cell_guid": "96da89da-25f5-4bf2-a6bd-5aa74761d637"
            },
            "outputs": [
                {
                    "output_type": "display_data",
                    "data": {
                        "text/html": "Commands completed successfully."
                    },
                    "metadata": {}
                },
                {
                    "output_type": "display_data",
                    "data": {
                        "text/html": "Total execution time: 00:00:00.008"
                    },
                    "metadata": {}
                }
            ],
            "execution_count": 9
        },
        {
            "cell_type": "code",
            "source": [
                "DELETE FORNECEDOR"
            ],
            "metadata": {
                "azdata_cell_guid": "0f158aed-69d6-4a34-b672-bbe2c136a359",
                "language": "sql"
            },
            "outputs": [
                {
                    "output_type": "display_data",
                    "data": {
                        "text/html": "Commands completed successfully."
                    },
                    "metadata": {}
                },
                {
                    "output_type": "display_data",
                    "data": {
                        "text/html": "Total execution time: 00:00:00.050"
                    },
                    "metadata": {}
                }
            ],
            "execution_count": 26
        }
    ]
}