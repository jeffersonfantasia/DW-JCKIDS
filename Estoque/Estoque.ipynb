{
    "metadata": {
        "kernelspec": {
            "name": "SQL",
            "display_name": "SQL",
            "language": "sql"
        },
        "language_info": {
            "name": "sql",
            "version": ""
        }
    },
    "nbformat_minor": 2,
    "nbformat": 4,
    "cells": [
        {
            "cell_type": "markdown",
            "source": [
                "# **Tabela Estoque**"
            ],
            "metadata": {
                "azdata_cell_guid": "a474a2b2-12d9-4256-8d88-2e218e813508"
            },
            "attachments": {}
        },
        {
            "cell_type": "markdown",
            "source": [
                "Criação das colunas:\n",
                "\n",
                "- Qt. Disponível = Qt. Gerencial - Qt. Bloqueada - Qt. Reservada\n",
                "- Qt. Depósito = Qt. Gerencial - Qt. Frente Loja\n",
                "\n",
                "Tratamento para que produtos que não tenham quantidade bloqueada entrem com codbloqueio e motivo de bloqueio NULOS"
            ],
            "metadata": {
                "language": "sql",
                "azdata_cell_guid": "708891d7-1b02-4c0c-a537-d6e2b8780177"
            },
            "attachments": {}
        },
        {
            "cell_type": "code",
            "source": [
                "CREATE OR ALTER PROCEDURE SP_CARREGA_ESTOQUE\r\n",
                "    @CODFILIAL          NVARCHAR(2),\r\n",
                "    @CODPROD            INT,\r\n",
                "    @QTCONTABIL         NUMERIC(22,8),\r\n",
                "    @QTGERENCIAL        NUMERIC(22,8),\r\n",
                "    @QTBLOQUEADA        NUMERIC(20,6),\r\n",
                "    @QTPENDENTE         NUMERIC(16,3),\r\n",
                "    @QTRESERVADA        NUMERIC(22,6),\r\n",
                "    @QTAVARIADA         NUMERIC(20,6),\r\n",
                "    @QTFRENTELOJA       NUMERIC(22,6),\r\n",
                "    @VALORULTENTRADA    NUMERIC(18,6),\r\n",
                "    @CUSTOREPOSICAO     NUMERIC(18,6),\r\n",
                "    @CUSTOFINANCEIRO    NUMERIC(18,6),\r\n",
                "    @CUSTOCONTABIL      NUMERIC(18,6),\r\n",
                "    @CODBLOQUEIO        INT,\r\n",
                "    @MOTIVOBLOQUEIO     NVARCHAR(30)\r\n",
                "AS\r\n",
                "BEGIN\r\n",
                "    DECLARE @DTUPDATE DATETIME = DATEADD(HOUR, -3, GETUTCDATE())\r\n",
                "    DECLARE @QTDISPONIVEL NUMERIC(22,8) = @QTGERENCIAL - @QTBLOQUEADA - @QTRESERVADA\r\n",
                "    DECLARE @QTDEPOSITO NUMERIC(22,6) = @QTGERENCIAL - @QTFRENTELOJA\r\n",
                "    \r\n",
                "    --TRATANDO OS RETORNOS NULOS\r\n",
                "    SET @MOTIVOBLOQUEIO = \r\n",
                "        CASE WHEN @MOTIVOBLOQUEIO = 'NULL' THEN NULL \r\n",
                "             WHEN @QTBLOQUEADA = 0 THEN NULL\r\n",
                "        ELSE TRIM(UPPER(@MOTIVOBLOQUEIO)) END\r\n",
                "    \r\n",
                "    SET @CODBLOQUEIO = CASE WHEN @QTBLOQUEADA = 0 THEN NULL ELSE @CODBLOQUEIO END\r\n",
                "    \r\n",
                "    --REALIZANDO O MERGE\r\n",
                "    IF EXISTS (SELECT 1 FROM ESTOQUE WHERE CODFILIAL = @CODFILIAL AND CODPROD = @CODPROD)\r\n",
                "    BEGIN\r\n",
                "        UPDATE ESTOQUE\r\n",
                "            SET QTCONTABIL = @QTCONTABIL,\r\n",
                "                QTGERENCIAL = @QTGERENCIAL,\r\n",
                "                QTBLOQUEADA = @QTBLOQUEADA,\r\n",
                "                QTPENDENTE = @QTPENDENTE,\r\n",
                "                QTRESERVADA = @QTRESERVADA,\r\n",
                "                QTAVARIADA = @QTAVARIADA,\r\n",
                "                QTDISPONIVEL = @QTDISPONIVEL,\r\n",
                "                QTFRENTELOJA = @QTFRENTELOJA,\r\n",
                "                QTDEPOSITO = @QTDEPOSITO,\r\n",
                "                VALORULTENTRADA = @VALORULTENTRADA,\r\n",
                "                CUSTOREPOSICAO = @CUSTOREPOSICAO,\r\n",
                "                CUSTOFINANCEIRO = @CUSTOFINANCEIRO,\r\n",
                "                CUSTOCONTABIL = @CUSTOCONTABIL,\r\n",
                "                CODBLOQUEIO = @CODBLOQUEIO,\r\n",
                "                MOTIVOBLOQUEIO = @MOTIVOBLOQUEIO,\r\n",
                "                DTUPDATE = @DTUPDATE\r\n",
                "          WHERE CODFILIAL = @CODFILIAL AND CODPROD = @CODPROD\r\n",
                "    END\r\n",
                "    ELSE \r\n",
                "    BEGIN\r\n",
                "        INSERT INTO ESTOQUE (\r\n",
                "            CODFILIAL,\r\n",
                "            CODPROD,\r\n",
                "            QTCONTABIL,\r\n",
                "            QTGERENCIAL,\r\n",
                "            QTBLOQUEADA,\r\n",
                "            QTPENDENTE,\r\n",
                "            QTRESERVADA,\r\n",
                "            QTAVARIADA,\r\n",
                "            QTDISPONIVEL,\r\n",
                "            QTFRENTELOJA,\r\n",
                "            QTDEPOSITO,\r\n",
                "            VALORULTENTRADA,\r\n",
                "            CUSTOREPOSICAO,\r\n",
                "            CUSTOFINANCEIRO,\r\n",
                "            CUSTOCONTABIL,\r\n",
                "            CODBLOQUEIO,\r\n",
                "            MOTIVOBLOQUEIO,\r\n",
                "            DTUPDATE)\r\n",
                "    VALUES (\r\n",
                "            @CODFILIAL,\r\n",
                "            @CODPROD,\r\n",
                "            @QTCONTABIL,\r\n",
                "            @QTGERENCIAL,\r\n",
                "            @QTBLOQUEADA,\r\n",
                "            @QTPENDENTE,\r\n",
                "            @QTRESERVADA,\r\n",
                "            @QTAVARIADA,\r\n",
                "            @QTDISPONIVEL,\r\n",
                "            @QTFRENTELOJA,\r\n",
                "            @QTDEPOSITO,\r\n",
                "            @VALORULTENTRADA,\r\n",
                "            @CUSTOREPOSICAO,\r\n",
                "            @CUSTOFINANCEIRO,\r\n",
                "            @CUSTOCONTABIL,\r\n",
                "            @CODBLOQUEIO,\r\n",
                "            @MOTIVOBLOQUEIO,\r\n",
                "            @DTUPDATE)                          \r\n",
                "    END\r\n",
                "END"
            ],
            "metadata": {
                "azdata_cell_guid": "7c12100e-4cce-4dcb-89fb-5c33bd392e8d",
                "language": "sql"
            },
            "outputs": [
                {
                    "output_type": "display_data",
                    "data": {
                        "text/html": "Commands completed successfully."
                    },
                    "metadata": {}
                },
                {
                    "output_type": "display_data",
                    "data": {
                        "text/html": "Total execution time: 00:00:00.016"
                    },
                    "metadata": {}
                }
            ],
            "execution_count": 3
        },
        {
            "cell_type": "code",
            "source": [
                "CREATE OR ALTER PROCEDURE SP_RETORNA_ESTOQUE\r\n",
                "    @CODFILIAL NVARCHAR(2),\r\n",
                "    @CODPROD   INT\r\n",
                "AS\r\n",
                "BEGIN    \r\n",
                "    IF EXISTS (SELECT 1 FROM ESTOQUE WHERE CODFILIAL = @CODFILIAL AND CODPROD = @CODPROD)\r\n",
                "\tSELECT FORMAT(DTUPDATE, 'yyyy-MM-dd HH:mm:ss') DTUPDATE FROM ESTOQUE WHERE CODFILIAL = @CODFILIAL AND CODPROD = @CODPROD\r\n",
                "END"
            ],
            "metadata": {
                "azdata_cell_guid": "68acf550-973c-4e29-acaa-f51fec9dd175",
                "language": "sql"
            },
            "outputs": [],
            "execution_count": null
        },
        {
            "cell_type": "code",
            "source": [
                "SELECT * FROM ESTOQUE"
            ],
            "metadata": {
                "language": "sql",
                "azdata_cell_guid": "7b6b78fd-dc07-437a-bbfa-25f8d14d8633"
            },
            "outputs": [],
            "execution_count": 5
        }
    ]
}