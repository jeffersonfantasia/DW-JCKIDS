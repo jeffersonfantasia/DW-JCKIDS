{
    "metadata": {
        "kernelspec": {
            "name": "SQL",
            "display_name": "SQL",
            "language": "sql"
        },
        "language_info": {
            "name": "sql",
            "version": ""
        }
    },
    "nbformat_minor": 2,
    "nbformat": 4,
    "cells": [
        {
            "cell_type": "markdown",
            "source": [
                "# Tabelas a serem criadas para Data Warehouse JC Kids"
            ],
            "metadata": {
                "azdata_cell_guid": "c1c2c9c6-5e4f-4a19-a140-a9536886f09d"
            },
            "attachments": {}
        },
        {
            "cell_type": "code",
            "source": [
                "CREATE OR ALTER PROCEDURE SP_CRIA_TABELAS_DW AS\r\n",
                "BEGIN\r\n",
                "    ----TABELA FILIAL\r\n",
                "    IF NOT EXISTS (SELECT 1\tFROM INFORMATION_SCHEMA.TABLES\tWHERE TABLE_NAME = 'FILIAL')\r\n",
                "    BEGIN\r\n",
                "        CREATE TABLE [dbo].[Filial] (\r\n",
                "            [CodFilial]  CHAR (3)      NOT NULL,\r\n",
                "            [Empresa]    NVARCHAR (150) NULL,\r\n",
                "            [Filial]     NVARCHAR (50)  NULL,\r\n",
                "            [Ordem]      SMALLINT       NOT NULL,\r\n",
                "            CONSTRAINT [PK_Filial] PRIMARY KEY CLUSTERED ([CodFilial] ASC)\r\n",
                "        );\r\n",
                "\r\n",
                "        CREATE NONCLUSTERED INDEX [Index_Filial_2]\r\n",
                "            ON [dbo].[Filial]([Empresa] ASC);\r\n",
                "\r\n",
                "\r\n",
                "        CREATE NONCLUSTERED INDEX [Index_Filial_1]\r\n",
                "            ON [dbo].[Filial]([CodFilial] ASC);\r\n",
                "\r\n",
                "\r\n",
                "        CREATE NONCLUSTERED INDEX [Index_Filial_5]\r\n",
                "            ON [dbo].[Filial]([CodFilial] ASC, [Empresa] ASC, [Filial] ASC);\r\n",
                "\r\n",
                "\r\n",
                "        CREATE NONCLUSTERED INDEX [Index_Filial_4]\r\n",
                "            ON [dbo].[Filial]([Ordem] ASC);\r\n",
                "\r\n",
                "\r\n",
                "        CREATE NONCLUSTERED INDEX [Index_Filial_3]\r\n",
                "            ON [dbo].[Filial]([Filial] ASC)\r\n",
                "    END\r\n",
                "\r\n",
                "    ----TABELA MARCA\r\n",
                "    IF NOT EXISTS (SELECT 1 FROM INFORMATION_SCHEMA.TABLES WHERE TABLE_NAME = 'MARCA')\r\n",
                "    BEGIN\r\n",
                "        CREATE TABLE [dbo].[Marca] (\r\n",
                "            [CodMarca] SMALLINT      NOT NULL,\r\n",
                "            [Marca]    NVARCHAR (40) NOT NULL,\r\n",
                "            [Ativo]    CHAR (1)      NOT NULL,\r\n",
                "            [DtAtualizacao] DATETIME      NULL,\r\n",
                "            CONSTRAINT [PK_Marca] PRIMARY KEY CLUSTERED ([CodMarca] ASC, [Marca] ASC, [Ativo] ASC)\r\n",
                "        );\r\n",
                "\r\n",
                "        CREATE UNIQUE NONCLUSTERED INDEX [Index_Marca_1]\r\n",
                "            ON [dbo].[Marca]([CodMarca] ASC);\r\n",
                "\r\n",
                "        CREATE NONCLUSTERED INDEX [Index_Marca_2]\r\n",
                "            ON [dbo].[Marca]([Marca] ASC);\r\n",
                "\r\n",
                "        CREATE NONCLUSTERED INDEX [Index_Marca_3]\r\n",
                "            ON [dbo].[Marca]([Ativo] ASC);\r\n",
                "\r\n",
                "        CREATE UNIQUE NONCLUSTERED INDEX [Index_Marca_4]\r\n",
                "            ON [dbo].[Marca]([CodMarca] ASC, [Ativo] ASC);\r\n",
                "\r\n",
                "        CREATE NONCLUSTERED INDEX [Index_Marca_5]\r\n",
                "            ON [dbo].[Marca]([Marca] ASC, [Ativo] ASC);\r\n",
                "        \r\n",
                "        CREATE NONCLUSTERED INDEX [Index_Marca_6]\r\n",
                "            ON [dbo].[Marca]([DtAtualizacao] ASC);\r\n",
                "    END\r\n",
                "END"
            ],
            "metadata": {
                "azdata_cell_guid": "2219dca1-b1e8-474f-82df-14b1ef5bcda9",
                "language": "sql",
                "tags": []
            },
            "outputs": [
                {
                    "output_type": "display_data",
                    "data": {
                        "text/html": "Commands completed successfully."
                    },
                    "metadata": {}
                },
                {
                    "output_type": "display_data",
                    "data": {
                        "text/html": "Total execution time: 00:00:00.019"
                    },
                    "metadata": {}
                }
            ],
            "execution_count": 2
        },
        {
            "cell_type": "code",
            "source": [
                "BEGIN\r\n",
                "    EXEC SP_CRIA_TABELAS_DW\r\n",
                "END"
            ],
            "metadata": {
                "language": "sql",
                "azdata_cell_guid": "030b2ad7-34a6-407d-8a5e-26c4e72a8352"
            },
            "outputs": [
{
    "output_type": "display_data",
    "data": {
        "text/html": "Commands completed successfully."
    },
    "metadata": {}
}, {
    "output_type": "display_data",
    "data": {
        "text/html": "Total execution time: 00:00:00.023"
    },
    "metadata": {}
}
],
            "execution_count": 3
        }
    ]
}