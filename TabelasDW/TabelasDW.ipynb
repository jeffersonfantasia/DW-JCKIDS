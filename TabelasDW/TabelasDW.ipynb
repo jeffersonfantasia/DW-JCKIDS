{
    "metadata": {
        "kernelspec": {
            "name": "SQL",
            "display_name": "SQL",
            "language": "sql"
        },
        "language_info": {
            "name": "sql",
            "version": ""
        }
    },
    "nbformat_minor": 2,
    "nbformat": 4,
    "cells": [
        {
            "cell_type": "markdown",
            "source": [
                "# Tabelas a serem criadas para Data Warehouse JC Kids"
            ],
            "metadata": {
                "azdata_cell_guid": "c1c2c9c6-5e4f-4a19-a140-a9536886f09d"
            },
            "attachments": {}
        },
        {
            "cell_type": "code",
            "source": [
                "CREATE OR ALTER PROCEDURE SP_CRIA_TABELAS_DW AS\r\n",
                "BEGIN\r\n",
                "    ----TABELA FILIAL\r\n",
                "    IF NOT EXISTS (SELECT 1\tFROM INFORMATION_SCHEMA.TABLES\tWHERE TABLE_NAME = 'FILIAL')\r\n",
                "    BEGIN\r\n",
                "        CREATE TABLE [dbo].[Filial] (\r\n",
                "            [CodFilial]  CHAR (3)       NOT NULL,\r\n",
                "            [Empresa]    NVARCHAR (150) NULL,\r\n",
                "            [Filial]     NVARCHAR (50)  NULL,\r\n",
                "            [Ordem]      SMALLINT       NOT NULL,\r\n",
                "            [DtUpdate]   DATETIME       NULL,\r\n",
                "            CONSTRAINT [PK_Filial] PRIMARY KEY CLUSTERED ([CodFilial] ASC)\r\n",
                "        );\r\n",
                "\r\n",
                "        CREATE NONCLUSTERED INDEX [Index_Filial_2]\r\n",
                "            ON [dbo].[Filial]([Empresa] ASC);\r\n",
                "\r\n",
                "\r\n",
                "        CREATE NONCLUSTERED INDEX [Index_Filial_1]\r\n",
                "            ON [dbo].[Filial]([CodFilial] ASC);\r\n",
                "\r\n",
                "\r\n",
                "        CREATE NONCLUSTERED INDEX [Index_Filial_5]\r\n",
                "            ON [dbo].[Filial]([CodFilial] ASC, [Empresa] ASC, [Filial] ASC);\r\n",
                "\r\n",
                "\r\n",
                "        CREATE NONCLUSTERED INDEX [Index_Filial_4]\r\n",
                "            ON [dbo].[Filial]([Ordem] ASC);\r\n",
                "\r\n",
                "\r\n",
                "        CREATE NONCLUSTERED INDEX [Index_Filial_3]\r\n",
                "            ON [dbo].[Filial]([Filial] ASC)\r\n",
                "\r\n",
                "        CREATE NONCLUSTERED INDEX [Index_Filial_6]\r\n",
                "            ON [dbo].[Filial]([DtUpdate] ASC);\r\n",
                "    END\r\n",
                "\r\n",
                "    ----TABELA MARCA\r\n",
                "    IF NOT EXISTS (SELECT 1 FROM INFORMATION_SCHEMA.TABLES WHERE TABLE_NAME = 'MARCA')\r\n",
                "    BEGIN\r\n",
                "        CREATE TABLE [dbo].[Marca] (\r\n",
                "            [CodMarca] SMALLINT      NOT NULL,\r\n",
                "            [Marca]    NVARCHAR (40) NOT NULL,\r\n",
                "            [Ativo]    CHAR (1)      NOT NULL,\r\n",
                "            [DtUpdate] DATETIME      NULL,\r\n",
                "            CONSTRAINT [PK_Marca] PRIMARY KEY CLUSTERED ([CodMarca] ASC, [Marca] ASC, [Ativo] ASC)\r\n",
                "        );\r\n",
                "\r\n",
                "        CREATE UNIQUE NONCLUSTERED INDEX [Index_Marca_1]\r\n",
                "            ON [dbo].[Marca]([CodMarca] ASC);\r\n",
                "\r\n",
                "        CREATE NONCLUSTERED INDEX [Index_Marca_2]\r\n",
                "            ON [dbo].[Marca]([Marca] ASC);\r\n",
                "\r\n",
                "        CREATE NONCLUSTERED INDEX [Index_Marca_3]\r\n",
                "            ON [dbo].[Marca]([Ativo] ASC);\r\n",
                "\r\n",
                "        CREATE UNIQUE NONCLUSTERED INDEX [Index_Marca_4]\r\n",
                "            ON [dbo].[Marca]([CodMarca] ASC, [Ativo] ASC);\r\n",
                "\r\n",
                "        CREATE NONCLUSTERED INDEX [Index_Marca_5]\r\n",
                "            ON [dbo].[Marca]([Marca] ASC, [Ativo] ASC);\r\n",
                "        \r\n",
                "        CREATE NONCLUSTERED INDEX [Index_Marca_6]\r\n",
                "            ON [dbo].[Marca]([DtUpdate] ASC);\r\n",
                "    END\r\n",
                "\r\n",
                "    ----TABELA PRODUTO\r\n",
                "    IF NOT EXISTS (SELECT 1 FROM INFORMATION_SCHEMA.TABLES WHERE TABLE_NAME = 'PRODUTO')\r\n",
                "    BEGIN\r\n",
                "        CREATE TABLE [dbo].[Produto] (\r\n",
                "        [CodProd]         INT             NOT NULL,\r\n",
                "        [Produto]         NVARCHAR (40)   NOT NULL,\r\n",
                "        [CodDepto]        INT             NULL,\r\n",
                "        [Departamento]    NVARCHAR (40)   NULL,\r\n",
                "        [CodSecao]        INT             NULL,\r\n",
                "        [Secao]           NVARCHAR (40)   NULL,\r\n",
                "        [CodCategoria]    INT             NULL,\r\n",
                "        [Categoria]       NVARCHAR (40)   NOT NULL,\r\n",
                "        [CodLinha]        INT             NULL,\r\n",
                "        [Linha]           NVARCHAR (40)   NULL,\r\n",
                "        [CodFornec]       INT             NULL,\r\n",
                "        [CodMarca]        INT             NULL,\r\n",
                "        [CodFabrica]      NVARCHAR (30)   NULL,\r\n",
                "        [CodBarras]       NVARCHAR (15)   NOT NULL,\r\n",
                "        [CodBarrasMaster] NVARCHAR (15)   NULL,\r\n",
                "        [Peso]            NUMERIC (12, 6) NULL,\r\n",
                "        [Largura]         NUMERIC (10, 6) NULL,\r\n",
                "        [Altura]          NUMERIC (10, 6) NULL,\r\n",
                "        [Comprimento]     NUMERIC (10, 6) NULL,\r\n",
                "        [Volume]          NUMERIC (20, 8) NULL,\r\n",
                "        [QtCxMaster]      NUMERIC (8, 2)  NULL,\r\n",
                "        [Importado]       CHAR (1)        NULL,\r\n",
                "        [Revenda]         CHAR (1)        NULL,\r\n",
                "        [NCM]             NVARCHAR (15)   NULL,\r\n",
                "        [NCMEX]           NVARCHAR (20)   NULL,\r\n",
                "        [TipoMercadoria]  NVARCHAR (30)   NULL,\r\n",
                "        [ForaLinha]       CHAR (1)        NULL,\r\n",
                "        [Certificacao]    NVARCHAR (200)  NULL,\r\n",
                "        [DtExclusao]      DATETIME            NULL,\r\n",
                "        [DtUpdate]        DATETIME        NULL,\r\n",
                "        CONSTRAINT [PK_Produto] PRIMARY KEY CLUSTERED ([CodProd] ASC)\r\n",
                "    );\r\n",
                "\r\n",
                "    CREATE NONCLUSTERED INDEX [Index_Produto_5]\r\n",
                "        ON [dbo].[Produto]([CodCategoria] ASC);\r\n",
                "\r\n",
                "    CREATE NONCLUSTERED INDEX [Index_Produto_18]\r\n",
                "        ON [dbo].[Produto]([Produto] ASC);\r\n",
                "\r\n",
                "    CREATE NONCLUSTERED INDEX [Index_Produto_19]\r\n",
                "        ON [dbo].[Produto]([Secao] ASC);\r\n",
                "\r\n",
                "    CREATE NONCLUSTERED INDEX [Index_Produto_17]\r\n",
                "        ON [dbo].[Produto]([NCMEX] ASC);\r\n",
                "\r\n",
                "    CREATE NONCLUSTERED INDEX [Index_Produto_8]\r\n",
                "        ON [dbo].[Produto]([CodFornec] ASC);\r\n",
                "\r\n",
                "    CREATE NONCLUSTERED INDEX [Index_Produto_7]\r\n",
                "        ON [dbo].[Produto]([CodFabrica] ASC);\r\n",
                "\r\n",
                "    CREATE NONCLUSTERED INDEX [Index_Produto_4]\r\n",
                "        ON [dbo].[Produto]([CodBarrasMaster] ASC);\r\n",
                "\r\n",
                "    CREATE NONCLUSTERED INDEX [Index_Produto_6]\r\n",
                "        ON [dbo].[Produto]([CodDepto] ASC);\r\n",
                "\r\n",
                "    CREATE NONCLUSTERED INDEX [Index_Produto_12]\r\n",
                "        ON [dbo].[Produto]([DtUpdate] ASC);\r\n",
                "\r\n",
                "    CREATE NONCLUSTERED INDEX [Index_Produto_2]\r\n",
                "        ON [dbo].[Produto]([Categoria] ASC);\r\n",
                "\r\n",
                "    CREATE NONCLUSTERED INDEX [Index_Produto_20]\r\n",
                "        ON [dbo].[Produto]([TipoMercadoria] ASC);\r\n",
                "\r\n",
                "    CREATE NONCLUSTERED INDEX [Index_Produto_10]\r\n",
                "        ON [dbo].[Produto]([Departamento] ASC);\r\n",
                "\r\n",
                "    CREATE NONCLUSTERED INDEX [Index_Produto_13]\r\n",
                "        ON [dbo].[Produto]([ForaLinha] ASC);\r\n",
                "\r\n",
                "    CREATE NONCLUSTERED INDEX [Index_Produto_11]\r\n",
                "        ON [dbo].[Produto]([CodSecao] ASC);\r\n",
                "\r\n",
                "    CREATE NONCLUSTERED INDEX [Index_Produto_3]\r\n",
                "        ON [dbo].[Produto]([CodBarras] ASC);\r\n",
                "\r\n",
                "    CREATE NONCLUSTERED INDEX [Index_Produto_1]\r\n",
                "        ON [dbo].[Produto]([CodProd] ASC);\r\n",
                "\r\n",
                "    CREATE NONCLUSTERED INDEX [Index_Produto_9]\r\n",
                "        ON [dbo].[Produto]([CodLinha] ASC);\r\n",
                "\r\n",
                "    CREATE NONCLUSTERED INDEX [Index_Produto_15]\r\n",
                "        ON [dbo].[Produto]([Linha] ASC);\r\n",
                "\r\n",
                "    CREATE NONCLUSTERED INDEX [Index_Produto_16]\r\n",
                "        ON [dbo].[Produto]([NCM] ASC);\r\n",
                "\r\n",
                "    CREATE NONCLUSTERED INDEX [Index_Produto_14]\r\n",
                "        ON [dbo].[Produto]([Importado] ASC);\r\n",
                "\r\n",
                "    END\r\n",
                "END"
            ],
            "metadata": {
                "azdata_cell_guid": "2219dca1-b1e8-474f-82df-14b1ef5bcda9",
                "language": "sql",
                "tags": []
            },
            "outputs": [
                {
                    "output_type": "display_data",
                    "data": {
                        "text/html": "Commands completed successfully."
                    },
                    "metadata": {}
                },
                {
                    "output_type": "display_data",
                    "data": {
                        "text/html": "Total execution time: 00:00:00.026"
                    },
                    "metadata": {}
                }
            ],
            "execution_count": 2
        },
        {
            "cell_type": "code",
            "source": [
                "BEGIN\r\n",
                "    EXEC SP_CRIA_TABELAS_DW\r\n",
                "END"
            ],
            "metadata": {
                "language": "sql",
                "azdata_cell_guid": "030b2ad7-34a6-407d-8a5e-26c4e72a8352"
            },
            "outputs": [
{
    "output_type": "display_data",
    "data": {
        "text/html": "Commands completed successfully."
    },
    "metadata": {}
}, {
    "output_type": "display_data",
    "data": {
        "text/html": "Total execution time: 00:00:00.176"
    },
    "metadata": {}
}
],
            "execution_count": 3
        },
        {
            "cell_type": "code",
            "source": [
                "DROP TABLE PRODUTO"
            ],
            "metadata": {
                "language": "sql",
                "azdata_cell_guid": "6c9aac38-5e61-424a-804b-652cdb114a8d"
            },
            "outputs": [
                {
                    "output_type": "display_data",
                    "data": {
                        "text/html": "Commands completed successfully."
                    },
                    "metadata": {}
                },
                {
                    "output_type": "display_data",
                    "data": {
                        "text/html": "Total execution time: 00:00:00.044"
                    },
                    "metadata": {}
                }
            ],
            "execution_count": 1
        }
    ]
}