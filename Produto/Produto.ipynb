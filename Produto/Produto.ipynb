{
    "metadata": {
        "kernelspec": {
            "name": "SQL",
            "display_name": "SQL",
            "language": "sql"
        },
        "language_info": {
            "name": "sql",
            "version": ""
        }
    },
    "nbformat_minor": 2,
    "nbformat": 4,
    "cells": [
        {
            "cell_type": "markdown",
            "source": [
                "# **TABELA PRODUTO**"
            ],
            "metadata": {
                "azdata_cell_guid": "112fd326-0da3-429a-b3b1-a72d7d6cfa66"
            },
            "attachments": {}
        },
        {
            "cell_type": "markdown",
            "source": [
                "Carregas informações para tabela produto"
            ],
            "metadata": {
                "language": "",
                "azdata_cell_guid": "2941c4c4-e39c-4521-b55b-1745c4318989"
            },
            "attachments": {}
        },
        {
            "cell_type": "code",
            "source": [
                "CREATE OR ALTER PROCEDURE SP_CARREGA_PRODUTO\r\n",
                "    @CODPROD INT,\r\n",
                "    @PRODUTO NVARCHAR (40),\r\n",
                "    @CODDEPTO INT,\r\n",
                "    @DEPARTAMENTO NVARCHAR (40),\r\n",
                "    @CODSECAO INT,\r\n",
                "    @SECAO NVARCHAR (40),\r\n",
                "    @CODCATEGORIA INT,\r\n",
                "    @CATEGORIA NVARCHAR (40),\r\n",
                "    @CODLINHA INT,\r\n",
                "    @LINHA NVARCHAR (40),\r\n",
                "    @CODFORNEC INT,\r\n",
                "    @CODMARCA INT,\r\n",
                "    @CODFABRICA NVARCHAR (30),\r\n",
                "    @CODBARRAS INT,\r\n",
                "    @CODBARRASMASTER INT,\r\n",
                "    @PESO NUMERIC (12, 6),\r\n",
                "    @LARGURA NUMERIC (10, 6),\r\n",
                "    @ALTURA NUMERIC (10, 6),\r\n",
                "    @COMPRIMENTO NUMERIC (10, 6),\r\n",
                "    @VOLUME NUMERIC (20, 8),\r\n",
                "    @QTCXMASTER NUMERIC (8, 2),\r\n",
                "    @IMPORTADO CHAR (1),\r\n",
                "    @REVENDA CHAR (1),\r\n",
                "    @NCM NVARCHAR (15),\r\n",
                "    @NCMEX NVARCHAR (20),\r\n",
                "    @TIPOMERCADORIA NVARCHAR (15),\r\n",
                "    @FORALINHA CHAR (1),\r\n",
                "    @CERTIFICACAO NVARCHAR (200),\r\n",
                "    @DTEXCLUSAO DATETIME\r\n",
                "AS\r\n",
                "BEGIN\r\n",
                "    DECLARE @DTUPDATE DATETIME = DATEADD(HOUR, -3, GETUTCDATE())\r\n",
                "\r\n",
                "    IF EXISTS (SELECT 1 FROM PRODUTO WHERE CODPROD = @CODPROD)\r\n",
                "    BEGIN\r\n",
                "        UPDATE PRODUTO\r\n",
                "        SET PRODUTO = @PRODUTO,\r\n",
                "            CODDEPTO = @CODDEPTO,\r\n",
                "            DEPARTAMENTO = @DEPARTAMENTO,\r\n",
                "            CODSECAO = @CODSECAO,\r\n",
                "            SECAO = @SECAO,\r\n",
                "            CODCATEGORIA = @CODCATEGORIA,\r\n",
                "            CATEGORIA = @CATEGORIA,\r\n",
                "            CODLINHA = @CODLINHA,\r\n",
                "            LINHA = @LINHA,\r\n",
                "            CODFORNEC = @CODFORNEC,\r\n",
                "            CODMARCA = @CODMARCA,\r\n",
                "            CODFABRICA = @CODFABRICA,\r\n",
                "            CODBARRAS = @CODBARRAS,\r\n",
                "            CODBARRASMASTER = @CODBARRASMASTER,\r\n",
                "            PESO = @PESO,\r\n",
                "            LARGURA = @LARGURA,\r\n",
                "            ALTURA = @ALTURA,\r\n",
                "            COMPRIMENTO = @COMPRIMENTO,\r\n",
                "            VOLUME = @VOLUME,\r\n",
                "            QTCXMASTER = @QTCXMASTER,\r\n",
                "            IMPORTADO = @IMPORTADO,\r\n",
                "            REVENDA = @REVENDA,\r\n",
                "            NCM = @NCM,\r\n",
                "            NCMEX = @NCMEX,\r\n",
                "            TIPOMERCADORIA = @TIPOMERCADORIA,\r\n",
                "            FORALINHA = @FORALINHA,\r\n",
                "            CERTIFICACAO = @CERTIFICACAO,\r\n",
                "            DTEXCLUSAO = @DTEXCLUSAO,\r\n",
                "            DTUPDATE = @DTUPDATE\r\n",
                "        WHERE CODPROD = @CODPROD\r\n",
                "    END\r\n",
                "    ELSE \r\n",
                "    BEGIN\r\n",
                "        INSERT INTO PRODUTO (\r\n",
                "                    CODPROD,\r\n",
                "                    PRODUTO,\r\n",
                "                    CODDEPTO,\r\n",
                "                    DEPARTAMENTO,\r\n",
                "                    CODSECAO,\r\n",
                "                    SECAO,\r\n",
                "                    CODCATEGORIA,\r\n",
                "                    CATEGORIA,\r\n",
                "                    CODLINHA,\r\n",
                "                    LINHA,\r\n",
                "                    CODFORNEC,\r\n",
                "                    CODMARCA,\r\n",
                "                    CODFABRICA,\r\n",
                "                    CODBARRAS,\r\n",
                "                    CODBARRASMASTER,\r\n",
                "                    PESO,\r\n",
                "                    LARGURA,\r\n",
                "                    ALTURA,\r\n",
                "                    COMPRIMENTO,\r\n",
                "                    VOLUME,\r\n",
                "                    QTCXMASTER,\r\n",
                "                    IMPORTADO,\r\n",
                "                    REVENDA,\r\n",
                "                    NCM,\r\n",
                "                    NCMEX,\r\n",
                "                    TIPOMERCADORIA,\r\n",
                "                    FORALINHA,\r\n",
                "                    CERTIFICACAO,\r\n",
                "                    DTEXCLUSAO,\r\n",
                "                    DTUPDATE)\r\n",
                "            VALUES (\r\n",
                "                    @CODPROD,\r\n",
                "                    @PRODUTO,\r\n",
                "                    @CODDEPTO,\r\n",
                "                    @DEPARTAMENTO,\r\n",
                "                    @CODSECAO,\r\n",
                "                    @SECAO,\r\n",
                "                    @CODCATEGORIA,\r\n",
                "                    @CATEGORIA,\r\n",
                "                    @CODLINHA,\r\n",
                "                    @LINHA,\r\n",
                "                    @CODFORNEC,\r\n",
                "                    @CODMARCA,\r\n",
                "                    @CODFABRICA,\r\n",
                "                    @CODBARRAS,\r\n",
                "                    @CODBARRASMASTER,\r\n",
                "                    @PESO,\r\n",
                "                    @LARGURA,\r\n",
                "                    @ALTURA,\r\n",
                "                    @COMPRIMENTO,\r\n",
                "                    @VOLUME,\r\n",
                "                    @QTCXMASTER,\r\n",
                "                    @IMPORTADO,\r\n",
                "                    @REVENDA,\r\n",
                "                    @NCM,\r\n",
                "                    @NCMEX,\r\n",
                "                    @TIPOMERCADORIA,\r\n",
                "                    @FORALINHA,\r\n",
                "                    @CERTIFICACAO,\r\n",
                "                    @DTEXCLUSAO,\r\n",
                "                    @DTUPDATE)\r\n",
                "    END\r\n",
                "END"
            ],
            "metadata": {
                "azdata_cell_guid": "1da8de0f-a1c2-421e-982a-d91bf9d1cc69",
                "language": "sql",
                "tags": []
            },
            "outputs": [
                {
                    "output_type": "display_data",
                    "data": {
                        "text/html": "Commands completed successfully."
                    },
                    "metadata": {}
                },
                {
                    "output_type": "display_data",
                    "data": {
                        "text/html": "Total execution time: 00:00:00.153"
                    },
                    "metadata": {}
                }
            ],
            "execution_count": 2
        },
        {
            "cell_type": "markdown",
            "source": [
                "Verificar tabela produto"
            ],
            "metadata": {
                "language": "sql",
                "azdata_cell_guid": "92aa541a-dc75-4587-8df4-e8cae77a2c9a"
            },
            "attachments": {}
        },
        {
            "cell_type": "code",
            "source": [
                "SELECT * FROM PRODUTO;"
            ],
            "metadata": {
                "azdata_cell_guid": "93d4ea02-90e4-4f61-a96b-8120e20d181d",
                "language": "sql"
            },
            "outputs": [
                {
                    "output_type": "display_data",
                    "data": {
                        "text/html": "(0 rows affected)"
                    },
                    "metadata": {}
                },
                {
                    "output_type": "display_data",
                    "data": {
                        "text/html": "Total execution time: 00:00:00.018"
                    },
                    "metadata": {}
                },
                {
                    "output_type": "execute_result",
                    "metadata": {},
                    "execution_count": 3,
                    "data": {
                        "application/vnd.dataresource+json": {
                            "schema": {
                                "fields": [
                                    {
                                        "name": "CodProd"
                                    },
                                    {
                                        "name": "Produto"
                                    },
                                    {
                                        "name": "CodDepto"
                                    },
                                    {
                                        "name": "Departamento"
                                    },
                                    {
                                        "name": "CodSecao"
                                    },
                                    {
                                        "name": "Secao"
                                    },
                                    {
                                        "name": "CodCategoria"
                                    },
                                    {
                                        "name": "Categoria"
                                    },
                                    {
                                        "name": "CodLinha"
                                    },
                                    {
                                        "name": "Linha"
                                    },
                                    {
                                        "name": "CodFornec"
                                    },
                                    {
                                        "name": "CodMarca"
                                    },
                                    {
                                        "name": "CodFabrica"
                                    },
                                    {
                                        "name": "CodBarras"
                                    },
                                    {
                                        "name": "CodBarrasMaster"
                                    },
                                    {
                                        "name": "Peso"
                                    },
                                    {
                                        "name": "Largura"
                                    },
                                    {
                                        "name": "Altura"
                                    },
                                    {
                                        "name": "Comprimento"
                                    },
                                    {
                                        "name": "Volume"
                                    },
                                    {
                                        "name": "QtCxMaster"
                                    },
                                    {
                                        "name": "Importado"
                                    },
                                    {
                                        "name": "Revenda"
                                    },
                                    {
                                        "name": "NCM"
                                    },
                                    {
                                        "name": "NCMEX"
                                    },
                                    {
                                        "name": "TipoMercadoria"
                                    },
                                    {
                                        "name": "ForaLinha"
                                    },
                                    {
                                        "name": "Certificacao"
                                    },
                                    {
                                        "name": "DtExclusao"
                                    },
                                    {
                                        "name": "DtUpdate"
                                    }
                                ]
                            },
                            "data": []
                        },
                        "text/html": [
                            "<table>",
                            "<tr><th>CodProd</th><th>Produto</th><th>CodDepto</th><th>Departamento</th><th>CodSecao</th><th>Secao</th><th>CodCategoria</th><th>Categoria</th><th>CodLinha</th><th>Linha</th><th>CodFornec</th><th>CodMarca</th><th>CodFabrica</th><th>CodBarras</th><th>CodBarrasMaster</th><th>Peso</th><th>Largura</th><th>Altura</th><th>Comprimento</th><th>Volume</th><th>QtCxMaster</th><th>Importado</th><th>Revenda</th><th>NCM</th><th>NCMEX</th><th>TipoMercadoria</th><th>ForaLinha</th><th>Certificacao</th><th>DtExclusao</th><th>DtUpdate</th></tr>",
                            "</table>"
                        ]
                    }
                }
            ],
            "execution_count": 3
        },
        {
            "cell_type": "code",
            "source": [
                "SELECT CODPROD, FORMAT(DTUPDATE, 'yyyy-MM-dd HH:mm:ss') DTUPDATE FROM PRODUTO WHERE CODPROD = 162887"
            ],
            "metadata": {
                "language": "sql",
                "azdata_cell_guid": "7983ab0b-86ae-42a4-bb34-2fb2c76e368e"
            },
            "outputs": [
                {
                    "output_type": "display_data",
                    "data": {
                        "text/html": "(0 rows affected)"
                    },
                    "metadata": {}
                },
                {
                    "output_type": "display_data",
                    "data": {
                        "text/html": "Total execution time: 00:00:00.016"
                    },
                    "metadata": {}
                },
                {
                    "output_type": "execute_result",
                    "metadata": {},
                    "execution_count": 4,
                    "data": {
                        "application/vnd.dataresource+json": {
                            "schema": {
                                "fields": [
                                    {
                                        "name": "CODPROD"
                                    },
                                    {
                                        "name": "DTUPDATE"
                                    }
                                ]
                            },
                            "data": []
                        },
                        "text/html": [
                            "<table>",
                            "<tr><th>CODPROD</th><th>DTUPDATE</th></tr>",
                            "</table>"
                        ]
                    }
                }
            ],
            "execution_count": 4
        },
        {
            "cell_type": "code",
            "source": [
                "CREATE OR ALTER PROCEDURE SP_RETORNA_PRODUTO\r\n",
                "    @CODPROD INT\r\n",
                "AS\r\n",
                "BEGIN    \r\n",
                "\r\n",
                "    IF EXISTS (SELECT 1 FROM PRODUTO WHERE CODPROD = @CODPROD)\r\n",
                "\tSELECT FORMAT(DTUPDATE, 'yyyy-MM-dd HH:mm:ss') DTUPDATE FROM PRODUTO WHERE CODPROD = @CODPROD\r\n",
                "END"
            ],
            "metadata": {
                "language": "",
                "azdata_cell_guid": "19495267-3e91-489f-8426-0fbfabb89836"
            },
            "outputs": [
{
    "output_type": "display_data",
    "data": {
        "text/html": "Commands completed successfully."
    },
    "metadata": {}
}, {
    "output_type": "display_data",
    "data": {
        "text/html": "Total execution time: 00:00:00.025"
    },
    "metadata": {}
}
],
            "execution_count": 5
        }
    ]
}