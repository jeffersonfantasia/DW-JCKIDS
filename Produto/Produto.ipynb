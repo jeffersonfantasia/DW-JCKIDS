{
    "metadata": {
        "kernelspec": {
            "name": "SQL",
            "display_name": "SQL",
            "language": "sql"
        },
        "language_info": {
            "name": "sql",
            "version": ""
        }
    },
    "nbformat_minor": 2,
    "nbformat": 4,
    "cells": [
        {
            "cell_type": "markdown",
            "source": [
                "# **TABELA PRODUTO**"
            ],
            "metadata": {
                "azdata_cell_guid": "112fd326-0da3-429a-b3b1-a72d7d6cfa66"
            },
            "attachments": {}
        },
        {
            "cell_type": "markdown",
            "source": [
                "Carregas informações para tabela produto"
            ],
            "metadata": {
                "language": "",
                "azdata_cell_guid": "2941c4c4-e39c-4521-b55b-1745c4318989"
            },
            "attachments": {}
        },
        {
            "cell_type": "code",
            "source": [
                "CREATE OR ALTER PROCEDURE SP_CARREGA_PRODUTO\r\n",
                "    @CODPROD INT,\r\n",
                "    @PRODUTO NVARCHAR (40),\r\n",
                "    @CODDEPTO INT,\r\n",
                "    @DEPARTAMENTO NVARCHAR (40),\r\n",
                "    @CODSECAO INT,\r\n",
                "    @SECAO NVARCHAR (40),\r\n",
                "    @CODCATEGORIA INT,\r\n",
                "    @CATEGORIA NVARCHAR (40),\r\n",
                "    @CODLINHA INT,\r\n",
                "    @LINHA NVARCHAR (40),\r\n",
                "    @CODFORNEC INT,\r\n",
                "    @CODMARCA INT,\r\n",
                "    @CODFABRICA NVARCHAR (30),\r\n",
                "    @CODBARRAS NVARCHAR (30),\r\n",
                "    @CODBARRASMASTER NVARCHAR (30),\r\n",
                "    @PESO NUMERIC (12, 6),\r\n",
                "    @LARGURA NUMERIC (10, 6),\r\n",
                "    @ALTURA NUMERIC (10, 6),\r\n",
                "    @COMPRIMENTO NUMERIC (10, 6),\r\n",
                "    @VOLUME NUMERIC (20, 8),\r\n",
                "    @QTCXMASTER NUMERIC (8, 2),\r\n",
                "    @IMPORTADO CHAR (1),\r\n",
                "    @REVENDA CHAR (1),\r\n",
                "    @NCM NVARCHAR (15),\r\n",
                "    @NCMEX NVARCHAR (20),\r\n",
                "    @TIPOMERCADORIA NVARCHAR (15),\r\n",
                "    @FORALINHA CHAR (1),\r\n",
                "    @CERTIFICACAO NVARCHAR (200),\r\n",
                "    @DTEXCLUSAO NVARCHAR(30)\r\n",
                "AS\r\n",
                "BEGIN\r\n",
                "    DECLARE @DTUPDATE DATETIME = DATEADD(HOUR, -3, GETUTCDATE())\r\n",
                "    \r\n",
                "    --CONVERTER DE METROS PARA CENTIMETROS\r\n",
                "    SET @LARGURA = @LARGURA * 100\r\n",
                "    SET @ALTURA = @ALTURA * 100\r\n",
                "    SET @COMPRIMENTO = @COMPRIMENTO * 100\r\n",
                "\r\n",
                "    --TRATANDO ESPACOS VAZIOS NAS STRING\r\n",
                "    SET @PRODUTO = TRIM(@PRODUTO)\r\n",
                "    SET @CODBARRAS= TRIM(@CODBARRAS)\r\n",
                "    \r\n",
                "    \r\n",
                "    --TRATANDO OS RETORNOS NULOS\r\n",
                "    SET @DEPARTAMENTO = CASE WHEN @DEPARTAMENTO = 'NULL' THEN NULL ELSE TRIM(@DEPARTAMENTO) END\r\n",
                "    SET @SECAO = CASE WHEN @SECAO = 'NULL' THEN NULL ELSE TRIM(@SECAO) END\r\n",
                "    SET @CATEGORIA = CASE WHEN @CATEGORIA = 'NULL' THEN NULL ELSE TRIM(@CATEGORIA) END\r\n",
                "    SET @LINHA = CASE WHEN @LINHA = 'NULL' THEN NULL ELSE TRIM(@LINHA) END\r\n",
                "    SET @CODFABRICA = CASE WHEN @CODFABRICA = 'NULL' THEN NULL ELSE TRIM(@CODFABRICA) END\r\n",
                "    SET @CODBARRASMASTER = CASE WHEN @CODBARRASMASTER = 'NULL' THEN NULL ELSE TRIM(@CODBARRASMASTER) END\r\n",
                "    SET @IMPORTADO = CASE WHEN @IMPORTADO = 'NULL' THEN NULL ELSE TRIM(@IMPORTADO) END\r\n",
                "    SET @NCM = CASE WHEN @NCM = 'NULL' THEN NULL ELSE TRIM(@NCM) END\r\n",
                "    SET @NCMEX = CASE WHEN @NCMEX = 'NULL' THEN NULL ELSE TRIM(@NCMEX) END\r\n",
                "    SET @CERTIFICACAO = CASE WHEN @CERTIFICACAO = 'NULL' THEN NULL ELSE TRIM(@CERTIFICACAO) END\r\n",
                "    \r\n",
                "    --NOMEANDO OS TIPOS DE MERCADORIA\r\n",
                "    SET @TIPOMERCADORIA = \r\n",
                "        CASE @TIPOMERCADORIA \r\n",
                "            WHEN 'L' THEN 'NORMAL'\r\n",
                "            WHEN 'CB' THEN 'CESTA BASICA'\r\n",
                "            WHEN 'KT' THEN 'KIT'\r\n",
                "            WHEN 'DB' THEN 'BRINDE'\r\n",
                "            WHEN 'MC' THEN 'MATERIAL CONSUMO'\r\n",
                "            WHEN 'NULL' THEN 'NORMAL'\r\n",
                "        ELSE 'NAO INFORMADO'\r\n",
                "        END\r\n",
                "    \r\n",
                "    --ALTERANDO O FORA DE LINHA\r\n",
                "    SET @FORALINHA = \r\n",
                "        CASE \r\n",
                "            WHEN @FORALINHA = 'FL' THEN 'S'\r\n",
                "            ELSE 'N'\r\n",
                "        END\r\n",
                "\r\n",
                "    --TRANSFORMANDO A DATA RECEBIDA DO BANCO ORACLE\r\n",
                "    SET @DTEXCLUSAO = LEFT(@DTEXCLUSAO, 23)\r\n",
                "    SET @DTEXCLUSAO = CONVERT(DATETIME, @DTEXCLUSAO, 127)\r\n",
                "\r\n",
                "    IF EXISTS (SELECT 1 FROM PRODUTO WHERE CODPROD = @CODPROD)\r\n",
                "    BEGIN\r\n",
                "        UPDATE PRODUTO\r\n",
                "        SET PRODUTO = @PRODUTO,\r\n",
                "            CODDEPTO = @CODDEPTO,\r\n",
                "            DEPARTAMENTO = @DEPARTAMENTO,\r\n",
                "            CODSECAO = @CODSECAO,\r\n",
                "            SECAO = @SECAO,\r\n",
                "            CODCATEGORIA = @CODCATEGORIA,\r\n",
                "            CATEGORIA = @CATEGORIA,\r\n",
                "            CODLINHA = @CODLINHA,\r\n",
                "            LINHA = @LINHA,\r\n",
                "            CODFORNEC = @CODFORNEC,\r\n",
                "            CODMARCA = @CODMARCA,\r\n",
                "            CODFABRICA = @CODFABRICA,\r\n",
                "            CODBARRAS = @CODBARRAS,\r\n",
                "            CODBARRASMASTER = @CODBARRASMASTER,\r\n",
                "            PESO = @PESO,\r\n",
                "            LARGURA = @LARGURA,\r\n",
                "            ALTURA = @ALTURA,\r\n",
                "            COMPRIMENTO = @COMPRIMENTO,\r\n",
                "            VOLUME = @VOLUME,\r\n",
                "            QTCXMASTER = @QTCXMASTER,\r\n",
                "            IMPORTADO = @IMPORTADO,\r\n",
                "            REVENDA = @REVENDA,\r\n",
                "            NCM = @NCM,\r\n",
                "            NCMEX = @NCMEX,\r\n",
                "            TIPOMERCADORIA = @TIPOMERCADORIA,\r\n",
                "            FORALINHA = @FORALINHA,\r\n",
                "            CERTIFICACAO = @CERTIFICACAO,\r\n",
                "            DTEXCLUSAO = @DTEXCLUSAO,\r\n",
                "            DTUPDATE = @DTUPDATE\r\n",
                "        WHERE CODPROD = @CODPROD\r\n",
                "    END\r\n",
                "    ELSE \r\n",
                "    BEGIN\r\n",
                "        INSERT INTO PRODUTO (\r\n",
                "                    CODPROD,\r\n",
                "                    PRODUTO,\r\n",
                "                    CODDEPTO,\r\n",
                "                    DEPARTAMENTO,\r\n",
                "                    CODSECAO,\r\n",
                "                    SECAO,\r\n",
                "                    CODCATEGORIA,\r\n",
                "                    CATEGORIA,\r\n",
                "                    CODLINHA,\r\n",
                "                    LINHA,\r\n",
                "                    CODFORNEC,\r\n",
                "                    CODMARCA,\r\n",
                "                    CODFABRICA,\r\n",
                "                    CODBARRAS,\r\n",
                "                    CODBARRASMASTER,\r\n",
                "                    PESO,\r\n",
                "                    LARGURA,\r\n",
                "                    ALTURA,\r\n",
                "                    COMPRIMENTO,\r\n",
                "                    VOLUME,\r\n",
                "                    QTCXMASTER,\r\n",
                "                    IMPORTADO,\r\n",
                "                    REVENDA,\r\n",
                "                    NCM,\r\n",
                "                    NCMEX,\r\n",
                "                    TIPOMERCADORIA,\r\n",
                "                    FORALINHA,\r\n",
                "                    CERTIFICACAO,\r\n",
                "                    DTEXCLUSAO,\r\n",
                "                    DTUPDATE)\r\n",
                "            VALUES (\r\n",
                "                    @CODPROD,\r\n",
                "                    @PRODUTO,\r\n",
                "                    @CODDEPTO,\r\n",
                "                    @DEPARTAMENTO,\r\n",
                "                    @CODSECAO,\r\n",
                "                    @SECAO,\r\n",
                "                    @CODCATEGORIA,\r\n",
                "                    @CATEGORIA,\r\n",
                "                    @CODLINHA,\r\n",
                "                    @LINHA,\r\n",
                "                    @CODFORNEC,\r\n",
                "                    @CODMARCA,\r\n",
                "                    @CODFABRICA,\r\n",
                "                    @CODBARRAS,\r\n",
                "                    @CODBARRASMASTER,\r\n",
                "                    @PESO,\r\n",
                "                    @LARGURA,\r\n",
                "                    @ALTURA,\r\n",
                "                    @COMPRIMENTO,\r\n",
                "                    @VOLUME,\r\n",
                "                    @QTCXMASTER,\r\n",
                "                    @IMPORTADO,\r\n",
                "                    @REVENDA,\r\n",
                "                    @NCM,\r\n",
                "                    @NCMEX,\r\n",
                "                    @TIPOMERCADORIA,\r\n",
                "                    @FORALINHA,\r\n",
                "                    @CERTIFICACAO,\r\n",
                "                    @DTEXCLUSAO,\r\n",
                "                    @DTUPDATE)\r\n",
                "    END\r\n",
                "END"
            ],
            "metadata": {
                "azdata_cell_guid": "1da8de0f-a1c2-421e-982a-d91bf9d1cc69",
                "language": "sql",
                "tags": []
            },
            "outputs": [
                {
                    "output_type": "display_data",
                    "data": {
                        "text/html": "Commands completed successfully."
                    },
                    "metadata": {}
                },
                {
                    "output_type": "display_data",
                    "data": {
                        "text/html": "Total execution time: 00:00:00.088"
                    },
                    "metadata": {}
                }
            ],
            "execution_count": 2
        },
        {
            "cell_type": "markdown",
            "source": [
                "Verificar tabela produto"
            ],
            "metadata": {
                "language": "sql",
                "azdata_cell_guid": "92aa541a-dc75-4587-8df4-e8cae77a2c9a"
            },
            "attachments": {}
        },
        {
            "cell_type": "code",
            "source": [
                "SELECT * FROM PRODUTO;"
            ],
            "metadata": {
                "azdata_cell_guid": "93d4ea02-90e4-4f61-a96b-8120e20d181d",
                "language": "sql"
            },
            "outputs": [
{
    "output_type": "display_data",
    "data": {
        "text/html": "(6 rows affected)"
    },
    "metadata": {}
}, {
    "output_type": "display_data",
    "data": {
        "text/html": "Total execution time: 00:00:00.038"
    },
    "metadata": {}
}, {
    "output_type": "execute_result",
    "metadata": {},
    "execution_count": 3,
    "data": {
        "application/vnd.dataresource+json": {
            "schema": {
                "fields": [
                    {
                        "name": "CodProd"
                    },
                    {
                        "name": "Produto"
                    },
                    {
                        "name": "CodDepto"
                    },
                    {
                        "name": "Departamento"
                    },
                    {
                        "name": "CodSecao"
                    },
                    {
                        "name": "Secao"
                    },
                    {
                        "name": "CodCategoria"
                    },
                    {
                        "name": "Categoria"
                    },
                    {
                        "name": "CodLinha"
                    },
                    {
                        "name": "Linha"
                    },
                    {
                        "name": "CodFornec"
                    },
                    {
                        "name": "CodMarca"
                    },
                    {
                        "name": "CodFabrica"
                    },
                    {
                        "name": "CodBarras"
                    },
                    {
                        "name": "CodBarrasMaster"
                    },
                    {
                        "name": "Peso"
                    },
                    {
                        "name": "Largura"
                    },
                    {
                        "name": "Altura"
                    },
                    {
                        "name": "Comprimento"
                    },
                    {
                        "name": "Volume"
                    },
                    {
                        "name": "QtCxMaster"
                    },
                    {
                        "name": "Importado"
                    },
                    {
                        "name": "Revenda"
                    },
                    {
                        "name": "NCM"
                    },
                    {
                        "name": "NCMEX"
                    },
                    {
                        "name": "TipoMercadoria"
                    },
                    {
                        "name": "ForaLinha"
                    },
                    {
                        "name": "Certificacao"
                    },
                    {
                        "name": "DtExclusao"
                    },
                    {
                        "name": "DtUpdate"
                    }
                ]
            },
            "data": [
                {
                    "CodProd": "797501",
                    "Produto": "CATERPILLAR APPRENTICE *SORT*",
                    "CodDepto": "10",
                    "Departamento": "BRINQUEDOS",
                    "CodSecao": "103",
                    "Secao": "CARRINHOS E CIA",
                    "CodCategoria": "1030",
                    "Categoria": "CARRINHOS RODA LIVRE",
                    "CodLinha": "NULL",
                    "Linha": "NULL",
                    "CodFornec": "357",
                    "CodMarca": "7",
                    "CodFabrica": "3840",
                    "CodBarras": "7898486488961",
                    "CodBarrasMaster": "67898486488963",
                    "Peso": "0.900000",
                    "Largura": "10.000000",
                    "Altura": "29.000000",
                    "Comprimento": "33.000000",
                    "Volume": "0.00957000",
                    "QtCxMaster": "6.00",
                    "Importado": "S",
                    "Revenda": "S",
                    "NCM": "95030099",
                    "NCMEX": "95030099.",
                    "TipoMercadoria": "NORMAL",
                    "ForaLinha": "N",
                    "Certificacao": "CE-BRI/INNAC-00002-20A - NM 300/2002",
                    "DtExclusao": "NULL",
                    "DtUpdate": "2024-03-05 09:16:21.783"
                },
                {
                    "CodProd": "802843",
                    "Produto": "KEKILOU - PLAYSET *SORT*",
                    "CodDepto": "10",
                    "Departamento": "BRINQUEDOS",
                    "CodSecao": "101",
                    "Secao": "BONECAS",
                    "CodCategoria": "1014",
                    "Categoria": "MINI BONECAS E COLECIONÁVEIS",
                    "CodLinha": "NULL",
                    "Linha": "NULL",
                    "CodFornec": "9583",
                    "CodMarca": "123",
                    "CodFabrica": "7303",
                    "CodBarras": "7897500573034",
                    "CodBarrasMaster": "NULL",
                    "Peso": "0.450000",
                    "Largura": "11.000000",
                    "Altura": "14.000000",
                    "Comprimento": "19.000000",
                    "Volume": "0.00292600",
                    "QtCxMaster": "4.00",
                    "Importado": "S",
                    "Revenda": "S",
                    "NCM": "95030099",
                    "NCMEX": "95030099.",
                    "TipoMercadoria": "NORMAL",
                    "ForaLinha": "N",
                    "Certificacao": "CE-BRI/BRICS 00242-15.",
                    "DtExclusao": "NULL",
                    "DtUpdate": "2024-03-05 09:16:06.133"
                },
                {
                    "CodProd": "810192",
                    "Produto": "CASA GIGANTE DA PEPPA",
                    "CodDepto": "10",
                    "Departamento": "BRINQUEDOS",
                    "CodSecao": "101",
                    "Secao": "BONECAS",
                    "CodCategoria": "1016",
                    "Categoria": "KITS E CASAS PARA BONECAS",
                    "CodLinha": "NULL",
                    "Linha": "NULL",
                    "CodFornec": "8509",
                    "CodMarca": "43",
                    "CodFabrica": "2315",
                    "CodBarras": "7899573623159",
                    "CodBarrasMaster": "NULL",
                    "Peso": "0.800000",
                    "Largura": "14.000000",
                    "Altura": "59.000000",
                    "Comprimento": "38.000000",
                    "Volume": "0.03138800",
                    "QtCxMaster": "2.00",
                    "Importado": "S",
                    "Revenda": "S",
                    "NCM": "95030099",
                    "NCMEX": "95030099.",
                    "TipoMercadoria": "NORMAL",
                    "ForaLinha": "N",
                    "Certificacao": "CE-BRI/IQB 5106 NM 300/2002",
                    "DtExclusao": "NULL",
                    "DtUpdate": "2024-03-05 09:16:13.870"
                },
                {
                    "CodProd": "811247",
                    "Produto": "SW FIGURA OLYMPUS DARTH VADER",
                    "CodDepto": "10",
                    "Departamento": "BRINQUEDOS",
                    "CodSecao": "102",
                    "Secao": "BONECOS E ANIMAIS",
                    "CodCategoria": "1021",
                    "Categoria": "KIT TEMÁTICO, CENÁRIOS E ACESSÓRIOS",
                    "CodLinha": "NULL",
                    "Linha": "NULL",
                    "CodFornec": "8509",
                    "CodMarca": "10",
                    "CodFabrica": "E8063/4",
                    "CodBarras": "4811247001011",
                    "CodBarrasMaster": "NULL",
                    "Peso": "1.000000",
                    "Largura": "5.000000",
                    "Altura": "25.000000",
                    "Comprimento": "13.000000",
                    "Volume": "0.00162500",
                    "QtCxMaster": "8.00",
                    "Importado": "S",
                    "Revenda": "S",
                    "NCM": "95030022",
                    "NCMEX": "95030022.",
                    "TipoMercadoria": "NORMAL",
                    "ForaLinha": "N",
                    "Certificacao": "CBRIIFBQ335308NM3002002OCP0003",
                    "DtExclusao": "NULL",
                    "DtUpdate": "2024-03-05 09:16:25.627"
                },
                {
                    "CodProd": "819117",
                    "Produto": "PELUCIA RAPOSA 22,8CM METOO",
                    "CodDepto": "10",
                    "Departamento": "BRINQUEDOS",
                    "CodSecao": "109",
                    "Secao": "PELÚCIAS",
                    "CodCategoria": "1091",
                    "Categoria": "PELÚCIAS SEM MECANISMO",
                    "CodLinha": "NULL",
                    "Linha": "NULL",
                    "CodFornec": "10294",
                    "CodMarca": "9842",
                    "CodFabrica": "2483",
                    "CodBarras": "6954124916508",
                    "CodBarrasMaster": "NULL",
                    "Peso": "0.170000",
                    "Largura": "10.000000",
                    "Altura": "46.000000",
                    "Comprimento": "20.000000",
                    "Volume": "0.00920000",
                    "QtCxMaster": "1.00",
                    "Importado": "S",
                    "Revenda": "S",
                    "NCM": "95030031",
                    "NCMEX": "95030031.",
                    "TipoMercadoria": "NORMAL",
                    "ForaLinha": "N",
                    "Certificacao": "-",
                    "DtExclusao": "NULL",
                    "DtUpdate": "2024-03-05 09:16:17.953"
                },
                {
                    "CodProd": "821078",
                    "Produto": "PELU SQUISHMALLOWS 7 DISNEY PLUTO",
                    "CodDepto": "10",
                    "Departamento": "BRINQUEDOS",
                    "CodSecao": "109",
                    "Secao": "PELÚCIAS",
                    "CodCategoria": "1091",
                    "Categoria": "PELÚCIAS SEM MECANISMO",
                    "CodLinha": "NULL",
                    "Linha": "NULL",
                    "CodFornec": "7810",
                    "CodMarca": "43",
                    "CodFabrica": "3175/5",
                    "CodBarras": "4821078001012",
                    "CodBarrasMaster": "NULL",
                    "Peso": "0.134000",
                    "Largura": "21.000000",
                    "Altura": "8.000000",
                    "Comprimento": "15.000000",
                    "Volume": "NULL",
                    "QtCxMaster": "6.00",
                    "Importado": "S",
                    "Revenda": "S",
                    "NCM": "95030031",
                    "NCMEX": "95030031.",
                    "TipoMercadoria": "NORMAL",
                    "ForaLinha": "N",
                    "Certificacao": "CE -BRI/IQB 5170 NM 300/2002 OCP 0006",
                    "DtExclusao": "NULL",
                    "DtUpdate": "2024-03-05 09:16:09.987"
                }
            ]
        },
        "text/html": [
            "<table>",
            "<tr><th>CodProd</th><th>Produto</th><th>CodDepto</th><th>Departamento</th><th>CodSecao</th><th>Secao</th><th>CodCategoria</th><th>Categoria</th><th>CodLinha</th><th>Linha</th><th>CodFornec</th><th>CodMarca</th><th>CodFabrica</th><th>CodBarras</th><th>CodBarrasMaster</th><th>Peso</th><th>Largura</th><th>Altura</th><th>Comprimento</th><th>Volume</th><th>QtCxMaster</th><th>Importado</th><th>Revenda</th><th>NCM</th><th>NCMEX</th><th>TipoMercadoria</th><th>ForaLinha</th><th>Certificacao</th><th>DtExclusao</th><th>DtUpdate</th></tr>",
            "<tr><td>797501</td><td>CATERPILLAR APPRENTICE *SORT*</td><td>10</td><td>BRINQUEDOS</td><td>103</td><td>CARRINHOS E CIA</td><td>1030</td><td>CARRINHOS RODA LIVRE</td><td>NULL</td><td>NULL</td><td>357</td><td>7</td><td>3840</td><td>7898486488961</td><td>67898486488963</td><td>0.900000</td><td>10.000000</td><td>29.000000</td><td>33.000000</td><td>0.00957000</td><td>6.00</td><td>S</td><td>S</td><td>95030099</td><td>95030099.</td><td>NORMAL</td><td>N</td><td>CE-BRI/INNAC-00002-20A - NM 300/2002</td><td>NULL</td><td>2024-03-05 09:16:21.783</td></tr>",
            "<tr><td>802843</td><td>KEKILOU - PLAYSET *SORT*</td><td>10</td><td>BRINQUEDOS</td><td>101</td><td>BONECAS</td><td>1014</td><td>MINI BONECAS E COLECIONÁVEIS</td><td>NULL</td><td>NULL</td><td>9583</td><td>123</td><td>7303</td><td>7897500573034</td><td>NULL</td><td>0.450000</td><td>11.000000</td><td>14.000000</td><td>19.000000</td><td>0.00292600</td><td>4.00</td><td>S</td><td>S</td><td>95030099</td><td>95030099.</td><td>NORMAL</td><td>N</td><td>CE-BRI/BRICS 00242-15.</td><td>NULL</td><td>2024-03-05 09:16:06.133</td></tr>",
            "<tr><td>810192</td><td>CASA GIGANTE DA PEPPA</td><td>10</td><td>BRINQUEDOS</td><td>101</td><td>BONECAS</td><td>1016</td><td>KITS E CASAS PARA BONECAS</td><td>NULL</td><td>NULL</td><td>8509</td><td>43</td><td>2315</td><td>7899573623159</td><td>NULL</td><td>0.800000</td><td>14.000000</td><td>59.000000</td><td>38.000000</td><td>0.03138800</td><td>2.00</td><td>S</td><td>S</td><td>95030099</td><td>95030099.</td><td>NORMAL</td><td>N</td><td>CE-BRI/IQB 5106 NM 300/2002</td><td>NULL</td><td>2024-03-05 09:16:13.870</td></tr>",
            "<tr><td>811247</td><td>SW FIGURA OLYMPUS DARTH VADER</td><td>10</td><td>BRINQUEDOS</td><td>102</td><td>BONECOS E ANIMAIS</td><td>1021</td><td>KIT TEMÁTICO, CENÁRIOS E ACESSÓRIOS</td><td>NULL</td><td>NULL</td><td>8509</td><td>10</td><td>E8063/4</td><td>4811247001011</td><td>NULL</td><td>1.000000</td><td>5.000000</td><td>25.000000</td><td>13.000000</td><td>0.00162500</td><td>8.00</td><td>S</td><td>S</td><td>95030022</td><td>95030022.</td><td>NORMAL</td><td>N</td><td>CBRIIFBQ335308NM3002002OCP0003</td><td>NULL</td><td>2024-03-05 09:16:25.627</td></tr>",
            "<tr><td>819117</td><td>PELUCIA RAPOSA 22,8CM METOO</td><td>10</td><td>BRINQUEDOS</td><td>109</td><td>PELÚCIAS</td><td>1091</td><td>PELÚCIAS SEM MECANISMO</td><td>NULL</td><td>NULL</td><td>10294</td><td>9842</td><td>2483</td><td>6954124916508</td><td>NULL</td><td>0.170000</td><td>10.000000</td><td>46.000000</td><td>20.000000</td><td>0.00920000</td><td>1.00</td><td>S</td><td>S</td><td>95030031</td><td>95030031.</td><td>NORMAL</td><td>N</td><td>-</td><td>NULL</td><td>2024-03-05 09:16:17.953</td></tr>",
            "<tr><td>821078</td><td>PELU SQUISHMALLOWS 7 DISNEY PLUTO</td><td>10</td><td>BRINQUEDOS</td><td>109</td><td>PELÚCIAS</td><td>1091</td><td>PELÚCIAS SEM MECANISMO</td><td>NULL</td><td>NULL</td><td>7810</td><td>43</td><td>3175/5</td><td>4821078001012</td><td>NULL</td><td>0.134000</td><td>21.000000</td><td>8.000000</td><td>15.000000</td><td>NULL</td><td>6.00</td><td>S</td><td>S</td><td>95030031</td><td>95030031.</td><td>NORMAL</td><td>N</td><td>CE -BRI/IQB 5170 NM 300/2002 OCP 0006</td><td>NULL</td><td>2024-03-05 09:16:09.987</td></tr>",
            "</table>"
        ]
    }
}
],
            "execution_count": 3
        },
        {
            "cell_type": "code",
            "source": [
                "SELECT CODPROD, FORMAT(DTUPDATE, 'yyyy-MM-dd HH:mm:ss') DTUPDATE FROM PRODUTO WHERE CODPROD = 10067"
            ],
            "metadata": {
                "language": "sql",
                "azdata_cell_guid": "7983ab0b-86ae-42a4-bb34-2fb2c76e368e"
            },
            "outputs": [
                {
                    "output_type": "display_data",
                    "data": {
                        "text/html": "(0 rows affected)"
                    },
                    "metadata": {}
                },
                {
                    "output_type": "display_data",
                    "data": {
                        "text/html": "Total execution time: 00:00:00.014"
                    },
                    "metadata": {}
                },
                {
                    "output_type": "execute_result",
                    "execution_count": 27,
                    "data": {
                        "application/vnd.dataresource+json": {
                            "schema": {
                                "fields": [
                                    {
                                        "name": "CODPROD"
                                    },
                                    {
                                        "name": "DTUPDATE"
                                    }
                                ]
                            },
                            "data": []
                        },
                        "text/html": "<table><tr><th>CODPROD</th><th>DTUPDATE</th></tr></table>"
                    },
                    "metadata": {}
                }
            ],
            "execution_count": 27
        },
        {
            "cell_type": "code",
            "source": [
                "CREATE OR ALTER PROCEDURE SP_RETORNA_PRODUTO\r\n",
                "    @CODPROD INT\r\n",
                "AS\r\n",
                "BEGIN    \r\n",
                "\r\n",
                "    IF EXISTS (SELECT 1 FROM PRODUTO WHERE CODPROD = @CODPROD)\r\n",
                "\tSELECT FORMAT(DTUPDATE, 'yyyy-MM-dd HH:mm:ss') DTUPDATE FROM PRODUTO WHERE CODPROD = @CODPROD\r\n",
                "END"
            ],
            "metadata": {
                "language": "sql",
                "azdata_cell_guid": "19495267-3e91-489f-8426-0fbfabb89836"
            },
            "outputs": [
                {
                    "output_type": "display_data",
                    "data": {
                        "text/html": "Commands completed successfully."
                    },
                    "metadata": {}
                },
                {
                    "output_type": "display_data",
                    "data": {
                        "text/html": "Total execution time: 00:00:00.025"
                    },
                    "metadata": {}
                }
            ],
            "execution_count": 5
        },
        {
            "cell_type": "code",
            "source": [
                "BEGIN\r\n",
                "   EXEC SP_RETORNA_PRODUTO 10067\r\n",
                "END"
            ],
            "metadata": {
                "azdata_cell_guid": "722ad580-4593-48ff-8769-1274205ed849",
                "language": "sql",
                "tags": []
            },
            "outputs": [
                {
                    "output_type": "display_data",
                    "data": {
                        "text/html": "(1 row affected)"
                    },
                    "metadata": {}
                },
                {
                    "output_type": "display_data",
                    "data": {
                        "text/html": "Total execution time: 00:00:00.016"
                    },
                    "metadata": {}
                },
                {
                    "output_type": "execute_result",
                    "execution_count": 22,
                    "data": {
                        "application/vnd.dataresource+json": {
                            "schema": {
                                "fields": [
                                    {
                                        "name": "DTUPDATE"
                                    }
                                ]
                            },
                            "data": [
                                {
                                    "DTUPDATE": "2024-03-04 18:57:39"
                                }
                            ]
                        },
                        "text/html": "<table><tr><th>DTUPDATE</th></tr><tr><td>2024-03-04 18:57:39</td></tr></table>"
                    },
                    "metadata": {}
                }
            ],
            "execution_count": 22
        }
    ]
}