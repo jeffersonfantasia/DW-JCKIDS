{
    "metadata": {
        "kernelspec": {
            "name": "SQL",
            "display_name": "SQL",
            "language": "sql"
        },
        "language_info": {
            "name": "sql",
            "version": ""
        }
    },
    "nbformat_minor": 2,
    "nbformat": 4,
    "cells": [
        {
            "cell_type": "markdown",
            "source": [
                "# **Tabela Cliente**"
            ],
            "metadata": {
                "azdata_cell_guid": "40f91890-0cc3-41b4-bd45-c0cf5fa474d3"
            },
            "attachments": {}
        },
        {
            "cell_type": "markdown",
            "source": [
                "Transformar as colunas CODCLIENTEREDE e CLIENTEREDE"
            ],
            "metadata": {
                "azdata_cell_guid": "10d1d4b4-ac45-47c2-91fa-cebfd38798f3"
            },
            "attachments": {}
        },
        {
            "cell_type": "code",
            "source": [
                "CREATE OR ALTER PROCEDURE SP_CARREGA_CLIENTE\r\n",
                "    @CODCLIENTE         INT,\r\n",
                "    @CLIENTE            NVARCHAR (60),\r\n",
                "    @CODREDE            INT,\r\n",
                "    @REDE               NVARCHAR (60),\r\n",
                "    @CNPJ               NVARCHAR (18),\r\n",
                "    @CEP                NVARCHAR (9),\r\n",
                "    @UF                 NVARCHAR (2),\r\n",
                "    @CODVENDEDOR        INT,\r\n",
                "    @CODPRACA           INT,\r\n",
                "    @PRACA              NVARCHAR (25),\r\n",
                "    @CODATIVIDADE       INT,\r\n",
                "    @RAMOATIVIDADE      NVARCHAR (40),\r\n",
                "    @BLOQUEIODEFINITIVO CHAR (1),\r\n",
                "    @BLOQUEIOATUAL      CHAR (1),\r\n",
                "    @LIMITECREDITO      NUMERIC (12, 2)\r\n",
                "AS\r\n",
                "BEGIN\r\n",
                "    DECLARE @DTUPDATE DATETIME = DATEADD(HOUR, -3, GETUTCDATE())\r\n",
                "    \r\n",
                "    --TRATANDO OS RETORNOS NULOS\r\n",
                "    SET @CLIENTE = TRIM(UPPER(@CLIENTE))\r\n",
                "    SET @REDE = CASE WHEN @REDE = 'NULL' THEN NULL ELSE TRIM(UPPER(@REDE)) END\r\n",
                "    SET @PRACA = CASE WHEN @PRACA = 'NULL' THEN NULL ELSE TRIM(@PRACA) END\r\n",
                "    SET @RAMOATIVIDADE = CASE WHEN @RAMOATIVIDADE = 'NULL' THEN NULL ELSE TRIM(@RAMOATIVIDADE) END\r\n",
                "    \r\n",
                "    --CRIANDO O CODCLIENTEREDE E CLIENTEREDE\r\n",
                "    DECLARE @CODCLIENTEREDE NVARCHAR(10) = \r\n",
                "        CASE\r\n",
                "            WHEN @CODREDE IS NULL THEN ('C' + CONVERT(NVARCHAR(4), @CODCLIENTE))\r\n",
                "            ELSE ('R' + CONVERT(NVARCHAR(4), @CODREDE))\r\n",
                "        END\r\n",
                "    \r\n",
                "    DECLARE @CLIENTEREDE NVARCHAR(70) = \r\n",
                "        CASE\r\n",
                "            WHEN @CODREDE IS NULL THEN ( @CODCLIENTEREDE + ' - ' + @CLIENTE )\r\n",
                "            ELSE ( @CODCLIENTEREDE + ' - ' + @REDE )\r\n",
                "        END\r\n",
                "\r\n",
                "    IF EXISTS (SELECT 1 FROM CLIENTE WHERE CODCLIENTE = @CODCLIENTE)\r\n",
                "    BEGIN\r\n",
                "        UPDATE CLIENTE\r\n",
                "            SET CLIENTE = @CLIENTE,\r\n",
                "                CODCLIENTEREDE = @CODCLIENTEREDE,\r\n",
                "                CLIENTEREDE = @CLIENTEREDE,\r\n",
                "                CNPJ = @CNPJ,\r\n",
                "                CEP = @CEP,\r\n",
                "                UF = @UF,\r\n",
                "                CODVENDEDOR = @CODVENDEDOR,\r\n",
                "                CODPRACA = @CODPRACA,\r\n",
                "                PRACA = @PRACA,\r\n",
                "                CODATIVIDADE = @CODATIVIDADE,\r\n",
                "                RAMOATIVIDADE = @RAMOATIVIDADE,\r\n",
                "                BLOQUEIODEFINITIVO = @BLOQUEIODEFINITIVO,\r\n",
                "                BLOQUEIOATUAL = @BLOQUEIOATUAL,\r\n",
                "                LIMITECREDITO = @LIMITECREDITO,\r\n",
                "                DTUPDATE = @DTUPDATE\r\n",
                "          WHERE CODCLIENTE = @CODCLIENTE\r\n",
                "    END\r\n",
                "    ELSE \r\n",
                "    BEGIN\r\n",
                "        INSERT INTO CLIENTE (\r\n",
                "            CODCLIENTE,\r\n",
                "            CLIENTE,\r\n",
                "            CODCLIENTEREDE,\r\n",
                "            CLIENTEREDE,\r\n",
                "            CNPJ,\r\n",
                "            CEP,\r\n",
                "            UF,\r\n",
                "            CODVENDEDOR,\r\n",
                "            CODPRACA,\r\n",
                "            PRACA,\r\n",
                "            CODATIVIDADE,\r\n",
                "            RAMOATIVIDADE,\r\n",
                "            BLOQUEIODEFINITIVO,\r\n",
                "            BLOQUEIOATUAL,\r\n",
                "            LIMITECREDITO,\r\n",
                "            DTUPDATE)\r\n",
                "    VALUES (\r\n",
                "            @CODCLIENTE,\r\n",
                "            @CLIENTE,\r\n",
                "            @CODCLIENTEREDE,\r\n",
                "            @CLIENTEREDE,\r\n",
                "            @CNPJ,\r\n",
                "            @CEP,\r\n",
                "            @UF,\r\n",
                "            @CODVENDEDOR,\r\n",
                "            @CODPRACA,\r\n",
                "            @PRACA,\r\n",
                "            @CODATIVIDADE,\r\n",
                "            @RAMOATIVIDADE,\r\n",
                "            @BLOQUEIODEFINITIVO,\r\n",
                "            @BLOQUEIOATUAL,\r\n",
                "            @LIMITECREDITO,\r\n",
                "            @DTUPDATE)                          \r\n",
                "    END\r\n",
                "END"
            ],
            "metadata": {
                "azdata_cell_guid": "129c83af-dce9-4880-bded-0dc8ad03030b",
                "language": "sql",
                "tags": []
            },
            "outputs": [
                {
                    "output_type": "display_data",
                    "data": {
                        "text/html": "Commands completed successfully."
                    },
                    "metadata": {}
                },
                {
                    "output_type": "display_data",
                    "data": {
                        "text/html": "Total execution time: 00:00:00.014"
                    },
                    "metadata": {}
                }
            ],
            "execution_count": 6
        },
        {
            "cell_type": "code",
            "source": [
                "CREATE OR ALTER PROCEDURE SP_RETORNA_CLIENTE\r\n",
                "    @CODCLIENTE INT\r\n",
                "AS\r\n",
                "BEGIN    \r\n",
                "    IF EXISTS (SELECT 1 FROM CLIENTE WHERE CODCLIENTE = @CODCLIENTE)\r\n",
                "\tSELECT FORMAT(DTUPDATE, 'yyyy-MM-dd HH:mm:ss') DTUPDATE FROM CLIENTE WHERE CODCLIENTE = @CODCLIENTE\r\n",
                "END"
            ],
            "metadata": {
                "azdata_cell_guid": "70ef1dcb-32e2-4a2b-95da-214734f786bc",
                "language": "sql"
            },
            "outputs": [
                {
                    "output_type": "display_data",
                    "data": {
                        "text/html": "Commands completed successfully."
                    },
                    "metadata": {}
                },
                {
                    "output_type": "display_data",
                    "data": {
                        "text/html": "Total execution time: 00:00:00.013"
                    },
                    "metadata": {}
                }
            ],
            "execution_count": 2
        },
        {
            "cell_type": "code",
            "source": [
                "SELECT * FROM CLIENTE"
            ],
            "metadata": {
                "language": "sql",
                "azdata_cell_guid": "bf167147-ca64-40aa-a2fe-058d0b33c1c8"
            },
            "outputs": [
                {
                    "output_type": "display_data",
                    "data": {
                        "text/html": "(2 rows affected)"
                    },
                    "metadata": {}
                },
                {
                    "output_type": "display_data",
                    "data": {
                        "text/html": "Total execution time: 00:00:00.017"
                    },
                    "metadata": {}
                },
                {
                    "output_type": "execute_result",
                    "metadata": {},
                    "execution_count": 13,
                    "data": {
                        "application/vnd.dataresource+json": {
                            "schema": {
                                "fields": [
                                    {
                                        "name": "CodCliente"
                                    },
                                    {
                                        "name": "Cliente"
                                    },
                                    {
                                        "name": "CodClienteRede"
                                    },
                                    {
                                        "name": "ClienteRede"
                                    },
                                    {
                                        "name": "CNPJ"
                                    },
                                    {
                                        "name": "CEP"
                                    },
                                    {
                                        "name": "UF"
                                    },
                                    {
                                        "name": "CodVendedor"
                                    },
                                    {
                                        "name": "CodPraca"
                                    },
                                    {
                                        "name": "Praca"
                                    },
                                    {
                                        "name": "CodAtividade"
                                    },
                                    {
                                        "name": "RamoAtividade"
                                    },
                                    {
                                        "name": "BloqueioDefinitivo"
                                    },
                                    {
                                        "name": "BloqueioAtual"
                                    },
                                    {
                                        "name": "LimiteCredito"
                                    },
                                    {
                                        "name": "DtUpdate"
                                    }
                                ]
                            },
                            "data": [
                                {
                                    "CodCliente": "7637",
                                    "Cliente": "RODOSNACK CLUBE DOS 500 LANC E RESTAURAN",
                                    "CodClienteRede": "C7637",
                                    "ClienteRede": "C7637 - RODOSNACK CLUBE DOS 500 LANC E RESTAURAN",
                                    "CNPJ": "09.643.807/0001-17",
                                    "CEP": "12522640",
                                    "UF": "SP",
                                    "CodVendedor": "16",
                                    "CodPraca": "1",
                                    "Praca": "PEQUENO",
                                    "CodAtividade": "18",
                                    "RamoAtividade": "PEQUENO",
                                    "BloqueioDefinitivo": "S",
                                    "BloqueioAtual": "S",
                                    "LimiteCredito": "0.00",
                                    "DtUpdate": "2024-03-12 18:54:07.870"
                                },
                                {
                                    "CodCliente": "7640",
                                    "Cliente": "CONSTRUTORA ANASTACIO LTDA",
                                    "CodClienteRede": "R493",
                                    "ClienteRede": "R493 - CONSTRUTORA ANASTACIO",
                                    "CNPJ": "43.438.001/0001-25",
                                    "CEP": "06268110",
                                    "UF": "SP",
                                    "CodVendedor": "14",
                                    "CodPraca": "6",
                                    "Praca": "SEM DESCONTO CORPORATIVO",
                                    "CodAtividade": "14",
                                    "RamoAtividade": "EMPRESAS CORPORATIVAS",
                                    "BloqueioDefinitivo": "S",
                                    "BloqueioAtual": "S",
                                    "LimiteCredito": "1000.00",
                                    "DtUpdate": "2024-03-12 18:54:11.730"
                                }
                            ]
                        },
                        "text/html": [
                            "<table>",
                            "<tr><th>CodCliente</th><th>Cliente</th><th>CodClienteRede</th><th>ClienteRede</th><th>CNPJ</th><th>CEP</th><th>UF</th><th>CodVendedor</th><th>CodPraca</th><th>Praca</th><th>CodAtividade</th><th>RamoAtividade</th><th>BloqueioDefinitivo</th><th>BloqueioAtual</th><th>LimiteCredito</th><th>DtUpdate</th></tr>",
                            "<tr><td>7637</td><td>RODOSNACK CLUBE DOS 500 LANC E RESTAURAN</td><td>C7637</td><td>C7637 - RODOSNACK CLUBE DOS 500 LANC E RESTAURAN</td><td>09.643.807/0001-17</td><td>12522640</td><td>SP</td><td>16</td><td>1</td><td>PEQUENO</td><td>18</td><td>PEQUENO</td><td>S</td><td>S</td><td>0.00</td><td>2024-03-12 18:54:07.870</td></tr>",
                            "<tr><td>7640</td><td>CONSTRUTORA ANASTACIO LTDA</td><td>R493</td><td>R493 - CONSTRUTORA ANASTACIO</td><td>43.438.001/0001-25</td><td>06268110</td><td>SP</td><td>14</td><td>6</td><td>SEM DESCONTO CORPORATIVO</td><td>14</td><td>EMPRESAS CORPORATIVAS</td><td>S</td><td>S</td><td>1000.00</td><td>2024-03-12 18:54:11.730</td></tr>",
                            "</table>"
                        ]
                    }
                }
            ],
            "execution_count": 13
        },
        {
            "cell_type": "code",
            "source": [
                "BEGIN\r\n",
                "    EXEC SP_CARREGA_CLIENTE 7637, 'RODOSNACK CLUBE DOS 500 LANC E RESTAURAN', null, 'null', '09.643.807/0001-17', '12522640', 'SP', 16, 1, 'PEQUENO', 18, 'PEQUENO', 'S', 'S', 0\r\n",
                "END\r\n",
                ""
            ],
            "metadata": {
                "language": "sql",
                "azdata_cell_guid": "39ad5cab-a21e-46fd-9713-b8569281fdcd"
            },
            "outputs": [
                {
                    "output_type": "display_data",
                    "data": {
                        "text/html": "(1 row affected)"
                    },
                    "metadata": {}
                },
                {
                    "output_type": "display_data",
                    "data": {
                        "text/html": "Total execution time: 00:00:00.018"
                    },
                    "metadata": {}
                }
            ],
            "execution_count": 9
        },
        {
            "cell_type": "code",
            "source": [
                "BEGIN\r\n",
                "    SP_RETORNA_CLIENTE 7637\r\n",
                "END"
            ],
            "metadata": {
                "language": "sql",
                "azdata_cell_guid": "8894634e-7ba8-4bb6-927e-e4ff07e92e30"
            },
            "outputs": [
{
    "output_type": "error",
    "evalue": "Msg 102, Level 15, State 1, Line 2\r\nIncorrect syntax near 'SP_RETORNA_CLIENTE'.",
    "ename": "",
    "traceback": []
}, {
    "output_type": "display_data",
    "data": {
        "text/html": "Total execution time: 00:00:00.008"
    },
    "metadata": {}
}
],
            "execution_count": 19
        },
        {
            "cell_type": "code",
            "source": [
                "SELECT FORMAT(DTUPDATE, 'yyyy-MM-dd HH:mm:ss') DTUPDATE FROM CLIENTE WHERE CODCLIENTE = 7637"
            ],
            "metadata": {
                "language": "sql",
                "azdata_cell_guid": "9aef4235-0e0b-4364-9984-6fe9517c320b"
            },
            "outputs": [
                {
                    "output_type": "display_data",
                    "data": {
                        "text/html": "(1 row affected)"
                    },
                    "metadata": {}
                },
                {
                    "output_type": "display_data",
                    "data": {
                        "text/html": "Total execution time: 00:00:00.011"
                    },
                    "metadata": {}
                },
                {
                    "output_type": "execute_result",
                    "metadata": {},
                    "execution_count": 15,
                    "data": {
                        "application/vnd.dataresource+json": {
                            "schema": {
                                "fields": [
                                    {
                                        "name": "DTUPDATE"
                                    }
                                ]
                            },
                            "data": [
                                {
                                    "DTUPDATE": "2024-03-12 18:54:07"
                                }
                            ]
                        },
                        "text/html": [
                            "<table>",
                            "<tr><th>DTUPDATE</th></tr>",
                            "<tr><td>2024-03-12 18:54:07</td></tr>",
                            "</table>"
                        ]
                    }
                }
            ],
            "execution_count": 15
        }
    ]
}