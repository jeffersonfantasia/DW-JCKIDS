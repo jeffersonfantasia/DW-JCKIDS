{
    "metadata": {
        "kernelspec": {
            "name": "SQL",
            "display_name": "SQL",
            "language": "sql"
        },
        "language_info": {
            "name": "sql",
            "version": ""
        }
    },
    "nbformat_minor": 2,
    "nbformat": 4,
    "cells": [
        {
            "cell_type": "markdown",
            "source": [
                "# **Tabela Cliente**"
            ],
            "metadata": {
                "azdata_cell_guid": "40f91890-0cc3-41b4-bd45-c0cf5fa474d3"
            },
            "attachments": {}
        },
        {
            "cell_type": "markdown",
            "source": [
                "Transformar as colunas CODCLIENTEREDE e CLIENTEREDE"
            ],
            "metadata": {
                "azdata_cell_guid": "10d1d4b4-ac45-47c2-91fa-cebfd38798f3"
            },
            "attachments": {}
        },
        {
            "cell_type": "code",
            "source": [
                "CREATE OR ALTER PROCEDURE SP_CARREGA_CLIENTE\r\n",
                "    @CODCLIENTE         INT,\r\n",
                "    @CLIENTE            NVARCHAR (60),\r\n",
                "    @CODREDE            INT,\r\n",
                "    @REDE               NVARCHAR (60),\r\n",
                "    @CNPJ               NVARCHAR (18),\r\n",
                "    @CEP                NVARCHAR (9),\r\n",
                "    @UF                 NVARCHAR (2),\r\n",
                "    @CODVENDEDOR        INT,\r\n",
                "    @CODPRACA           INT,\r\n",
                "    @PRACA              NVARCHAR (25),\r\n",
                "    @CODATIVIDADE       INT,\r\n",
                "    @RAMOATIVIDADE      NVARCHAR (40),\r\n",
                "    @BLOQUEIODEFINITIVO CHAR (1),\r\n",
                "    @BLOQUEIOATUAL      CHAR (1),\r\n",
                "    @LIMITECREDITO      NUMERIC (12, 2)\r\n",
                "AS\r\n",
                "BEGIN\r\n",
                "    DECLARE @DTUPDATE DATETIME = DATEADD(HOUR, -3, GETUTCDATE())\r\n",
                "    \r\n",
                "    --TRATANDO OS RETORNOS NULOS\r\n",
                "    SET @CLIENTE = CASE WHEN @CLIENTE = 'NULL' THEN NULL ELSE TRIM(UPPER(@CLIENTE)) END\r\n",
                "    SET @REDE = CASE WHEN @REDE = 'NULL' THEN NULL ELSE TRIM(UPPER(@REDE)) END\r\n",
                "    SET @PRACA = CASE WHEN @PRACA = 'NULL' THEN NULL ELSE TRIM(@PRACA) END\r\n",
                "    SET @RAMOATIVIDADE = CASE WHEN @RAMOATIVIDADE = 'NULL' THEN NULL ELSE TRIM(@RAMOATIVIDADE) END\r\n",
                "    \r\n",
                "    --CRIANDO O CODCLIENTEREDE E CLIENTEREDE\r\n",
                "    DECLARE @CODCLIENTEREDE NVARCHAR(10) = \r\n",
                "        CASE\r\n",
                "            WHEN @REDE IS NULL THEN ('C' + CONVERT(NVARCHAR(4), @CODCLIENTE))\r\n",
                "            ELSE ('R' + CONVERT(NVARCHAR(4), @CODREDE))\r\n",
                "        END\r\n",
                "    \r\n",
                "    DECLARE @CLIENTEREDE NVARCHAR(70) = \r\n",
                "        CASE\r\n",
                "            WHEN @REDE IS NULL THEN ( @CODCLIENTEREDE + ' - ' + @CLIENTE )\r\n",
                "            ELSE ( @CODCLIENTEREDE + ' - ' + @REDE )\r\n",
                "        END\r\n",
                "\r\n",
                "    IF EXISTS (SELECT 1 FROM CLIENTE WHERE CODCLIENTE = @CODCLIENTE)\r\n",
                "    BEGIN\r\n",
                "        UPDATE CLIENTE\r\n",
                "            SET CLIENTE = @CLIENTE,\r\n",
                "                CODCLIENTEREDE = @CODCLIENTEREDE,\r\n",
                "                CLIENTEREDE = @CLIENTEREDE,\r\n",
                "                CNPJ = @CNPJ,\r\n",
                "                CEP = @CEP,\r\n",
                "                UF = @UF,\r\n",
                "                CODVENDEDOR = @CODVENDEDOR,\r\n",
                "                CODPRACA = @CODPRACA,\r\n",
                "                PRACA = @PRACA,\r\n",
                "                CODATIVIDADE = @CODATIVIDADE,\r\n",
                "                RAMOATIVIDADE = @RAMOATIVIDADE,\r\n",
                "                BLOQUEIODEFINITIVO = @BLOQUEIODEFINITIVO,\r\n",
                "                BLOQUEIOATUAL = @BLOQUEIOATUAL,\r\n",
                "                LIMITECREDITO = @LIMITECREDITO,\r\n",
                "                DTUPDATE = @DTUPDATE\r\n",
                "          WHERE CODCLIENTE = @CODCLIENTE\r\n",
                "    END\r\n",
                "    ELSE \r\n",
                "    BEGIN\r\n",
                "        INSERT INTO CLIENTE (\r\n",
                "            CODCLIENTE,\r\n",
                "            CODCLIENTEREDE,\r\n",
                "            CLIENTEREDE,\r\n",
                "            CNPJ,\r\n",
                "            CEP,\r\n",
                "            UF,\r\n",
                "            CODVENDEDOR,\r\n",
                "            CODPRACA,\r\n",
                "            PRACA,\r\n",
                "            CODATIVIDADE,\r\n",
                "            RAMOATIVIDADE,\r\n",
                "            BLOQUEIODEFINITIVO,\r\n",
                "            BLOQUEIOATUAL,\r\n",
                "            LIMITECREDITO,\r\n",
                "            DTUPDATE)\r\n",
                "    VALUES (\r\n",
                "            @CODCLIENTE,\r\n",
                "            @CODCLIENTEREDE,\r\n",
                "            @CLIENTEREDE,\r\n",
                "            @CNPJ,\r\n",
                "            @CEP,\r\n",
                "            @UF,\r\n",
                "            @CODVENDEDOR,\r\n",
                "            @CODPRACA,\r\n",
                "            @PRACA,\r\n",
                "            @CODATIVIDADE,\r\n",
                "            @RAMOATIVIDADE,\r\n",
                "            @BLOQUEIODEFINITIVO,\r\n",
                "            @BLOQUEIOATUAL,\r\n",
                "            @LIMITECREDITO,\r\n",
                "            @DTUPDATE)                          \r\n",
                "    END\r\n",
                "END"
            ],
            "metadata": {
                "azdata_cell_guid": "129c83af-dce9-4880-bded-0dc8ad03030b",
                "language": "sql",
                "tags": [
                    "hide_input"
                ]
            },
            "outputs": [],
            "execution_count": null
        },
        {
            "cell_type": "code",
            "source": [
                "CREATE OR ALTER PROCEDURE SP_RETORNA_CLIENTE\r\n",
                "    @CODCLIENTE INT\r\n",
                "AS\r\n",
                "BEGIN    \r\n",
                "    IF EXISTS (SELECT 1 FROM CLIENTE WHERE CODCLIENTE = @CODCLIENTE)\r\n",
                "\tSELECT FORMAT(DTUPDATE, 'yyyy-MM-dd HH:mm:ss') DTUPDATE FROM CLIENTE WHERE CODCLIENTE = @CODCLIENTE\r\n",
                "END"
            ],
            "metadata": {
                "azdata_cell_guid": "70ef1dcb-32e2-4a2b-95da-214734f786bc",
                "language": "sql"
            },
            "outputs": [
{
    "output_type": "display_data",
    "data": {
        "text/html": "Commands completed successfully."
    },
    "metadata": {}
}, {
    "output_type": "display_data",
    "data": {
        "text/html": "Total execution time: 00:00:00.013"
    },
    "metadata": {}
}
],
            "execution_count": 2
        },
        {
            "cell_type": "code",
            "source": [
                "SELECT * FROM CLIENTE"
            ],
            "metadata": {
                "language": "sql",
                "azdata_cell_guid": "bf167147-ca64-40aa-a2fe-058d0b33c1c8"
            },
            "outputs": [
                {
                    "output_type": "display_data",
                    "data": {
                        "text/html": "(0 rows affected)"
                    },
                    "metadata": {}
                },
                {
                    "output_type": "display_data",
                    "data": {
                        "text/html": "Total execution time: 00:00:00.013"
                    },
                    "metadata": {}
                },
                {
                    "output_type": "execute_result",
                    "metadata": {},
                    "execution_count": 1,
                    "data": {
                        "application/vnd.dataresource+json": {
                            "schema": {
                                "fields": [
                                    {
                                        "name": "CodCliente"
                                    },
                                    {
                                        "name": "Cliente"
                                    },
                                    {
                                        "name": "CodClienteRede"
                                    },
                                    {
                                        "name": "ClienteRede"
                                    },
                                    {
                                        "name": "CNPJ"
                                    },
                                    {
                                        "name": "CEP"
                                    },
                                    {
                                        "name": "UF"
                                    },
                                    {
                                        "name": "CodVendedor"
                                    },
                                    {
                                        "name": "CodPraca"
                                    },
                                    {
                                        "name": "Praca"
                                    },
                                    {
                                        "name": "CodAtividade"
                                    },
                                    {
                                        "name": "RamoAtividade"
                                    },
                                    {
                                        "name": "BloqueioDefinitivo"
                                    },
                                    {
                                        "name": "BloqueioAtual"
                                    },
                                    {
                                        "name": "LimiteCredito"
                                    },
                                    {
                                        "name": "DtUpdate"
                                    }
                                ]
                            },
                            "data": []
                        },
                        "text/html": [
                            "<table>",
                            "<tr><th>CodCliente</th><th>Cliente</th><th>CodClienteRede</th><th>ClienteRede</th><th>CNPJ</th><th>CEP</th><th>UF</th><th>CodVendedor</th><th>CodPraca</th><th>Praca</th><th>CodAtividade</th><th>RamoAtividade</th><th>BloqueioDefinitivo</th><th>BloqueioAtual</th><th>LimiteCredito</th><th>DtUpdate</th></tr>",
                            "</table>"
                        ]
                    }
                }
            ],
            "execution_count": 1
        }
    ]
}