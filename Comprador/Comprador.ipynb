{
    "metadata": {
        "kernelspec": {
            "name": "SQL",
            "display_name": "SQL",
            "language": "sql"
        },
        "language_info": {
            "name": "sql",
            "version": ""
        }
    },
    "nbformat_minor": 2,
    "nbformat": 4,
    "cells": [
        {
            "cell_type": "markdown",
            "source": [
                "# **Tabela Comprador**"
            ],
            "metadata": {
                "azdata_cell_guid": "54508c0f-1a1b-4840-be4c-408ed4a565d4"
            },
            "attachments": {}
        },
        {
            "cell_type": "code",
            "source": [
                "CREATE OR ALTER PROCEDURE SP_CARREGA_COMPRADOR \r\n",
                "    @CODCOMPRADOR SMALLINT,\r\n",
                "    @COMPRADOR NVARCHAR(15)\r\n",
                "AS\r\n",
                "BEGIN\r\n",
                "    DECLARE @DTUPDATE DATETIME = DATEADD(hour, -3, GETUTCDATE())\r\n",
                "    SET @COMPRADOR = CASE WHEN @COMPRADOR = 'NULL' THEN NULL ELSE TRIM(@COMPRADOR) END\r\n",
                "    \r\n",
                "    IF EXISTS (SELECT 1 FROM COMPRADOR WHERE CODCOMPRADOR = @CODCOMPRADOR)\r\n",
                "    BEGIN\r\n",
                "        UPDATE COMPRADOR \r\n",
                "        SET COMPRADOR = @COMPRADOR, DTUPDATE = @DTUPDATE \r\n",
                "        WHERE CODCOMPRADOR = @CODCOMPRADOR\r\n",
                "    END\r\n",
                "    ELSE\r\n",
                "    BEGIN\r\n",
                "        INSERT INTO COMPRADOR (CODCOMPRADOR, COMPRADOR, DTUPDATE)\r\n",
                "        VALUES (@CODCOMPRADOR, @COMPRADOR,  @DTUPDATE)\r\n",
                "    END\r\n",
                "END"
            ],
            "metadata": {
                "azdata_cell_guid": "87dc0cec-960f-4437-8d33-4b993af70a7d",
                "language": "sql"
            },
            "outputs": [
                {
                    "output_type": "display_data",
                    "data": {
                        "text/html": "Commands completed successfully."
                    },
                    "metadata": {}
                },
                {
                    "output_type": "display_data",
                    "data": {
                        "text/html": "Total execution time: 00:00:00.016"
                    },
                    "metadata": {}
                }
            ],
            "execution_count": 1
        },
        {
            "cell_type": "code",
            "source": [
                "CREATE OR ALTER PROCEDURE SP_RETORNA_COMPRADOR\r\n",
                "    @CODCOMPRADOR SMALLINT\r\n",
                "AS\r\n",
                "BEGIN\r\n",
                "    IF EXISTS (SELECT 1 FROM COMPRADOR WHERE CODCOMPRADOR = @CODCOMPRADOR)\r\n",
                "    BEGIN\r\n",
                "        SELECT FORMAT(DTUPDATE, 'yyyy-MM-dd HH:mm:ss') DTUPDATE FROM COMPRADOR WHERE CODCOMPRADOR = @CODCOMPRADOR\r\n",
                "    END\r\n",
                "END"
            ],
            "metadata": {
                "language": "sql",
                "azdata_cell_guid": "c0b83531-fbb3-4a5b-89d8-cb3e8f231ed9"
            },
            "outputs": [
                {
                    "output_type": "display_data",
                    "data": {
                        "text/html": "Commands completed successfully."
                    },
                    "metadata": {}
                },
                {
                    "output_type": "display_data",
                    "data": {
                        "text/html": "Total execution time: 00:00:00.013"
                    },
                    "metadata": {}
                }
            ],
            "execution_count": 2
        },
        {
            "cell_type": "code",
            "source": [
                "SELECT * FROM COMPRADOR"
            ],
            "metadata": {
                "language": "sql",
                "azdata_cell_guid": "17d66a92-3a50-49ee-b9ee-2f7b8c3814e3"
            },
            "outputs": [
{
    "output_type": "display_data",
    "data": {
        "text/html": "(0 rows affected)"
    },
    "metadata": {}
}, {
    "output_type": "display_data",
    "data": {
        "text/html": "Total execution time: 00:00:00.011"
    },
    "metadata": {}
}, {
    "output_type": "execute_result",
    "metadata": {},
    "execution_count": 3,
    "data": {
        "application/vnd.dataresource+json": {
            "schema": {
                "fields": [
                    {
                        "name": "CodComprador"
                    },
                    {
                        "name": "Comprador"
                    },
                    {
                        "name": "DtUpdate"
                    }
                ]
            },
            "data": []
        },
        "text/html": [
            "<table>",
            "<tr><th>CodComprador</th><th>Comprador</th><th>DtUpdate</th></tr>",
            "</table>"
        ]
    }
}
],
            "execution_count": 3
        }
    ]
}